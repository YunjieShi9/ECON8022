{
 "cells": [
  {
   "cell_type": "markdown",
   "metadata": {},
   "source": [
    "### Key Learning Points\n",
    "\n",
    "* Applying recursive competitive equilibrium (under rational expectations), or RCE concept in two well-known models in macro\n",
    "\n",
    "* Connecting RCE concept to dynamic programming and Euler functional equations\n",
    "\n",
    "    * Application to a real business cycle model\n",
    "    \n",
    "    * Extension/modification of RBC towards a popular New Keynesian monetary-policy framework\n",
    "\n",
    "* Solving special-case, linear approximation of (first-order perturbation about a steady state solution) Euler functional equation\n",
    "\n",
    "    * Equivalently, solving a system of forward looking and backward looking difference equations (DEs)\n",
    "    \n",
    "    * Eigenvalue-eigenvector decomposition and connection to saddle-path stable equilibrium dynamics:\n",
    "    \n",
    "        * forward-looking DEs without initial condition are connected to unstable eigenvalues\n",
    "        \n",
    "        * backward-looking DEs with initial conditions are connect to stable eigenvalue\n",
    "        \n",
    "        * Earlier lessons from reduced-from rational expectations macroeconometric models (see Dornbusch 1976 as example)\n",
    "        \n",
    "        * Same techniques adapted to solving stochastic (linearized) Euler functional systems arising from RCE (e.g. in RBC and NK models)\n",
    "\n",
    "\n",
    "\n",
    "* Connection between model solution and a time-series data generating process"
   ]
  },
  {
   "cell_type": "code",
   "execution_count": 1,
   "metadata": {},
   "outputs": [],
   "source": [
    "import numpy as np\n",
    "import matplotlib.pyplot as plt\n",
    "import pandas\n",
    "import warnings\n",
    "\n",
    "%matplotlib inline"
   ]
  },
  {
   "cell_type": "markdown",
   "metadata": {},
   "source": [
    "## Problem 1 (RBC with labor disutility)\n",
    "\n",
    "Consider a real business cycle model. Let $C$ be consumption, $N$ be labor hours, $K$ be capital stock, $Y$ be output and $A$ be exogenous total factor productivity. When we write $X_{t}$, we mean $X_{t} := X(K_{t}, A_{t})$ (i.e, a time-invariant function of relevant aggregate states). \n",
    "\n",
    "Our model economy consists of a measure-1 population identical agents (so aggregate outcomes also have the interpretation of average outcomes). \n",
    "\n",
    "The representative agent's preference is described by\n",
    "$$\n",
    "\\mathbb{E}_{0} \\sum_{t=0}^{\\infty} \\beta^{t} \\left( \\ln C_{t} - \\eta N_{t} \\right).\n",
    "$$\n",
    "\n",
    "The resource and technological constraint in this economy is given by\n",
    "$$\n",
    "C_{t} + K_{t+1} = Y_{t} + (1-\\delta)K_{t}\n",
    "$$\n",
    "$$\n",
    "Y_{t} = A_{t} K_{t}^{\\alpha}N_{t}^{1-\\alpha}\n",
    "$$\n",
    "$$\n",
    "A_{t} = A_{ss}^{1-\\rho}A_{t-1}^{\\rho}\\exp\\{s_{t}\\},\n",
    "$$\n",
    "where $\\delta, \\alpha, \\rho, \\beta \\in (0,1)$, $A_{ss}$ and $\\eta$ are positive-valued, and $s_{t} \\sim \\text{i.i.d.}(0,\\sigma^{2})$. \n",
    "\n",
    "The exogenous random state $A_{t}$ is realized at the beginning of period $t$ and $K_{t+1}$ is determined thereafter in period $t$.\n",
    "\n",
    "Note: Since $A$ is the only source of aggregate risk in the economy, the expectations operator is an integral operator with respect to the conditional distribution of $A_{t}$, given $A_0$ ---i.e., $\\mathbb{E}_0 := \\mathbb{E}\\{\\cdot | A_{0}\\}$. Also $A_{t}$ is a Markov process.\n",
    "\n",
    "\n"
   ]
  },
  {
   "cell_type": "markdown",
   "metadata": {},
   "source": [
    "### Question 1.1\n",
    "\n",
    "Write down the social planner's Bellman equation."
   ]
  },
  {
   "cell_type": "markdown",
   "metadata": {},
   "source": [
    "#### Answer\n",
    "\n",
    "Let $X := X_{t}$ and $X_{+1} := X_{t+1}$ for any variable $X$.\n",
    "\n",
    "Let the feasible action correspondence be\n",
    "\n",
    "$$\n",
    "\\Gamma(K,A) := \\left\\{ (K',N) \\in \\mathbb{R}_{+}^{2} : K' \\in [0,A_{t} K^{\\alpha}N^{1-\\alpha} + (1-\\delta)K] \\right\\}.\n",
    "\\tag{1.1}\n",
    "$$\n",
    "\n",
    "The planner's Bellman equation is\n",
    "\n",
    "$$\n",
    "V(K, A) = \\max_{(K_{+1}, N) \\in \\Gamma(K,A)} \\left\\{ \\ln\\left[A K^{\\alpha}N^{1-\\alpha} + (1-\\delta)K - K_{+1}\\right] - \\eta N + \\beta \\mathbb{E}\\left[ V(K_{+1}, A_{+1})| A \\right] \\right\\}.\n",
    "\\tag{1.2}\n",
    "$$\n"
   ]
  },
  {
   "cell_type": "markdown",
   "metadata": {},
   "source": [
    "### Question 1.2\n",
    "\n",
    "Characterized the optimal allocations under the social planner' problem."
   ]
  },
  {
   "cell_type": "markdown",
   "metadata": {},
   "source": [
    "#### Answer\n",
    "\n",
    "Given an initial state $(K,A)$, a *social optimum* is a social value function $(K,A) \\mapsto V(K,A)$ and a $\\mathbb{R}_{+}^{2}$-valued allocation function $(K,A) \\mapsto g(K,A)$---i.e., where $g = (g_{K}, g_{N})$---such that for every current state $(K,A)$:\n",
    "$$\n",
    "g(K, A) = \\text{arg}\\max_{(K_{+1}, N) \\in \\Gamma(K,A)} \\left\\{ \\ln\\left[A K^{\\alpha}N^{1-\\alpha} + (1-\\delta)K - K_{+1}\\right] - \\eta N + \\beta \\mathbb{E}\\left[ V(K_{+1}, A_{+1})| A \\right] \\right\\}.\n",
    "$$\n",
    "and,\n",
    "$$\n",
    "V(K, A) = \\ln\\left[A K^{\\alpha}(N^\\star)^{1-\\alpha} + (1-\\delta)K - K^{\\star}_{+1}\\right] - \\eta (N^\\star) + \\beta \\mathbb{E}\\left[ V(K^{\\star}_{+1}, A_{+1})| A \\right],\n",
    "$$\n",
    "where\n",
    "* $K_{+1}^{\\star}= g_{K}(K,A)$\n",
    "* $N^{\\star} = g_{N}(K,A)$\n",
    "\n",
    "\n"
   ]
  },
  {
   "cell_type": "markdown",
   "metadata": {},
   "source": [
    "For given $(K,A)$, the following necessary (and sufficient, because the math programming problem is convex) conditions characterize this optimum:\n",
    "\n",
    "* Resource feasibility:\n",
    "    $$\n",
    "    C^{\\star} = A K^{\\alpha}(N^\\star)^{1-\\alpha} + (1-\\delta)K - K^{\\star}_{+1}.\n",
    "    $$\n",
    "* Labor allocation:\n",
    "    $$\n",
    "    (1-\\alpha) A \\left(\\frac{K}{N^\\star}\\right)^{\\alpha} = \\frac{\\eta}{(C^{\\star})^{-1}}.\n",
    "    $$\n",
    "\n",
    "    * This says that a socially optimal labor allocation would equate the marginal productivity of labor (LHS) to the marginal rate of substitution between labor and consumption (RHS).\n",
    "    \n",
    "    * The planner internalizes the market return of labor services and equates that to preference-driven opportunity cost of leisure.\n",
    "\n",
    "* Capital allocation:\n",
    "    $$\n",
    "    \\frac{1}{C^{\\star}} + \\beta \\mathbb{E}\\left[ V_{K}(K^{\\star}_{+1}, A_{+1})| A \\right],\n",
    "    $$\n",
    "    where the envelop condition (marginal value of wealth) is\n",
    "    $$\n",
    "    V_{K}(K_{+1}^{\\star}, A_{+1}) = \\frac{1}{C^{\\star}_{+1}}\\left[ \\alpha A \\left(\\frac{K_{+1}^{\\star}}{N_{+1}^{\\star}}\\right)^{\\alpha-1} + (1-\\delta)\\right]\n",
    "    $$\n",
    "    almost everywhere, i.e., for all measurable continuation states $(K_{+1}^{\\star}, A_{+1})$. These two conditions give you the consumer's Euler equation.\n",
    "   "
   ]
  },
  {
   "cell_type": "markdown",
   "metadata": {},
   "source": [
    "### Question 1.3\n",
    "\n",
    "Suppose now the planner does not exist and the allocation procedure is determined through a centralized Walrasian market. There is the representative household that owns labor and capital, who rents it to a competitive firm via competitive factor markets. The firm produces an output that can be either consumed or invested into more capital by the household.\n",
    "\n",
    "* Distinguish between individual state variables and aggregate state variables. What are these, respectively? Hint: Use the little-$k$ vs big-$K$ convention.\n",
    "\n",
    "* Be precise about the dependency of variables of the notion of state variables. Write down the household Bellman equation and characterize its optimal contingent plan.\n",
    "\n",
    "* Define the firm's optimization problem and characterize its optimal contingent plan.\n",
    "\n",
    "* Define a *recursive* competitive equilibrium (with rational expectations) for this economy."
   ]
  },
  {
   "cell_type": "markdown",
   "metadata": {},
   "source": [
    "#### Answer\n",
    "\n",
    "**Household problem**\n",
    "\n",
    "Denote the sequential budget constraint as:\n",
    "$$\n",
    "c + a_{+1}  \\leq [r(K, A) + (1-\\delta)]a + w(K,A)n.\n",
    "\\tag{SBC}\n",
    "$$\n",
    "\n",
    "Households take relative prices on labor and capital, $w(K,A)$ and $r(K,A)$ as given. Given the aggregate states, they need to forecast the future aggregate states to calculate expected future payoff (i.e., continuation value). Let the following mapping $G$ denote the household's perceived law of motion (PLM) for the aggregate state:\n",
    "$$\n",
    "(K_{+1}, A_{+1}) = G(K, A).\n",
    "\\tag{PLM}\n",
    "$$\n",
    "\n",
    "The household solves\n",
    "\n",
    "$$\n",
    "v(a, K, A) = \\max_{c, n, a_{+1}} \\left\\{ \\ln (c) - \\eta n + \\beta \\mathbb{E}\\left[ v(a_{+1}, K_{+1}, A_{+1})| A \\right] : \\text{(SBC) and (PLM)} \\right\\}\n",
    "$$\n",
    "\n",
    "for any given $(a,K,A)$.\n",
    "\n",
    "The following derivations characterize an optimal plan for the household, given aggregate prices:\n",
    "\n",
    "* Optimal effort (hours):\n",
    "    $$\n",
    "    \\eta c = w(K,A)\n",
    "    \\tag{Labor supply}\n",
    "    $$\n",
    "    \n",
    "* Optimal saving:\n",
    "    $$\n",
    "    1 = \\beta \\mathbb{E}\\left\\{ \\frac{c}{c_{+1}} R(K_{+1},N_{+1})| A\\right\\}\n",
    "    \\tag{Capital supply}\n",
    "    $$\n",
    "    \n",
    "* Feasibility:\n",
    "    $$\n",
    "    c + a_{+1}  = R(K,A)a + w(K,A)n\n",
    "    \\tag{SBC}\n",
    "    $$\n",
    "\n",
    "where we have written\n",
    "    $$\n",
    "    R(K,A) := [r(K, A) + (1-\\delta)].\n",
    "    $$\n",
    " \n",
    "So, if we had solved the household DP problem or equivalently the Euler equation system, we can work out the household's optimal (stationary Markovian) decision function, $d$:\n",
    "$$\n",
    "(c, n, a_{+1}) = d(a, K, A).\n",
    "$$"
   ]
  },
  {
   "cell_type": "markdown",
   "metadata": {},
   "source": [
    "**Firm's problem**\n",
    "\n",
    "The price-taking representative firms hire aggregate capital and labor services, respectively $K$ and $N$ to maximize profit. \n",
    "\n",
    "The firm's problem is\n",
    "$$\n",
    "\\max_{K,N} A K^{\\alpha}N^{1-\\alpha} - r(K,A)K - w(K,A)N\n",
    "$$\n",
    "each period.\n",
    "\n",
    "Thus the firm's optimal production plan is described by two static decision functions, implicit in these FOCs:\n",
    "\n",
    "* Optimal labor demand:\n",
    "    $$\n",
    "    w(K,N) = (1-\\alpha)A \\left(\\frac{K}{N}\\right)^{\\alpha}\n",
    "    \\tag{Labor demand}\n",
    "    $$\n",
    "    \n",
    "* Optimal capital demand:\n",
    "    $$\n",
    "    r(K,N) = \\alpha A \\left(\\frac{K}{N}\\right)^{\\alpha-1}\n",
    "    \\tag{Capital demand}\n",
    "    $$"
   ]
  },
  {
   "cell_type": "markdown",
   "metadata": {},
   "source": [
    "\n",
    "\n",
    "**Market clearing**\n",
    "\n",
    "* Goods:\n",
    "    $$\n",
    "    C + K_{+1} - (1-\\delta)K = A K^{\\alpha}N^{1-\\alpha}\n",
    "    \\tag{Goods clearing}\n",
    "    $$\n",
    "\n",
    "* Labor: (Labor supply) = (Labor demand). This gives a (Labor clearing) condition.\n",
    "\n",
    "**Rational expectations consistency of actions and beliefs**\n",
    "\n",
    "The PLM $G(K, A)$ is governed by\n",
    "\n",
    "* $K_{+1} = (1-\\delta)K + A K^{\\alpha}N^{1-\\alpha} - C$\n",
    "\n",
    "* $A_{t} = A_{ss}^{1-\\rho}A_{t-1}^{\\rho}\\exp\\{s_{t}\\}$ and $s_{t} \\sim \\text{i.i.d.}(0,\\sigma^{2})$\n",
    "\n",
    "Or equivalently, we require an aggregate policy function $D(K,A)$ to be described by\n",
    "\n",
    "* $K = \\int_{0}^{1} a \\text{d}i = a$\n",
    "\n",
    "* $C = \\int_{0}^{1} c \\text{d}i = c$\n",
    "\n",
    "* $N = \\int_{0}^{1} n \\text{d}i = n$\n",
    "\n",
    "where the representative agent assumption (with constant population of size 1) is tantamount to saying individuals' actions are uniformly distributed $[0,1]$. That's why we can invoke the $K=a$ condition here. \n",
    "\n",
    "(Note: The last statement would not be true in an heterogeneous agent model, as e.g., the equilibrium-determined distribution of individual assets is not uniform. Check out our final lecture!)\n"
   ]
  },
  {
   "cell_type": "markdown",
   "metadata": {},
   "source": [
    "\n",
    "\n",
    "**DEFINITION**. A (rational expectations) *recursive competitive equilibrium* (RCE) is \n",
    "* a value function $(a,K,A) \\mapsto v(a,K,A)$ \n",
    "* an individual policy function $(a,K,A) \\mapsto d(a,K,A)$ inducing outcomes $(c,n,a_{+1})$\n",
    "* an aggregate policy function $(K,A) \\mapsto D(K,A)$ inducing outcomes $(C,N,K_{+1})$\n",
    "* pricing functions \n",
    "    * $(K,A) \\mapsto R(K,A)$ \n",
    "    * $(K,A) \\mapsto w(K,A)$\n",
    "\n",
    "satisfying:\n",
    "1. The household Bellman equation, which implies (Consumption demand), (Labor supply) and (Capital supply)\n",
    "2. Firm's profit maximization, which implies (Labor demand) and (Capital demand)\n",
    "3. Market clearing: (Goods clearing) and (Labor clearing)\n",
    "4. Consistency between individual actions and aggregate actions: $d(a,K,A) = D(K,A)$. [NB: Equivalently, (PLM) $G(K,A)$ coincides with the actual law of motion of $(K,A)$.]\n",
    "\n",
    "\n",
    "This definition just gives us the complete set of simultaneous (functional) equations solving for the same set unknowns (i.e., allocation and pricing functions). But these are just \"derive the demand and supply functions and impose demand-equals-supply conditions for each market\".\n"
   ]
  },
  {
   "cell_type": "markdown",
   "metadata": {},
   "source": [
    "### Question 1.4\n",
    "\n",
    "*The purpose of this exercise is for you to learn first-hand how the linear perturbation technique works for a small problem which can be solved by hand. For bigger models there are canned software like [DYNARE](https://www.dynare.org/) (Matlab based) or [DOLO](https://github.com/EconForge/dolo) (Python and Julia based).*\n",
    "\n",
    "Use the log-linear first-order perturbation approximation technique to approximate the conditions characterizing a recursive competitive equilibrium.\n",
    "\n",
    "* Write down the original nonlinear model's equilibrium conditions at the deterministic steady state. Then solve for the equilibrium capital-labor ratio ($K_{ss}/N_{ss}$), consumption level ($C_{ss}$), capital stock ($K_{ss}$), and employment ($N_{ss}$), at the non-stochastic steady state.\n",
    "\n",
    "* Define the percentage deviation of a variable $X$ from its deterministic steady state point as $\\hat{x}_{t} = \\ln(X_{t}) - \\ln(X_{ss})$. From the RCE conditions you may have linear sums of nonlinear functionals. Take a first-order Taylor series approximation of these separate nonlinear functionals and express the resulting log-linearized functional equation system in terms of variables in percentage deviations from steady state.\n",
    "\n",
    "    (Hint: You may invoke the fundamental welfare theorem and solve the planner's allocation first, and then construct equilibrium pricing functions afterward. See [these notes for an example](https://www.dropbox.com/s/jwhscnvsojpdp1h/08rbclinear.pdf?dl=0).) \n",
    "\n"
   ]
  },
  {
   "cell_type": "markdown",
   "metadata": {},
   "source": [
    "#### Answer\n",
    "\n",
    "*Comment*: \n",
    "\n",
    "* We have previously solved the planner's DP problem in a version of RBC using nonlinear, *global* methods. We did that by solving the Bellman operator, and alternatively, we also solved its corresponding Euler operator to get the policy function. \n",
    "\n",
    "* Here we're going back to the early 1980s where computing power was limited. This method is the same as solving the Euler operator (and its related system of equations), except we solve its auxiliary version: a locally-accurate polynomial (here, first-order) approximation of the original nonlinear conditions in the Euler equation system. As a result, the local approximant for the decision function will also be polynomial (here, linear) in the state variables. \n",
    "\n",
    "* Instead of taking a literal linear approximation, we do a transform and write it down as a log-linear system, since interpretation-wise, we can measure the outcomes as percentage deviations from some reference point (here, the deterministic steady state of the model).\n",
    "\n",
    "* Linearized systems are useful as a first pass to help us understand the (local) dynamic behavior of a complicated model. Humans tend to understand linear relationships better. Also, econometrically, if one were to estimate such model, say using maximum likehood (ML) or Bayesian model posterior sampling, one has to solve the model very quickly, over and over (typically millions of times) as one searches for the ML estimator or the Bayesian posterior estimator. Solving a linearized system is fast: it typically requires just a few microseconds on a notebook computer."
   ]
  },
  {
   "cell_type": "markdown",
   "metadata": {},
   "source": [
    "*Step 1*. Collect RCE and simplify.\n",
    "\n",
    "From the RCE definition, we can reduce the RCE system down to this below:\n",
    "* Capital supply:\n",
    "    $$\n",
    "    C^{-1} = \\beta \\mathbb{E}\\left\\{ C_{+1}^{-1}  R_{+1} \\bigg{|} A \\right\\}\n",
    "    \\tag{Capital clearing}\n",
    "    $$\n",
    "    \n",
    "* Capital demand:\n",
    "    $$\n",
    "    R = \\alpha A \\left(\\frac{K}{N}\\right)^{\\alpha-1} + (1 - \\delta)\n",
    "    \\tag{Capital demand}\n",
    "    $$\n",
    "\n",
    "* Goods market clearing:\n",
    "    $$\n",
    "    C + K_{+1} - (1-\\delta)K = A K^{\\alpha}N^{1-\\alpha}\n",
    "    \\tag{Goods clearing}\n",
    "    $$\n",
    "\n",
    "* Labor market clearing:\n",
    "    $$\n",
    "    \\eta C = (1-\\alpha)A \\left(\\frac{K}{N}\\right)^{\\alpha}\n",
    "    \\tag{Labor clearing}\n",
    "    $$\n",
    "\n",
    "This system solves for the unknown RCE policy function\n",
    "$$\n",
    "(C,N,K_{+1}) = G(K,A).\n",
    "\\tag{RCE solution}\n",
    "$$"
   ]
  },
  {
   "cell_type": "markdown",
   "metadata": {},
   "source": [
    "*Step 2*. Define a reference point.\n",
    "\n",
    "In this model, we have a unique *non-stochastic steady state*. (Why unique? Prove it!) So let's use that as the reference point, around which we will be analyzing the model's *local* dynamics. So \"local\" here refers to within a small neighborhood of the reference point.\n",
    "\n",
    "A deterministic steady state equilibrium is one where the state is at a constant and not random. (This is an \"as-if\" idea of an equilibrium free of shocks and motion.) Here, the steady state equilibrium is given by these conditions (embedding optimal responses):\n",
    "\n",
    "* Capital market clearing:\n",
    "    $$\n",
    "    1 = \\beta \\left[\\alpha A \\left(\\frac{K}{N}\\right)^{\\alpha-1} +(1-\\delta)\\right]\n",
    "    $$\n",
    "\n",
    "* Goods market clearing:\n",
    "    $$\n",
    "    C + \\delta K = A K^{\\alpha}N^{1-\\alpha}\n",
    "    $$\n",
    "\n",
    "* Labor market clearing:\n",
    "    $$\n",
    "    \\eta C = (1-\\alpha)A \\left(\\frac{K}{N}\\right)^{\\alpha}\n",
    "    $$\n",
    "\n",
    "This system solves for the unknown steady state equilibrium fixed point in $\\mathbb{R}^{3}$:\n",
    "$$\n",
    "(C_{ss},N_{ss},K_{ss}) = G(K_{ss},A_{ss}).\n",
    "$$\n",
    "\n",
    "In this instance, we can solve the conditions above by hand given model parameters. (We'll figure out how to estimate and calibrate the parameters below!)\n"
   ]
  },
  {
   "cell_type": "markdown",
   "metadata": {},
   "source": [
    "*Step 3*. Obtain auxiliary RCE conditions - the (log)-linearized version of the original nonlinear RCE system.\n",
    "\n",
    "Let $\\hat{x} := \\ln(X/X_{ss}) \\approx \\frac{X - X_{ss}}{X_{ss}}$, where the perturbation about $X_{ss}$ is \"small\". Also, note that $\\mathbb{E}_{t} := \\mathbb{E}[\\cdot | \\hat{a}_{t}]$.\n",
    "\n",
    "We linearize each linearly separable non-linear term in the RCE conditions separately (and \"inside\" the expectations/integral operator, which is a linear operator). Let's start with (Capital clearing):\n",
    "$$\n",
    "-C_{ss}\\hat{c}_{t} = \\mathbb{E}_{t} \\left\\{ -\\beta C_{ss}R_{ss}\\hat{c}_{t+1} + \\beta C_{ss}R_{ss}\\hat{r}_{t+1} \\right\\} +\\mathcal{O}(\\| \\hat{a}_{t} \\|^{2})\n",
    "$$\n",
    "\n"
   ]
  },
  {
   "cell_type": "markdown",
   "metadata": {},
   "source": [
    "(The last term just says approximation error from ignored second-order and higher terms.) Since from the steady-state Euler condition we have the restriction $\\beta R_{ss} = 1$, then the above simplifies to\n",
    "$$\n",
    "-\\hat{c}_{t} \\approx \\mathbb{E}_{t} \\left\\{ -\\hat{c}_{t+1} + \\hat{r}_{t+1} \\right\\}\n",
    "$$\n",
    "where\n",
    "$$\n",
    "R_{ss} = \\alpha \\frac{Y_{ss}}{K_{ss}} + (1-\\delta).\n",
    "$$\n",
    "\n",
    "From (Capital demand), we can derive:\n",
    "$$\n",
    "\\begin{split}\n",
    "R_{ss}\\hat{r}_{t} &\\approx \\alpha \\left(\\frac{Y_{ss}}{K_{ss}}\\right)(\\hat{y}_{t} - \\hat{k}_{t})\n",
    "\\\\\n",
    "& = \\alpha \\left(\\frac{Y_{ss}}{K_{ss}}\\right)\\left[\\hat{a}_{t} - (1-\\alpha) \\left(\\hat{k}_{t} - \\hat{n}_{t}\\right)\\right]\n",
    "\\end{split}\n",
    "$$\n",
    "\n"
   ]
  },
  {
   "cell_type": "markdown",
   "metadata": {},
   "source": [
    "The final-good market clearing condition becomes:\n",
    "$$\n",
    "C_{ss}\\hat{c}_{t} + K_{ss}\\hat{k}_{t+1} - (1-\\delta)K_{ss}\\hat{k}_{t} \\approx Y_{ss}\\left[\\hat{a}_{t} + \\alpha \\hat{k}_{t} + (1-\\alpha)\\hat{n}_{t}\\right],\n",
    "$$\n",
    "where\n",
    "$$\n",
    "Y_{ss} = A_{ss} K_{ss}^{\\alpha}N_{ss}^{1-\\alpha}.\n",
    "$$\n",
    "\n",
    "Since the expression in the labor market clearing condition can be divided on both sides by its own version at a deterministic steady state, the following log-linear relation is exact (there is no approximation error from here):\n",
    "$$\n",
    "\\hat{c}_{t} = \\hat{a}_{t} + \\alpha\\left[\\hat{k}_{t} - \\hat{n}_{t}\\right].\n",
    "$$\n",
    "\n",
    "\n",
    "(Computationally, we will pretend for these log-linearized relations to hold at equality later!)"
   ]
  },
  {
   "cell_type": "markdown",
   "metadata": {},
   "source": [
    "### Question 1.5\n",
    "\n",
    "Show that the system you have just derived can be simplified to        \n",
    "$$\n",
    "\\left[\\begin{matrix}\\hat{k}_{t+1}\\\\ \\mathbb{E}_{t}\\hat{c}_{t+1}\\end{matrix}\\right]=\\mathbf{M}\\left[\\begin{matrix}\\hat{k}_{t}\\\\ \\hat{c}_{t}\\end{matrix}\\right]+\\mathbf{L}\\hat{a}_{t}.\n",
    "$$\n",
    "\n",
    "List what the elements of $\\mathbf{M}$ and $\\mathbf{L}$ are in terms of the deep parameters and steady-state ratios of variables. (Be careful with your algebra here because your numerical results depend on this.)\n"
   ]
  },
  {
   "cell_type": "markdown",
   "metadata": {},
   "source": [
    "#### Answer\n",
    "\n"
   ]
  },
  {
   "cell_type": "markdown",
   "metadata": {},
   "source": [
    "Eliminating $\\hat{n}_{t}$ and $\\hat{n}_{t+1}$ using the labor market clearing equation above, \n",
    "we have\n",
    "\n",
    "$$\n",
    "\\mathbb{E}_{t} \\left\\{ \\hat{c}_{t+1} \\right\\} \\approx \\left[1+(1-\\alpha)\\frac{\\beta Y_{ss}}{K_{ss}}\\right]^{-1}\\left[ \\hat{c}_{t}  + \\beta \\left( \\frac{Y_{ss}}{K_{ss}} \\right) \\rho \\hat{a}_{t} \\right]\n",
    "\\tag{LRCE-1}\n",
    "$$\n",
    "\n",
    "and\n",
    "\n",
    "$$\n",
    "\\hat{k}_{t+1}  \n",
    "\\approx \n",
    "\\left[(1-\\delta) + \\frac{Y_{ss}}{K_{ss}}\\right]\\hat{k}_{t}\n",
    "-\n",
    "\\left[ \\frac{C_{ss}}{K_{ss}} + \\frac{Y_{ss}}{K_{ss}}\\left(\\frac{1-\\alpha}{\\alpha}\\right)\\right]\\hat{c}_{t}\n",
    "+\n",
    "\\frac{Y_{ss}}{K_{ss}}\\left(\\frac{1}{\\alpha}\\right)\\hat{a}_{t}\n",
    "\\tag{LRCE-2}\n",
    "$$"
   ]
  },
  {
   "cell_type": "markdown",
   "metadata": {},
   "source": [
    "Now we proceed to put this into matrix form. You could do all this all by hand, but here let's check out ``SymPy``:"
   ]
  },
  {
   "cell_type": "code",
   "execution_count": 2,
   "metadata": {},
   "outputs": [],
   "source": [
    "# Do symbolic math\n",
    "from sympy import *\n",
    "# Render pretty math in SymPy\n",
    "init_printing() \n",
    "\n",
    "# Bind symbols - model parameters\n",
    "alpha = symbols('alpha')\n",
    "beta = symbols('beta')\n",
    "rho = symbols('rho')\n",
    "delta = symbols('delta')\n",
    "eta = symbols('eta')\n",
    "Y_ss = symbols('Y'+'_ss')\n",
    "K_ss = symbols('K'+'_ss')\n",
    "C_ss = symbols('C'+'_ss')\n",
    "params = Matrix([alpha, beta, rho, delta, eta, Y_ss, K_ss, C_ss])\n",
    "\n",
    "# Bind symbols  - variables - exogenous\n",
    "a = symbols('\\hat{a}')\n",
    "var_exog = Matrix([a])\n",
    "\n",
    "# Bind symbols  - variables - endogenous\n",
    "k = symbols('\\hat{k}')\n",
    "c = symbols('\\hat{c}')\n",
    "var_endo = Matrix([k, c])"
   ]
  },
  {
   "cell_type": "code",
   "execution_count": 3,
   "metadata": {},
   "outputs": [
    {
     "data": {
      "image/png": "[encoded data removed]",
      "text/latex": [
       "$$\\left ( \\left[\\begin{matrix}\\alpha\\\\\\beta\\\\\\rho\\\\\\delta\\\\\\eta\\\\Y_{ss}\\\\K_{ss}\\\\C_{ss}\\end{matrix}\\right], \\quad \\left[\\begin{matrix}\\hat{k}\\\\\\hat{c}\\end{matrix}\\right], \\quad \\left[\\begin{matrix}\\hat{a}\\end{matrix}\\right]\\right )$$"
      ],
      "text/plain": [
       "⎛⎡ α ⎤                      ⎞\n",
       "⎜⎢   ⎥                      ⎟\n",
       "⎜⎢ β ⎥                      ⎟\n",
       "⎜⎢   ⎥                      ⎟\n",
       "⎜⎢ ρ ⎥                      ⎟\n",
       "⎜⎢   ⎥                      ⎟\n",
       "⎜⎢ δ ⎥  ⎡\\hat{k}⎤           ⎟\n",
       "⎜⎢   ⎥, ⎢       ⎥, [\\hat{a}]⎟\n",
       "⎜⎢ η ⎥  ⎣\\hat{c}⎦           ⎟\n",
       "⎜⎢   ⎥                      ⎟\n",
       "⎜⎢Yₛₛ⎥                      ⎟\n",
       "⎜⎢   ⎥                      ⎟\n",
       "⎜⎢Kₛₛ⎥                      ⎟\n",
       "⎜⎢   ⎥                      ⎟\n",
       "⎝⎣Cₛₛ⎦                      ⎠"
      ]
     },
     "execution_count": 3,
     "metadata": {},
     "output_type": "execute_result"
    }
   ],
   "source": [
    "params, var_endo, var_exog"
   ]
  },
  {
   "cell_type": "code",
   "execution_count": 4,
   "metadata": {},
   "outputs": [
    {
     "data": {
      "image/png": "[encoded data removed]",
      "text/latex": [
       "$$\\left ( \\left[\\begin{matrix}- \\delta + 1 + \\frac{Y_{ss}}{K_{ss}} & - \\frac{C_{ss}}{K_{ss}} - \\frac{Y_{ss} \\left(- \\alpha + 1\\right)}{K_{ss} \\alpha}\\\\0.0 & \\frac{1.0}{1.0 + \\frac{Y_{ss} \\beta \\left(- \\alpha + 1\\right)}{K_{ss}}}\\end{matrix}\\right], \\quad \\left[\\begin{matrix}\\frac{Y_{ss}}{K_{ss} \\alpha}\\\\\\frac{1.0 Y_{ss} \\beta \\rho}{K_{ss} \\left(1.0 + \\frac{Y_{ss} \\beta \\left(- \\alpha + 1\\right)}{K_{ss}}\\right)}\\end{matrix}\\right]\\right )$$"
      ],
      "text/plain": [
       "⎛⎡         Yₛₛ    Cₛₛ   Yₛₛ⋅(-α + 1)⎤  ⎡           Yₛₛ            ⎤⎞\n",
       "⎜⎢-δ + 1 + ───  - ─── - ────────────⎥  ⎢          ─────           ⎥⎟\n",
       "⎜⎢         Kₛₛ    Kₛₛ      Kₛₛ⋅α    ⎥  ⎢          Kₛₛ⋅α           ⎥⎟\n",
       "⎜⎢                                  ⎥  ⎢                          ⎥⎟\n",
       "⎜⎢                      1.0         ⎥, ⎢       1.0⋅Yₛₛ⋅β⋅ρ        ⎥⎟\n",
       "⎜⎢    0.0       ────────────────────⎥  ⎢──────────────────────────⎥⎟\n",
       "⎜⎢                    Yₛₛ⋅β⋅(-α + 1)⎥  ⎢    ⎛      Yₛₛ⋅β⋅(-α + 1)⎞⎥⎟\n",
       "⎜⎢              1.0 + ──────────────⎥  ⎢Kₛₛ⋅⎜1.0 + ──────────────⎟⎥⎟\n",
       "⎝⎣                         Kₛₛ      ⎦  ⎣    ⎝           Kₛₛ      ⎠⎦⎠"
      ]
     },
     "execution_count": 4,
     "metadata": {},
     "output_type": "execute_result"
    }
   ],
   "source": [
    "# Resource constraint (LRCE-2)\n",
    "m11 = (1-delta) + Y_ss/K_ss\n",
    "m12 = - (C_ss/K_ss + (1-alpha)*Y_ss/(alpha*K_ss))\n",
    "\n",
    "# Euler equation (LRCE-1)\n",
    "m21 = 0.0\n",
    "m22 = 1.0/(1.0 + (1-alpha)*beta*(Y_ss/K_ss))\n",
    "\n",
    "# Our M matrix\n",
    "M = Matrix( [[m11, m12],\n",
    "             [m21, m22]] )\n",
    "\n",
    "# Noise term (LRCE-2)\n",
    "l11 = Y_ss/(alpha*K_ss)\n",
    "\n",
    "# Noise term (LRCE-1)\n",
    "l21 = m22*beta*rho*(Y_ss/K_ss)\n",
    "\n",
    "# Our L matrix\n",
    "L = Matrix([[l11], [l21]])\n",
    "\n",
    "# Display to screen\n",
    "M, L"
   ]
  },
  {
   "cell_type": "markdown",
   "metadata": {},
   "source": [
    "### Question 1.6\n",
    "\n",
    "Once you have populated $\\mathbf{M}$ and $\\mathbf{L}$ from the last section, solve the linear(ized) Euler functional equation system using the following linear decision functions as a guess for its fixed point solution:\n",
    "$$\n",
    "\\hat{k}_{t+1} = P\\hat{k}_{t} + Q\\hat{a}_{t}\n",
    "$$\n",
    "and\n",
    "$$\n",
    "\\hat{c}_{t} = R\\hat{k}_{t} + S\\hat{a}_{t}.\n",
    "$$\n",
    "A locally stable rational expectations equilibrium requires that $\\vert P \\vert \\lt 1$. Solve for $P$ and then $(Q, R, S)$. (Hint: $P$ will be a function of some deep parameter. You may leave your solutions in terms of the elements of $\\mathbf{M}$ and $\\mathbf{L}$.)\n",
    "\n",
    "(Notice that this is just a special case of solving for the fixed point of an Euler functional equation system, where the system now is (approximately) linear or log-linear.)\n",
    "\n",
    "*This solution can be viewed as a state-space representation of a linear time-series model*. Its reduced-form parameters are constrained by economic theory through the nonlinear restrictions embedded in $P, Q, R, S$."
   ]
  },
  {
   "cell_type": "markdown",
   "metadata": {},
   "source": [
    "#### Answer\n",
    "\n",
    "*Step 4*. Solve RCE for decision rules.\n",
    "\n",
    "Use the supplied guess that the solution to (LRCE-1) and (LRCE-2), given $\\hat{a}_{t}$, is\n",
    "$$\n",
    "\\hat{k}_{t+1} = P\\hat{k}_{t} + Q\\hat{a}_{t}\n",
    "$$\n",
    "and\n",
    "$$\n",
    "\\hat{c}_{t} = R\\hat{k}_{t} + S\\hat{a}_{t}.\n",
    "$$\n",
    "\n",
    "If this guess is correct then, conditional expectations of next-period consumption must satisfy\n",
    "$$\n",
    "\\begin{split}\n",
    "\\mathbb{E}_{t}\\hat{c}_{t+1} &= R\\mathbb{E}_{t}\\hat{k}_{t+1} + S\\mathbb{E}_{t}\\hat{a}_{t+1}\n",
    "\\\\\n",
    "&=  R\\hat{k}_{t+1} + \\rho S\\hat{a}_{t}.\n",
    "\\end{split}\n",
    "$$\n",
    "\n",
    "Remember $k_{t+1}$ was already determined in date $t$.\n",
    "\n"
   ]
  },
  {
   "cell_type": "markdown",
   "metadata": {},
   "source": [
    "Let $\\mathbf{M} \\equiv (m_{ij})$ where $m_{ij}$ conventionally refers to the $i$-th row and the $j$-th column element of the matrix $\\mathbf{M}$.\n",
    "\n",
    "Substitute policy-function guess into (LRCE-1) and (LRCE-2):\n",
    "\n",
    "* The first equation is\n",
    "    $$\n",
    "    \\hat{k}_{t+1} = (m_{11}+m_{12}R)\\hat{k}_{t} + (l_{11} + m_{12}S)\\hat{a}_{t}.\n",
    "    $$\n",
    "\n",
    "* The second equation is\n",
    "    $$\n",
    "    R\\hat{k}_{t+1} = (m_{21}+m_{22}R)\\hat{k}_{t} + [l_{21} + (m_{22}-\\rho)S]\\hat{a}_{t}.\n",
    "    $$"
   ]
  },
  {
   "cell_type": "markdown",
   "metadata": {},
   "source": [
    "#### Fixed point of the (auxiliary) linearized Euler equation system\n",
    "\n",
    "So if the guess is the RCE solution then the respective RHS coefficients on these two equations must be indentical. That is we must have\n",
    "$$\n",
    "R(m_{11}+m_{12}R) - (m_{21}+m_{22}R) = 0,\n",
    "\\tag{LRCE-F1}\n",
    "$$\n",
    "and,\n",
    "$$\n",
    "R(l_{11} + m_{12}S) - [l_{21} + (m_{22}-\\rho)S] = 0.\n",
    "\\tag{LRCE-F2}\n",
    "$$\n",
    "\n",
    "Note that (LRCE-F1) can also be derived from the characteristic polynomial of the LRCE system, given our guess. There is at most two distinct solutions (eigenvalues) for $R$ since the LHS of (LRCE-F1) is quadratic in $R$:\n",
    "$$\n",
    "m_{12}R^{2} + (m_{11} - m_{22})R - m_{21} = 0\n",
    "\\tag{LRCE-F1}\n",
    "$$\n",
    "\n"
   ]
  },
  {
   "cell_type": "markdown",
   "metadata": {},
   "source": [
    "Once we know $R$, we can solve for $S$ and then $P$ and $Q$ using these other components of the equilibrium ALM mapping (our fixed point solution):\n",
    "$$\n",
    "S = \\frac{1}{m_{12} - (m_{22} - \\rho)}\\left(l_{21} - l_{11}R\\right)\n",
    "$$\n",
    "\n",
    "$$\n",
    "P = m_{11} + m_{12}R\n",
    "$$\n",
    "\n",
    "$$\n",
    "Q = m_{21} + m_{22}R\n",
    "$$"
   ]
  },
  {
   "cell_type": "markdown",
   "metadata": {},
   "source": [
    "#### Stop. Think awhile\n",
    "\n",
    "So what have we done here, apart from a few steps of linear-algebraic contortions? Economics-wise, Step 4 above did the following:\n",
    "\n",
    "* Suppose a perceived law of motion for the equilibrium given by the process of $\\hat{a}_{t}$ and the conjectured mapping $(P,Q,R,S)$.\n",
    "\n",
    "    * Why? Since the RCE is characterized by the auxiliary, linearized set of FOCs (Euler functional equations), the rational expectations RCE must be described by linear functions of the state vector.\n",
    "\n",
    "* In equilibrium, we require that the PLM be consistent with the equilibrium actual law of motion (ALM) and that agents are optimizing and markets clear (implied by the RCE FOCs).\n",
    "\n",
    "* Thus the solution indexed by the linear function $(P,Q,R,S)$ and the process of $\\hat{a}_{t}$ is the rational expectations RCE PLM and ALM. This is because conditional forecasts of future variables based on these functions would satisfy the RCE conditions. \n",
    "\n",
    "* Again, we see the idea of a model-consistent or self-enforcing equilibrium at work here.\n",
    "\n",
    "Next we have a calibrated parametric instance of the model, so then we can work out a particular rational expectations RCE."
   ]
  },
  {
   "cell_type": "markdown",
   "metadata": {},
   "source": [
    "### Question 1.7\n",
    "\n",
    "From U.S. long run data, gross return on capital is $R_{ss}=1.01$ per quarter, and long run average share of labor income in gross national income (GNP) is $1/3$. The long run capital-output ratio is about 8.92 per quarter. The long run average of hours worked proportional total time is $N_{ss} = 1/3$. Normalize $A_{ss} =1$, and suppose that we have estimated the parameters for the AR(1) process for log-TFP as: $\\rho = 0.95$ and $\\sigma = 0.712$.\n",
    "* Show how you can identify and point-estimate or calibrate the rest of the model parameters $(\\alpha, \\beta, \\delta, \\eta)$.\n",
    "* Given model parametrization, compute $P,Q,R,S$.\n",
    "* Plot impulse responses (in percentage deviation terms from respective steady state values) for the level of technology, capital, consumption, investment, employment, gross national output, and the real gross return on capital and wage rate. Comment on your results.\n",
    "* Without simulating artificial time series, compute the covariance stationary standard deviations and correlation coefficients of each variable with respect to the model's gross national output. Comment on these statistics -- what do they imply about the model's prediction of business cycles?\n",
    "* Simulate a sequence of shocks $\\{s_{t}\\}_{t=1}^{1000}$, assuming $s_{t} \\sim \\text{i.i.d.}N (0,\\sigma^{2})$, and discard the first 800 observations. Plot the resulting sample time series for the same set of variables above. Now calculate the standard deviations and correlation coefficients of each variable with respect to the model's gross national output in your simulated data. Comment on your results in relation to the population statistics you calculated in the last section."
   ]
  },
  {
   "cell_type": "markdown",
   "metadata": {},
   "source": [
    "#### Answer\n",
    "\n",
    "**Calibration (Theory ahead of measurement)**: We have already shown the deterministic steady-state equilibrium characterization above in the answer to Question 1.4.\n",
    "\n",
    "Now we relate data observables to the structural parameters, exploiting the steady-state equilibrium characterization of the model.\n",
    "\n",
    "Divide (Goods clearing) by total output $Y$, we get\n",
    "$$\n",
    "\\frac{C}{Y} = 1 - \\delta \\frac{K}{Y}.\n",
    "$$\n",
    "\n",
    "Using the last condition in (Labor clearing), we can write\n",
    "$$\n",
    "\\begin{split}\n",
    "\\eta &= (1-\\alpha )\\left(\\frac{C}{Y}\\right)^{-1}N\n",
    "\\\\\n",
    "&= (1-\\alpha )\\left(1 - \\delta\\frac{K}{Y}\\right)^{-1}N\n",
    "\\end{split}\n",
    "\\tag{Calibrate $\\eta$}\n",
    "$$\n",
    "* *Connection to data*: The parameter $\\alpha$ in a Cobb-Douglas production function is also the capital income share in national income. This is roughly equal to $1/3$. So given $\\alpha$, and an estimate of the long-run average in the data for $K/Y$ and $H$, we can calibrate $\\eta$.)\n",
    "\n"
   ]
  },
  {
   "cell_type": "markdown",
   "metadata": {},
   "source": [
    "\n",
    "From the model's national accounting indetity and capital accumulation process, we have this steady state relation:\n",
    "$$\n",
    "\\delta = I/K = \\frac{I}{Y}\\frac{Y}{K}.\n",
    "\\tag{Calibrate $\\delta$}\n",
    "$$\n",
    "* *Connection to data*: We can measure from long-run national accounts data the mean on $I/Y$. Given a measure on $K/Y$, we can calibrate $\\delta$.\n",
    "\n"
   ]
  },
  {
   "cell_type": "code",
   "execution_count": 5,
   "metadata": {},
   "outputs": [
    {
     "name": "stdout",
     "output_type": "stream",
     "text": [
      "0.26743606415257914\n"
     ]
    }
   ],
   "source": [
    "# Estimates from data\n",
    "KYratio = 8.92\n",
    "α = 0.333\n",
    "Nss = 0.333\n",
    "δ = 0.076/4.0\n",
    "\n",
    "# Externally given/estimated\n",
    "ρ = 0.95\n",
    "σ = 0.00712\n",
    "\n",
    "# Normalize that donkey!\n",
    "Ass = 1.0\n",
    "\n",
    "# Steady state C/Y \n",
    "CYratio = 1.0 - δ*KYratio\n",
    "\n",
    "# Weight on disutility of labor\n",
    "η = (1.0-α)*Nss/CYratio\n",
    "print(η)"
   ]
  },
  {
   "cell_type": "markdown",
   "metadata": {},
   "source": [
    "From (Capital clearing) and the production function definition, we can also write\n",
    "$$\n",
    "1/\\beta = \\left[\\alpha A \\left(\\frac{K}{Y}\\right)^{-1} +(1-\\delta)\\right]\n",
    "\\tag{Calibrate $\\beta$}\n",
    "$$\n",
    "* *Connection to data*: If we normalize the scale parameter (steady state TFP level) as $A = 1$, then, given calibration of $\\delta$, an estimate of $\\alpha$ and $K/Y$, this equation pins down a calibration of $\\beta$."
   ]
  },
  {
   "cell_type": "code",
   "execution_count": 6,
   "metadata": {},
   "outputs": [
    {
     "name": "stdout",
     "output_type": "stream",
     "text": [
      "0.9819981681110407\n"
     ]
    }
   ],
   "source": [
    "# Steady state Euler equation gets\n",
    "β = 1.0/(α*Ass/KYratio + 1.0 - δ)\n",
    "print(β)"
   ]
  },
  {
   "cell_type": "markdown",
   "metadata": {},
   "source": [
    "We still need to back out $C_{ss}$ and $K_{ss}$.\n",
    "\n",
    "From production function we have\n",
    "$$\n",
    "\\frac{Y_{ss}}{K_{ss}} = A_{ss} \\left( \\frac{K_{ss}}{N_{ss}} \\right)^{\\alpha - 1}.\n",
    "$$\n",
    "\n",
    "Rearrange to isolate\n",
    "$$\n",
    "K_{ss} = \\left(\\frac{Y_{ss}}{A_{ss}K_{ss}}\\right)^{\\frac{1}{\\alpha - 1}}N_{ss},\n",
    "$$\n",
    "where we already have either calibrated or data-estimated all the objects on the RHS.\n"
   ]
  },
  {
   "cell_type": "code",
   "execution_count": 7,
   "metadata": {},
   "outputs": [
    {
     "name": "stdout",
     "output_type": "stream",
     "text": [
      "8.856846087045536\n"
     ]
    }
   ],
   "source": [
    "# Steady state K\n",
    "Kss = Nss*(KYratio/Ass)**(1.0/(1.0 - α))\n",
    "print(Kss)"
   ]
  },
  {
   "cell_type": "markdown",
   "metadata": {},
   "source": [
    "Given $K_{ss}$ back out $Y_{ss}$ from the production function. We have previously worked out $C/Y$ at steady state. Now we can back out $C_{ss}$."
   ]
  },
  {
   "cell_type": "code",
   "execution_count": 8,
   "metadata": {},
   "outputs": [
    {
     "name": "stdout",
     "output_type": "stream",
     "text": [
      "0.9929199649154191 0.824639889261554\n"
     ]
    }
   ],
   "source": [
    "# Steady state Y and C\n",
    "Yss = Ass*(Kss**α)*(Nss**(1-α))\n",
    "Css = CYratio*Yss\n",
    "\n",
    "print(Yss, Css)"
   ]
  },
  {
   "cell_type": "code",
   "execution_count": 9,
   "metadata": {
    "scrolled": false
   },
   "outputs": [
    {
     "name": "stdout",
     "output_type": "stream",
     "text": [
      "M is ...\n"
     ]
    },
    {
     "data": {
      "image/png": "[encoded data removed]",
      "text/latex": [
       "$$\\left[\\begin{matrix}1.09310762331839 & -0.317659529484642\\\\0.0 & 0.931593391942173\\end{matrix}\\right]$$"
      ],
      "text/plain": [
       "⎡1.09310762331839  -0.317659529484642⎤\n",
       "⎢                                    ⎥\n",
       "⎣      0.0         0.931593391942173 ⎦"
      ]
     },
     "execution_count": 9,
     "metadata": {},
     "output_type": "execute_result"
    }
   ],
   "source": [
    "# Parametrize M with steady state values and calibrations\n",
    "\n",
    "MM = M.subs({   alpha: α,\n",
    "                beta: β,\n",
    "                delta : δ, \n",
    "                Y_ss : Yss,p\n",
    "                K_ss : Kss,\n",
    "                C_ss : Css,\n",
    "            })\n",
    "\n",
    "print(\"M is ...\")\n",
    "MM"
   ]
  },
  {
   "cell_type": "code",
   "execution_count": 10,
   "metadata": {},
   "outputs": [
    {
     "name": "stdout",
     "output_type": "stream",
     "text": [
      "-1.66533453693773e-16 0.508450766889464\n"
     ]
    }
   ],
   "source": [
    "# Bind symbols for solution guess - a linear decision function\n",
    "P = symbols(\"P\")\n",
    "Q = symbols(\"Q\")\n",
    "R = symbols(\"R\")\n",
    "S = symbols(\"S\")\n",
    "\n",
    "# Eigenvalue(s) R\n",
    "R1 = (-(M[0,0] - M[1,1]) + sqrt((M[0,0] - M[1,1])**2 + 4*M[0,1]*M[1,0]))/(2*M[0,1])\n",
    "R2 = (-(M[0,0] - M[1,1]) - sqrt((M[0,0] - M[1,1])**2 + 4*M[0,1]*M[1,0]))/(2*M[0,1])\n",
    "\n",
    "r1 = R1.subs({   alpha: α,\n",
    "                beta: β,\n",
    "                delta : δ, \n",
    "                Y_ss : Yss,\n",
    "                K_ss : Kss,\n",
    "                C_ss : Css,\n",
    "            })\n",
    "\n",
    "r2 = R2.subs({  alpha: α,\n",
    "                beta: β,\n",
    "                delta : δ, \n",
    "                Y_ss : Yss,\n",
    "                K_ss : Kss,\n",
    "                C_ss : Css,\n",
    "            })\n",
    "\n",
    "print(r1, r2)\n",
    "\n",
    "# Evaluate L\n",
    "L = L.subs({    alpha: α,\n",
    "                beta: β,\n",
    "                delta : δ,\n",
    "                rho: ρ,\n",
    "                Y_ss : Yss,\n",
    "                K_ss : Kss,\n",
    "                C_ss : Css,\n",
    "            })\n"
   ]
  },
  {
   "cell_type": "markdown",
   "metadata": {},
   "source": [
    "#### Find that RE-RCE described as a linear Markov map"
   ]
  },
  {
   "cell_type": "markdown",
   "metadata": {},
   "source": [
    "\n",
    "\n",
    "Now that we know the two possibly distinct solutions for $R$, we can solve for $S$ and then $P$ and $Q$ using these other components of the fixed point mapping:\n",
    "\n",
    "$$\n",
    "P = m_{11} + m_{12}R\n",
    "$$\n",
    "\n",
    "$$\n",
    "Q = m_{21} + m_{22}R\n",
    "$$\n",
    "\n",
    "$$\n",
    "S = \\frac{1}{m_{12} - (m_{22} - \\rho)}\\left(l_{21} - l_{11}R\\right)\n",
    "$$\n",
    "\n"
   ]
  },
  {
   "cell_type": "markdown",
   "metadata": {},
   "source": [
    "There are two possible solutions for these, especially $P$, which governs the stability of the RE-RCE dynamics. We need to impose a selection rule to ensure that the RE-RCE is well-defined:"
   ]
  },
  {
   "cell_type": "code",
   "execution_count": 11,
   "metadata": {},
   "outputs": [
    {
     "name": "stdout",
     "output_type": "stream",
     "text": [
      "Unique local RE-RCE ...\n",
      "\n",
      "Eigenvalues:\n",
      "1.09310762331839\n",
      "0.931593391942173\n"
     ]
    }
   ],
   "source": [
    "eig1 = np.real(MM[0,0] + MM[0,1]*r1)\n",
    "eig2 = np.real(MM[0,0] + MM[0,1]*r2)\n",
    "\n",
    "# Consider absolute value of real parts\n",
    "p1 = np.absolute(eig1)\n",
    "p2 = np.absolute(eig2)\n",
    "\n",
    "# Equilibrium selection \n",
    "# (Ensure solution outcome is on saddle-path stable manifold)\n",
    "if p1 < 1.0 and p2 >= 1.0:\n",
    "    R = r1\n",
    "    P = eig1  \n",
    "    case = \"Unique local RE-RCE\"\n",
    "elif p1 >= 1.0 and p2 < 1.0:\n",
    "    R = r2\n",
    "    P = eig2\n",
    "    case = \"Unique local RE-RCE\"\n",
    "elif p1 < 1.0 and p1 == p2:\n",
    "    R = r2\n",
    "    P = eig2\n",
    "    case = \"Unique local RE-RCE\"\n",
    "elif p1 < 1.0 and p2 < 1.0:\n",
    "    warnings.warn(\"WARNING: You have an indeterminacy (infinite set) of RE-RCE!\")\n",
    "    P = None\n",
    "    case = \"Indeterminate local RE-RCE\"\n",
    "elif p1 >= 1.0 and p2 >= 1.0:\n",
    "    warnings.warn(\"WARNING: You have no RE-RCE!\")\n",
    "    P = None\n",
    "    case = \"No soup for you!\"\n",
    "\n",
    "if case == \"Unique local RE-RCE\":\n",
    "    # Solve for others\n",
    "    Q = MM[1,0] + MM[1,1]*R\n",
    "    S = L[1,0] - L[0,0]*R\n",
    "\n",
    "print(case + \" ...\")\n",
    "\n",
    "print(\"\\nEigenvalues:\")\n",
    "print(eig1)\n",
    "print(eig2)"
   ]
  },
  {
   "cell_type": "markdown",
   "metadata": {},
   "source": [
    "Remarks:\n",
    "* The unstable eigenvalue relates to the forward-looking jump variable $c_{t}$ which has no initial value. \n",
    "\n",
    "* The stable eigenvalue relates to the backward-looking state variable $k_{t}$ which has an initial condition.\n",
    "\n",
    "Thus when selecting $P$, we pick the $R$ such that $|P| < 1$ so that the equilibrium dynamic for $k_{t}$ is locally stable. (If had picked the other one, it will be explosive which implieds that there is no well-defined RE-RCE.)"
   ]
  },
  {
   "cell_type": "markdown",
   "metadata": {},
   "source": [
    "#### Huddle-up time\n",
    "\n",
    "So the approximate RE-RCE solution (a.k.a., the linear Markovian mapping, the equilibrium map), given our long-run data discipline is:"
   ]
  },
  {
   "cell_type": "code",
   "execution_count": 12,
   "metadata": {},
   "outputs": [],
   "source": [
    "# capital %dev\n",
    "kt = symbols('\\hat{k}'+'_{t}')\n",
    "ktp = symbols('\\hat{k}'+'_{t+1}')\n",
    "\n",
    "# tpf %dev\n",
    "at = symbols('\\hat{a}'+'_{t}')\n",
    "atp = symbols('\\hat{a}'+'_{t+1}')\n",
    "\n",
    "# consumption %dev\n",
    "ct = symbols('\\hat{c}'+'_{t}')"
   ]
  },
  {
   "cell_type": "markdown",
   "metadata": {},
   "source": [
    "So the RE-RCE solution is:"
   ]
  },
  {
   "cell_type": "code",
   "execution_count": 13,
   "metadata": {},
   "outputs": [
    {
     "data": {
      "image/png": "[encoded data removed]",
      "text/latex": [
       "$$\\hat{k}_{t+1} = 0.473669374562155 \\hat{a}_{t} + 0.931593391942173 \\hat{k}_{t}$$"
      ],
      "text/plain": [
       "\\hat{k}_{t+1} = 0.473669374562155⋅\\hat{a}_{t} + 0.931593391942173⋅\\hat{k}_{t}"
      ]
     },
     "execution_count": 13,
     "metadata": {},
     "output_type": "execute_result"
    }
   ],
   "source": [
    "relational.Eq(ktp, P*kt + Q*at)"
   ]
  },
  {
   "cell_type": "markdown",
   "metadata": {},
   "source": [
    "and:"
   ]
  },
  {
   "cell_type": "code",
   "execution_count": 14,
   "metadata": {
    "scrolled": true
   },
   "outputs": [
    {
     "data": {
      "image/png": "[encoded data removed]",
      "text/latex": [
       "$$\\hat{c}_{t} = - 0.0737440948152751 \\hat{a}_{t} + 0.508450766889464 \\hat{k}_{t}$$"
      ],
      "text/plain": [
       "\\hat{c}_{t} = -0.0737440948152751⋅\\hat{a}_{t} + 0.508450766889464⋅\\hat{k}_{t}"
      ]
     },
     "execution_count": 14,
     "metadata": {},
     "output_type": "execute_result"
    }
   ],
   "source": [
    "relational.Eq(ct, R*kt + S*at)"
   ]
  },
  {
   "cell_type": "markdown",
   "metadata": {},
   "source": [
    "#### Equilibrium behavior\n",
    "\n",
    "A useful way to visualize and understand the equilibrium dynamic behavior of the model is through impulse response functions."
   ]
  },
  {
   "cell_type": "markdown",
   "metadata": {},
   "source": [
    "The impulse response functions can be derived recursively. Note that the if a shock hit the model economy $t-j$ periods ago, and the system now is in date $t$, the resulting response of state vector $x_{t}$ is:\n",
    "\n",
    "$$\n",
    "x_{t} = \\underbrace{A^{t}x_{0}}_{\\text{Cumulative multiplier effect from initial state}} \n",
    "+ \n",
    "\\underbrace{\\sum_{j=0}^{t-1}A^{j}Be_{t-j}}_{\\text{Cumulative multiplier effect from shocks in each date 1 to $t$}}.\n",
    "$$\n",
    "\n",
    "This gives us the date $t\\geq 1$ outcome of the state vector $x_{t}$ as a function of some shock in period $j \\in \\{t, t-1, ..., 1 \\}$.\n",
    "\n",
    "Computationally we can calculate these impulse response functions - i.e., evaluate the sums above - recursively. Here's an example pseudocode to implement the impulse responses for a given :\n",
    "\n",
    "*Given*: $x_{0}$, $(A,B)$, $T$.\n",
    "\n",
    "While $t \\leq T-1$:\n",
    "\n",
    "1. Get: $e_{t}$\n",
    "\n",
    "2. Evaluate: \n",
    "    * $x_{t+1} \\gets A x_{t} + B e_{t}$\n",
    "    \n",
    "    * $y_{t} \\gets C x_{t}$\n",
    "\n",
    "3. Store $(x_{t}, y_{t})$\n",
    "\n",
    "4. Set $x_{t} \\gets x_{t+1}$ and $t \\gets t+1$\n",
    "\n",
    "5. Repeat steps 1 to 4\n"
   ]
  },
  {
   "cell_type": "markdown",
   "metadata": {},
   "source": [
    "\n",
    "\n",
    "\n",
    "The following function does the job and more. This function computes either\n",
    "\n",
    "* (deterministic) impulse responses to a one-time shock in date $t=1$ (if *ShockAllPeriods* is set to *False*), or\n",
    "    \n",
    "* (stochastic) simulation of the LSDE system (if *ShockAllPeriods* is set to *True*)\n",
    "\n",
    "The user can control which of the shocks are active in either type of simulation by defining the *shock_index* list."
   ]
  },
  {
   "cell_type": "code",
   "execution_count": 15,
   "metadata": {},
   "outputs": [],
   "source": [
    "def simlsde(A, B, C, shock_index=0, T=30, x0=None, ShockAllPeriods=False):\n",
    "    \"\"\"Compute impulse response functions \n",
    "    for (Gaussian) LSDE model written is state-space form.\n",
    "    \n",
    "    A              : N_states x N_states matrix\n",
    "    B              : N_states x N_shocks matrix\n",
    "    C              : N_costates x N_states matrix\n",
    "    shock_index    : integer index of particular \n",
    "                     shock(s): 0, 1, ..., nshock-1\n",
    "    T              : simulation horizon\n",
    "    x0             : initial x, default is an nvar vector of zeros\n",
    "    ShockAllPeriods: Boolean switch\n",
    "                     TRUE if Monte Carlo simulation of data. \n",
    "                     FALSE if deterministic initial shock at date 1. \n",
    "    \"\"\"\n",
    "    \n",
    "    # Activate shock in location shock_index\n",
    "    shock_select = np.zeros(B.shape[1])\n",
    "    shock_select[shock_index] = 1.0\n",
    "    #print(shock_select)\n",
    "    # Number of state variables\n",
    "    N_states = A.shape[0]\n",
    "    N_shocks = B.shape[1]\n",
    "    # Defaults ...\n",
    "    if x0 == None:\n",
    "        x0 = np.zeros(N_states)\n",
    "        # print(\"\\nDefaulting to x0 = [0] assumption\")\n",
    "    if ShockAllPeriods == True:\n",
    "        # print(\"\\nDoing stochastic simulation of model time-series data\\n\")\n",
    "        emat = np.random.randn(N_shocks, T)\n",
    "    else:\n",
    "        # print(\"\\nDoing one-std-deviation period-1 impulse\\n\")\n",
    "        emat = np.zeros((N_shocks, T))\n",
    "        emat[:,0] = np.ones(N_shocks)\n",
    "    irf = []\n",
    "    # Recursion to construct cumulative multiplier effects on x(t)\n",
    "    x_now = x0.copy()\n",
    "    for t in range(T):\n",
    "        # current vector of active shocks\n",
    "        e_next = np.diag(shock_select).dot( emat[:,t] )\n",
    "        # apply LSDE model\n",
    "        x_next = A.dot(x_now) + B.dot(e_next)\n",
    "        y_now = np.atleast_2d(C.dot(x_now))\n",
    "        # store impulse response in list irf\n",
    "        data = np.concatenate((x_now.ravel(), y_now.ravel()), axis=0)\n",
    "        irf.append(data)\n",
    "        # update state, repeat and rinse\n",
    "        x_now = x_next\n",
    "    # Return irf, a list of T NumPy (1 x nvar) arrays\n",
    "    return irf"
   ]
  },
  {
   "cell_type": "markdown",
   "metadata": {},
   "source": [
    "Let's compute a special case of these impulse response functions assuming that the model is hit by an impulse (here it's only through the exogenous TFP shock) one at date $0$."
   ]
  },
  {
   "cell_type": "markdown",
   "metadata": {},
   "source": [
    "It's easier to visualize the impulse response functions graphically. Let's set up a function to do this:"
   ]
  },
  {
   "cell_type": "code",
   "execution_count": 16,
   "metadata": {},
   "outputs": [],
   "source": [
    "def simlsde_plot(data, var_names):\n",
    "    \"\"\"\n",
    "    Plot simulated data\n",
    "    \n",
    "    data        :  T x nvar Numpy array\n",
    "    var_names   :  list of variable names (str type)\n",
    "         \n",
    "    \"\"\"\n",
    "    \n",
    "    # Set dimension for auto subplotting\n",
    "    nvars = len(var_names)\n",
    "    ncols = 3\n",
    "    nrows = (nvars + np.mod(nvars, ncols)) / ncols\n",
    "    \n",
    "    # map string SHOCK to its location index \n",
    "    # shock_index = shock_names.index(shock)\n",
    "    \n",
    "    # x-data\n",
    "    x = range(len(data))\n",
    "    \n",
    "    # Loop over calculations and plot simultaneously\n",
    "    fig = plt.figure(facecolor='white', figsize=(16,4))\n",
    "    for picture, variable in enumerate(var_names):\n",
    "        plt.subplot(nrows, ncols, picture+1)\n",
    "        y = data[:,picture]\n",
    "        plt.plot(x, y, 'o-.', \n",
    "                 x, np.zeros(y.size), '-r'\n",
    "                )\n",
    "        #plt.margins(2)\n",
    "        plt.title(variable)\n",
    "        plt.xlabel(\"$t$\")\n",
    "    # Output the object plt\n",
    "    return plt"
   ]
  },
  {
   "cell_type": "code",
   "execution_count": 17,
   "metadata": {},
   "outputs": [],
   "source": [
    "# Define Python lists of strings for plotting labels (later)\n",
    "# var_names = [\"$\\hat{a}_{t}$\", \n",
    "#              \"$\\hat{k}_{t}$\", \n",
    "#              \"$\\hat{c}_{t}$\", \n",
    "#              \"$\\hat{n}_{t}$\", \n",
    "#              \"$\\hat{y}_{t}$\"]\n",
    "\n",
    "var_names = [\"$\\hat{a}_{t}$\", \n",
    "             \"$\\hat{k}_{t}$\", \n",
    "             \"$\\hat{c}_{t}$\"]\n",
    "\n",
    "shock_names = [\"a\"]\n",
    "\n",
    "# State space representation of RCE solution\n",
    "# The explicit data-type declaration is to override numpy default\n",
    "# from inferring from objects in the array\n",
    "# Here some elements like P, Q, R, S were inherited from SymPy, so they\n",
    "# are not purely floats. We make them so here.\n",
    "A = np.asarray([[ρ, 0.0],\n",
    "                [Q, P  ]], dtype='float64')\n",
    "\n",
    "B = np.asarray([[σ  ],\n",
    "                [0.0]], dtype='float64')\n",
    "\n",
    "# We added the linearized production function and labor clearing conditions\n",
    "# C_rhs = np.asarray([[S,   R],\n",
    "#                     [1.0, α],\n",
    "#                     [1.0, α]], dtype='float64')\n",
    "C_rhs = np.asarray([[S,   R]], dtype='float64')\n",
    "C_lhs = np.eye(1)\n",
    "# C_lhs = np.eye(3)\n",
    "# C_lhs[1,1] = α\n",
    "# C_lhs[2,1] = -(1.0 - α)\n",
    "\n",
    "# Observation equation \n",
    "C = np.linalg.inv(C_lhs) @ C_rhs"
   ]
  },
  {
   "cell_type": "code",
   "execution_count": 18,
   "metadata": {},
   "outputs": [],
   "source": [
    "# Assume shock to ...\n",
    "shock = \"a\"\n",
    "# map string SHOCK to its location index\n",
    "shock_index = shock_names.index(shock)\n",
    "\n",
    "# Evaluate impulse response functions given SHOCK\n",
    "impulse = simlsde(A, B, C, shock_index, T=100, ShockAllPeriods=False)\n",
    "irf = np.asarray(impulse)"
   ]
  },
  {
   "cell_type": "code",
   "execution_count": 19,
   "metadata": {
    "scrolled": true
   },
   "outputs": [
    {
     "data": {
      "image/png": "[encoded data removed]",
      "text/plain": [
       "<Figure size 1152x288 with 3 Axes>"
      ]
     },
     "metadata": {},
     "output_type": "display_data"
    }
   ],
   "source": [
    "# Plot the impulse responses\n",
    "plt = simlsde_plot(irf, var_names)"
   ]
  },
  {
   "cell_type": "code",
   "execution_count": 20,
   "metadata": {},
   "outputs": [
    {
     "name": "stdout",
     "output_type": "stream",
     "text": [
      "You are activating these shocks ...\n",
      "\n",
      "['a']\n"
     ]
    }
   ],
   "source": [
    "# Assume shock to all variables\n",
    "shock = shock_names\n",
    "print(\"You are activating these shocks ...\\n\")\n",
    "print(shock_names)\n",
    "\n",
    "# map string SHOCK to its location index\n",
    "shock_index = [ shock_names.index(shock) for shock in shock_names ]\n",
    "data = simlsde(A,B,C, shock_index, T=1000, ShockAllPeriods=True)\n",
    "data = np.asarray(data[850::], dtype=\"float64\")"
   ]
  },
  {
   "cell_type": "markdown",
   "metadata": {},
   "source": [
    "Then we plot the synthetic data we just generated by Monte Carlo simulation of the model in the last step:"
   ]
  },
  {
   "cell_type": "code",
   "execution_count": 21,
   "metadata": {
    "scrolled": true
   },
   "outputs": [
    {
     "data": {
      "image/png": "[encoded data removed]",
      "text/plain": [
       "<Figure size 1152x288 with 3 Axes>"
      ]
     },
     "metadata": {},
     "output_type": "display_data"
    }
   ],
   "source": [
    "plt = simlsde_plot(data, var_names)"
   ]
  },
  {
   "cell_type": "markdown",
   "metadata": {},
   "source": [
    "Let's characterize the empirical distribution our simulated data:"
   ]
  },
  {
   "cell_type": "code",
   "execution_count": 22,
   "metadata": {},
   "outputs": [
    {
     "data": {
      "text/html": [
       "<div>\n",
       "<style scoped>\n",
       "    .dataframe tbody tr th:only-of-type {\n",
       "        vertical-align: middle;\n",
       "    }\n",
       "\n",
       "    .dataframe tbody tr th {\n",
       "        vertical-align: top;\n",
       "    }\n",
       "\n",
       "    .dataframe thead th {\n",
       "        text-align: right;\n",
       "    }\n",
       "</style>\n",
       "<table border=\"1\" class=\"dataframe\">\n",
       "  <thead>\n",
       "    <tr style=\"text-align: right;\">\n",
       "      <th></th>\n",
       "      <th>$\\hat{a}_{t}$</th>\n",
       "      <th>$\\hat{k}_{t}$</th>\n",
       "      <th>$\\hat{c}_{t}$</th>\n",
       "    </tr>\n",
       "  </thead>\n",
       "  <tbody>\n",
       "    <tr>\n",
       "      <th>$\\hat{a}_{t}$</th>\n",
       "      <td>0.000749</td>\n",
       "      <td>0.002337</td>\n",
       "      <td>0.001133</td>\n",
       "    </tr>\n",
       "    <tr>\n",
       "      <th>$\\hat{k}_{t}$</th>\n",
       "      <td>0.002337</td>\n",
       "      <td>0.013588</td>\n",
       "      <td>0.006737</td>\n",
       "    </tr>\n",
       "    <tr>\n",
       "      <th>$\\hat{c}_{t}$</th>\n",
       "      <td>0.001133</td>\n",
       "      <td>0.006737</td>\n",
       "      <td>0.003342</td>\n",
       "    </tr>\n",
       "  </tbody>\n",
       "</table>\n",
       "</div>"
      ],
      "text/plain": [
       "               $\\hat{a}_{t}$  $\\hat{k}_{t}$  $\\hat{c}_{t}$\n",
       "$\\hat{a}_{t}$       0.000749       0.002337       0.001133\n",
       "$\\hat{k}_{t}$       0.002337       0.013588       0.006737\n",
       "$\\hat{c}_{t}$       0.001133       0.006737       0.003342"
      ]
     },
     "execution_count": 22,
     "metadata": {},
     "output_type": "execute_result"
    }
   ],
   "source": [
    "# instantiate pandas dataframe\n",
    "df = pandas.DataFrame(data, columns=var_names)\n",
    "\n",
    "# display simulated sample data's covariance matrix\n",
    "df.cov()"
   ]
  },
  {
   "cell_type": "markdown",
   "metadata": {},
   "source": [
    "#### An extended state-space representation and autocovariogram"
   ]
  },
  {
   "cell_type": "markdown",
   "metadata": {},
   "source": [
    "What if we want to jointly calculate this model's implied dynamic and stochastic behavior for all the relevant variables like consumption and labor?\n",
    "\n",
    "Let's repack our state-space model above by extending the state-vector as such:\n",
    "\n",
    "$$\n",
    "x_{t+1} = \\mathbf{F} x_{t} + \\mathbf{G}e_{t+1}\n",
    "$$\n",
    "\n",
    "where \n",
    "$$\n",
    "x_{t} = (s_{t}, y_{t-1}, y_{t-2})\n",
    "$$\n",
    "$s_{t} := (\\hat{a}_{t}, \\hat{k}_{t})$ and $y_{t} := (\\hat{c}_{t}, \\hat{n}_{t}, \\hat{y}_{t})$. The coefficient matrices are now:\n",
    "$$\n",
    "\\mathbf{F} = \\left(\\begin{matrix}\n",
    "             A & 0_{2 \\times 3} & 0_{2 \\times 3}\n",
    "             \\\\\n",
    "             C & 0_{3 \\times 3} & 0_{3 \\times 3}\n",
    "             \\\\\n",
    "             0_{3 \\times 3} & I_{3} & 0_{3 \\times 3}\n",
    "             \\end{matrix}\\right),\n",
    "\\mathbf{G} = \\left(\\begin{matrix}\n",
    "             B \n",
    "             \\\\\n",
    "             0_{3 \\times 1} \n",
    "             \\\\\n",
    "             0_{3 \\times 1} \n",
    "             \\end{matrix}\\right),\n",
    "$$"
   ]
  },
  {
   "cell_type": "markdown",
   "metadata": {
    "collapsed": true
   },
   "source": [
    "This covariance matrix for this system is defined by \n",
    "\n",
    "$$\n",
    "C_{x}(0) = \\mathbb{E}\\left\\{ (x_{t+1} - \\mu^{x})(x_{t+1} - \\mu^{x}) \\right\\} = \\mathbb{E} \\left\\{ (x_{t} - \\mu^{x})(x_{t} - \\mu^{x}) \\right\\},\n",
    "$$\n",
    "\n",
    "for all $t$.\n",
    "\n",
    "You can derive from first priciples (i.e., use the definition of the LSDE above) the covariance-stationary (long-run) covariance matrix, $C_{x}(0)$, which satisfies the recursive Lypunov function:\n",
    "\n",
    "$$\n",
    "C_{x}(0) = \\mathbf{F} C_{x}(0) \\mathbf{F}^{T} + \\mathbf{G}\\mathbf{G}^{T}\n",
    "$$\n",
    "\n",
    "(This is a recursion on $C_{x}(0)$ since it appears on both sides of the equation---i.e., it is a fixed point of the matrix quadratic equation.)\n",
    "\n",
    "Since $F$ is a stable matrix, this recursion can be shown to have a unique fixed point $C_{x}(0)$. Let's take this claim on faith, and proceed to caculate this theoretical (i.e., model-derived) covariance matrix. Remember, the long run distribution of $x_{t}$ is Normal---i.e., $x_{t} \\sim \\mathbf{N}(\\mu, C_{x}(0) )$. Therefore the stochastic process of $x_{t}$ in the long run can be sufficiently described by the mean $\\mu_{x}$ and covariance $C_{x}(0)$.\n",
    "\n",
    "Here's a pseudocode for finding $C_{x}(0)$:\n",
    "\n",
    "0. Fix $\\epsilon > 0$ and $\\delta \\gets 1.0$\n",
    "\n",
    "1. Set $\\mathbf{V} \\gets \\mathbf{I}$\n",
    "\n",
    "2. Evaluate:\n",
    "\n",
    "    $$\n",
    "    \\tilde{\\mathbf{V}} \\gets \\mathbf{F} \\mathbf{V} \\mathbf{F}^{T} + \\mathbf{G}\\mathbf{G}^{T}\n",
    "    $$\n",
    "    \n",
    "3. Calculate distance \n",
    "\n",
    "    $$\n",
    "    \\delta \\gets \\max_{i} \\max_{j} |\\tilde{\\mathbf{V}}_{ij} - \\mathbf{V}_{ij} |\n",
    "    $$\n",
    "    \n",
    "4. Update \n",
    "\n",
    "    $$\n",
    "    \\mathbf{V} \\gets \\tilde{\\mathbf{V}}\n",
    "    $$\n",
    "    \n",
    "5. Repeat Steps 2 - 4 until $\\delta < \\epsilon$\n",
    "\n",
    "The resulting fixed point, the matrix $\\mathbf{V} = \\tilde{\\mathbf{V}}$, is $C_{x}(0)$."
   ]
  },
  {
   "cell_type": "code",
   "execution_count": 23,
   "metadata": {},
   "outputs": [],
   "source": [
    "def mdistance(A, B):\n",
    "    \"\"\"metric for distance between two 2D arrays\"\"\"\n",
    "    d = (np.absolute(A - B)).max()\n",
    "    return d\n",
    "\n",
    "def lyapunov(F, G):\n",
    "    \"\"\"Implementation of recursion on Lyapunov equation\"\"\"\n",
    "    TOL = 1e-12\n",
    "    MAXITER = 1000\n",
    "    d = 1.0\n",
    "    V = np.eye(F.shape[0])\n",
    "\n",
    "    # Loop to successively approximate V\n",
    "    for n in range(MAXITER):\n",
    "        V_new = (F.dot(V)).dot(F.T) + G.dot(G.T)\n",
    "        d = mdistance(V_new, V)\n",
    "        V = V_new\n",
    "        if d < TOL:\n",
    "            break\n",
    "    return V"
   ]
  },
  {
   "cell_type": "code",
   "execution_count": 24,
   "metadata": {
    "scrolled": true
   },
   "outputs": [],
   "source": [
    "# Rewrite state-space model (A,B,C) as VAR/LSDE form (F,G)\n",
    "ny = np.atleast_2d(C).shape[0]\n",
    "nx = A.shape[1]\n",
    "nz = B.shape[1]\n",
    "\n",
    "# VAR transition matrix\n",
    "F = np.zeros((nx+2*ny, nx+2*ny))\n",
    "F[0:nx, 0:nx] = A\n",
    "F[nx:nx+ny, 0:nx] = C\n",
    "F[nx+ny:nx+2*ny,nx:nx+ny] = np.eye(ny)\n",
    "\n",
    "# VAR shock loading factor\n",
    "G = np.zeros((nx+ny+ny, nz))\n",
    "G[0:nx, :] = B\n"
   ]
  },
  {
   "cell_type": "code",
   "execution_count": 25,
   "metadata": {},
   "outputs": [
    {
     "name": "stdout",
     "output_type": "stream",
     "text": [
      "Theoretical cov-mat:\n",
      "\n",
      "[[0.00051994 0.00203474 0.00094641]\n",
      " [0.00203474 0.01447307 0.00718754]\n",
      " [0.00094641 0.00718754 0.00359185]]\n",
      "\n",
      "Monte-Carlo sample's cov-mat:\n",
      "\n",
      "[[0.00074948 0.00233666 0.00113281]\n",
      " [0.00233666 0.01358836 0.0067367 ]\n",
      " [0.00113281 0.0067367  0.00334174]]\n",
      "\n",
      "Your theoretical cov-mat agrees with the Monte Carlo sample's up to 0.001 precision\n"
     ]
    }
   ],
   "source": [
    "# Let's evaluate an instance for our model above\n",
    "Cx0 = lyapunov(F, G)\n",
    "Cx0 = Cx0[0:nx+ny, 0:nx+ny]\n",
    "\n",
    "# Previous Monte Carlo simulation's empirical covariance matrix\n",
    "Cx0_monty_sample = np.asarray(df.cov())\n",
    "\n",
    "# Display the two results\n",
    "print(\"Theoretical cov-mat:\\n\")\n",
    "print(Cx0)\n",
    "\n",
    "print(\"\\nMonte-Carlo sample's cov-mat:\\n\")\n",
    "print(Cx0_monty_sample)\n",
    "\n",
    "# Check that these two are the same\n",
    "test = mdistance(Cx0, Cx0_monty_sample)\n",
    "precision = 1e-3\n",
    "if test < precision:\n",
    "    print(\"\\nYour theoretical cov-mat agrees with the Monte Carlo sample's up to %0.4g precision\" % (precision))"
   ]
  },
  {
   "cell_type": "markdown",
   "metadata": {},
   "source": [
    "We have derived before that \n",
    "\n",
    "$$\n",
    "C_{x}(j) = A^{j}C_{x}(0).\n",
    "$$\n",
    "\n",
    "Each diagonal element of $C_{x}(j)$ is the lag$-j$ autocovariance of the corresponding variable in the vector $x_{t}$. The off-diagonals would be the cross-covariances. We call $\\{ C_{x}(j): j = 0,1,2, ...\\}$ the autocovariogram of the LSDE process $\\{x_{t}\\}_{t=0}^{\\infty}$.\n",
    "\n",
    "Here's how we can compute the autocovariogram for $j = 0,1,..., J$. \n",
    "\n"
   ]
  },
  {
   "cell_type": "code",
   "execution_count": 26,
   "metadata": {},
   "outputs": [],
   "source": [
    "def lsde_autocov(F, G, J=21):\n",
    "    \"\"\"Compute the autocovariogram of a Gaussian LSDE model\"\"\"\n",
    "    # Get covariance matrix (j=0)\n",
    "    Cx0 = lyapunov(F, G)\n",
    "    # (Fast C compiled) loop to get autocovariogram (stored as python list of arrays)\n",
    "    # for each j, the j-lag autocovariance matrix is flattened into a vector\n",
    "    CxJ = [ (np.linalg.matrix_power(F, j).dot(Cx0)).flatten() for j in range(J) ]\n",
    "    return CxJ"
   ]
  },
  {
   "cell_type": "markdown",
   "metadata": {},
   "source": [
    "In the example below, we set $J =4$. "
   ]
  },
  {
   "cell_type": "code",
   "execution_count": 27,
   "metadata": {},
   "outputs": [],
   "source": [
    "# Evaluate (python list) autocovariogram\n",
    "CxJ = lsde_autocov(F, G, J=4)"
   ]
  },
  {
   "cell_type": "markdown",
   "metadata": {},
   "source": [
    "Let's write a function to render visual plots of the autocovariogram. Each diagram plots these functions as a function of the lag interval $J = 0, 1, ...$."
   ]
  },
  {
   "cell_type": "code",
   "execution_count": 28,
   "metadata": {},
   "outputs": [],
   "source": [
    "def covariogram_plot(CxJ, var_names):\n",
    "    \"\"\"Create subplots of nvars x nvars figures of autocovariogram or autocorrelations\"\"\"\n",
    "    \n",
    "    # Convert list of numpy arrays into numpy array\n",
    "    AC = np.asarray(CxJ)\n",
    "    # Number of variables\n",
    "    nvars = len(var_names)\n",
    "    # Number of lags\n",
    "    J = AC.shape[0]\n",
    "    nfigs = AC.shape[1]\n",
    "    # Create Cartesian product VARNAMES x VARNAMES\n",
    "    varmat = [ [i,j] for i in var_names for j in var_names ]\n",
    "    # Set dimension for auto subplotting\n",
    "    ncols = 2\n",
    "    nrows = (nfigs + np.mod(nfigs, ncols)) / 2\n",
    "    # Loop over each element of autocovariogram\n",
    "    x = np.arange(J)\n",
    "    gambar = plt.figure(facecolor='white',figsize=(10,16))\n",
    "    for idx_subplot, labels in enumerate(varmat):\n",
    "        plt.subplot(nrows, ncols, idx_subplot+1)\n",
    "        y = AC[:,idx_subplot]\n",
    "        plt.stem(x,y)\n",
    "        plt.xlabel('lag, $j$')\n",
    "        plt.title('('+labels[0]+','+labels[1]+'$_{-j}$)')\n",
    "        # plt.margins(0.1)\n",
    "        plt.tight_layout()\n",
    "    return plt"
   ]
  },
  {
   "cell_type": "code",
   "execution_count": 29,
   "metadata": {
    "scrolled": false
   },
   "outputs": [
    {
     "data": {
      "image/png": "[encoded data removed]",
      "text/plain": [
       "<Figure size 720x1152 with 9 Axes>"
      ]
     },
     "metadata": {},
     "output_type": "display_data"
    }
   ],
   "source": [
    "plt = covariogram_plot(CxJ, var_names)"
   ]
  },
  {
   "cell_type": "markdown",
   "metadata": {},
   "source": [
    "Covariances are difficult to interpret in terms of magnitudes since different variables may have different units or scales. So the covariogram above is instructive in terms of *directions* of comovement between the variables of the model. It is difficult to assess the strength of their comovements. One way to overcome this problem is to re-scale the covariogram and report its related correlation diagram. We do this next."
   ]
  },
  {
   "cell_type": "markdown",
   "metadata": {},
   "source": [
    "Now we look at autocorrelations, where we normalize each element of $C_{x}(j)$ by appropriate products of *standard deviations* of each variable. This is done in the function below:"
   ]
  },
  {
   "cell_type": "code",
   "execution_count": 30,
   "metadata": {},
   "outputs": [],
   "source": [
    "def lsde_autocorr(F, G, J=21):\n",
    "    \"\"\"Compute the autocovariogram of a Gaussian LSDE model\"\"\"\n",
    "    # Get covariance matrix (j=0)\n",
    "    Cx0 = lyapunov(F, G)\n",
    "    # Extract diagonal of Cx0 and take sqrt()\n",
    "    std = np.sqrt(np.diag(Cx0))\n",
    "    # List of cross-products of std elements\n",
    "    V = [ i*j for i in std for j in std ]\n",
    "    V = np.asarray(V)\n",
    "    # (Fast C compiled) loop to get autocovariogram (stored as python list of arrays)\n",
    "    # for each j, the j-lag autocovariance matrix is flattened into a vector\n",
    "    # then normalized by V\n",
    "    CCJ = [ (np.linalg.matrix_power(F, j).dot(Cx0)).flatten()/V for j in range(J) ]\n",
    "    return CCJ\n"
   ]
  },
  {
   "cell_type": "markdown",
   "metadata": {},
   "source": [
    "Let's evaluate these auto- and cross-correlations. By definition, correlations are statistics whose outcomes lie in the set $[-1,1]$. This normalized information gives us useful summary statistics of the *magnitude* and *directions* of comovement between the endogenous variables in the LSDE at different lags (i.e., phases of the model's business cycle)."
   ]
  },
  {
   "cell_type": "code",
   "execution_count": 31,
   "metadata": {
    "scrolled": true
   },
   "outputs": [
    {
     "data": {
      "image/png": "[encoded data removed]",
      "text/plain": [
       "<Figure size 720x1152 with 9 Axes>"
      ]
     },
     "metadata": {},
     "output_type": "display_data"
    }
   ],
   "source": [
    "CCJ = lsde_autocorr(F, G, J=10)\n",
    "plt = covariogram_plot(CCJ, var_names)"
   ]
  },
  {
   "cell_type": "markdown",
   "metadata": {},
   "source": [
    "So what can you conclude from the autocorrelations above?"
   ]
  },
  {
   "cell_type": "markdown",
   "metadata": {},
   "source": [
    "## Problem 2 (Models vs Reality, Optional*)\n",
    "\n",
    "*$^{\\ast}$Not assessable for this course*\n",
    "\n",
    "Models such as the one above can be confronted with observed data.\n",
    "\n",
    "1. Download observable counterparts for output, consumption, average hours worked, and investment. Use U.S. macroeconomic data as an example. You will need to construct a filtered version of this data as the raw time series data is non-stationary (i.e., its has some unobserved trend components). Use a band-pass filter for example.\n",
    "\n",
    "2. Given your filtered, stationary components of the time series, compute their statistics that correspond to what you have obtained from simulating the approximate log-linearized solution of your model. \n",
    "\n",
    "3. *Informal empiricism*. Eyeball what you have from the observed data and from your model's synthetic data. How \"close\" is the model to the \"data\" in terms of these partial information targets?\n",
    "\n",
    "4. *A formal empirical strategy*. Suggest how you would estimate this model more rigorously using classical maximum likelihood methods. To do so, you need to construct the model's data likelihood function (recursively) using the famous Kalman filter. In the last problem, we pretended that we have estimated the log-TFP process. However, TFP data (and physical capital data) may not be reliable since it is (they are) not directly observable or measured. How would you go about dealing with this problem in your estimation strategy?\n",
    "\n",
    "5. Suppose your friend proposed a variation on your model above as a better candidate of the true data generating process underlying the observed time series data. How would you go about testing whose model is more preferred? (Hint: You need to do a likelihood ratio test, if you're finding classical maximum likehood estimators of the two models.)"
   ]
  },
  {
   "cell_type": "markdown",
   "metadata": {},
   "source": [
    "    At last, when I woke from my slumber and opened my eyes, \n",
    "    I saw thee standing by me, flooding my sleep with thy smile. \n",
    "    How I had feared that the path was long and wearisome, \n",
    "    and the struggle to reach thee was hard!\n",
    "\n",
    "excerpt from *The Journey* (Rabindranath Tagore)"
   ]
  },
  {
   "cell_type": "code",
   "execution_count": null,
   "metadata": {
    "scrolled": true
   },
   "outputs": [],
   "source": []
  }
 ],
 "metadata": {
  "kernelspec": {
   "display_name": "Python 3",
   "language": "python",
   "name": "python3"
  },
  "language_info": {
   "codemirror_mode": {
    "name": "ipython",
    "version": 3
   },
   "file_extension": ".py",
   "mimetype": "text/x-python",
   "name": "python",
   "nbconvert_exporter": "python",
   "pygments_lexer": "ipython3",
   "version": "3.6.6+"
  }
 },
 "nbformat": 4,
 "nbformat_minor": 2
}