{
 "cells": [
  {
   "cell_type": "markdown",
   "metadata": {
    "toc": true
   },
   "source": [
    "<h1>Table of Contents<span class=\"tocSkip\"></span></h1>\n",
    "<div class=\"toc\"><ul class=\"toc-item\"><li><ul class=\"toc-item\"><li><span><a href=\"#Key-Learning-Points\" data-toc-modified-id=\"Key-Learning-Points-0.1\"><span class=\"toc-item-num\">0.1&nbsp;&nbsp;</span>Key Learning Points</a></span></li></ul></li><li><span><a href=\"#Problem-1-(RBC-with-labor-disutility)\" data-toc-modified-id=\"Problem-1-(RBC-with-labor-disutility)-1\"><span class=\"toc-item-num\">1&nbsp;&nbsp;</span>Problem 1 (RBC with labor disutility)</a></span><ul class=\"toc-item\"><li><span><a href=\"#Question-1.1\" data-toc-modified-id=\"Question-1.1-1.1\"><span class=\"toc-item-num\">1.1&nbsp;&nbsp;</span>Question 1.1</a></span></li><li><span><a href=\"#Question-1.2\" data-toc-modified-id=\"Question-1.2-1.2\"><span class=\"toc-item-num\">1.2&nbsp;&nbsp;</span>Question 1.2</a></span></li><li><span><a href=\"#Question-1.3\" data-toc-modified-id=\"Question-1.3-1.3\"><span class=\"toc-item-num\">1.3&nbsp;&nbsp;</span>Question 1.3</a></span></li><li><span><a href=\"#Question-1.4\" data-toc-modified-id=\"Question-1.4-1.4\"><span class=\"toc-item-num\">1.4&nbsp;&nbsp;</span>Question 1.4</a></span></li><li><span><a href=\"#Question-1.5\" data-toc-modified-id=\"Question-1.5-1.5\"><span class=\"toc-item-num\">1.5&nbsp;&nbsp;</span>Question 1.5</a></span></li><li><span><a href=\"#Question-1.6\" data-toc-modified-id=\"Question-1.6-1.6\"><span class=\"toc-item-num\">1.6&nbsp;&nbsp;</span>Question 1.6</a></span></li><li><span><a href=\"#Question-1.7\" data-toc-modified-id=\"Question-1.7-1.7\"><span class=\"toc-item-num\">1.7&nbsp;&nbsp;</span>Question 1.7</a></span></li></ul></li><li><span><a href=\"#Problem-2-(Models-vs-Reality,-Optional*)\" data-toc-modified-id=\"Problem-2-(Models-vs-Reality,-Optional*)-2\"><span class=\"toc-item-num\">2&nbsp;&nbsp;</span>Problem 2 (Models vs Reality, Optional*)</a></span></li><li><span><a href=\"#Problem-3-(A-Reduced-form-CIA-Monetary-Model)\" data-toc-modified-id=\"Problem-3-(A-Reduced-form-CIA-Monetary-Model)-3\"><span class=\"toc-item-num\">3&nbsp;&nbsp;</span>Problem 3 (A Reduced-form CIA Monetary Model)</a></span></li><li><span><a href=\"#Problem-4-(optional)\" data-toc-modified-id=\"Problem-4-(optional)-4\"><span class=\"toc-item-num\">4&nbsp;&nbsp;</span>Problem 4 (optional)</a></span></li></ul></div>"
   ]
  },
  {
   "cell_type": "markdown",
   "metadata": {},
   "source": [
    "### Key Learning Points\n",
    "\n",
    "* Applying recursive competitive equilibrium (under rational expectations), or RCE concept in two well-known models in macro\n",
    "\n",
    "* Connecting RCE concept to dynamic programming and Euler functional equations\n",
    "\n",
    "    * Application to a real business cycle model\n",
    "    \n",
    "    * Extension/modification of RBC towards a popular New Keynesian monetary-policy framework\n",
    "\n",
    "* Solving special-case, linear approximation of (first-order perturbation about a steady state solution) Euler functional equation\n",
    "\n",
    "    * Equivalently, solving a system of forward looking and backward looking difference equations (DEs)\n",
    "    \n",
    "    * Eigenvalue-eigenvector decomposition and connection to saddle-path stable equilibrium dynamics:\n",
    "    \n",
    "        * forward-looking DEs without initial condition are connected to unstable eigenvalues\n",
    "        \n",
    "        * backward-looking DEs with initial conditions are connect to stable eigenvalue\n",
    "        \n",
    "        * Earlier lessons from reduced-from rational expectations macroeconometric models (see Dornbusch 1976 as example)\n",
    "        \n",
    "        * Same techniques adapted to solving stochastic (linearized) Euler functional systems arising from RCE (e.g. in RBC and NK models)\n",
    "\n",
    "\n",
    "\n",
    "* Connection between model solution and a time-series data generating process"
   ]
  },
  {
   "cell_type": "code",
   "execution_count": 1,
   "metadata": {},
   "outputs": [],
   "source": [
    "import numpy as np\n",
    "import matplotlib.pyplot as plt\n",
    "import pandas\n",
    "import warnings\n",
    "\n",
    "%matplotlib inline"
   ]
  },
  {
   "cell_type": "markdown",
   "metadata": {},
   "source": [
    "## Problem 1 (RBC with labor disutility)\n",
    "\n",
    "Consider a real business cycle model. Let $C$ be consumption, $N$ be labor hours, $K$ be capital stock, $Y$ be output and $A$ be exogenous total factor productivity. When we write $X_{t}$, we mean $X_{t} := X(K_{t}, A_{t})$ (i.e, a time-invariant function of relevant aggregate states). \n",
    "\n",
    "Our model economy consists of a measure-1 population identical agents (so aggregate outcomes also have the interpretation of average outcomes). \n",
    "\n",
    "The representative agent's preference is described by\n",
    "$$\n",
    "\\mathbb{E}_{0} \\sum_{t=0}^{\\infty} \\beta^{t} \\left( \\ln C_{t} - \\eta N_{t} \\right).\n",
    "$$\n",
    "\n",
    "The resource and technological constraint in this economy is given by\n",
    "$$\n",
    "C_{t} + K_{t+1} = Y_{t} + (1-\\delta)K_{t}\n",
    "$$\n",
    "$$\n",
    "Y_{t} = A_{t} K_{t}^{\\alpha}N_{t}^{1-\\alpha}\n",
    "$$\n",
    "$$\n",
    "A_{t} = A_{ss}^{1-\\rho}A_{t-1}^{\\rho}\\exp\\{s_{t}\\},\n",
    "$$\n",
    "where $\\delta, \\alpha, \\rho, \\beta \\in (0,1)$, $A_{ss}$ and $\\eta$ are positive-valued, and $s_{t} \\sim \\text{i.i.d.}(0,\\sigma^{2})$. \n",
    "\n",
    "The exogenous random state $A_{t}$ is realized at the beginning of period $t$ and $K_{t+1}$ is determined thereafter in period $t$.\n",
    "\n",
    "Note: Since $A$ is the only source of aggregate risk in the economy, the expectations operator is an integral operator with respect to the conditional distribution of $A_{t}$, given $A_0$ ---i.e., $\\mathbb{E}_0 := \\mathbb{E}\\{\\cdot | A_{0}\\}$. Also $A_{t}$ is a Markov process.\n",
    "\n",
    "\n"
   ]
  },
  {
   "cell_type": "markdown",
   "metadata": {},
   "source": [
    "### Question 1.1\n",
    "\n",
    "Write down the social planner's Bellman equation."
   ]
  },
  {
   "cell_type": "markdown",
   "metadata": {},
   "source": [
    "### Question 1.2\n",
    "\n",
    "Characterized the optimal allocations under the social planner' problem."
   ]
  },
  {
   "cell_type": "markdown",
   "metadata": {},
   "source": [
    "### Question 1.3\n",
    "\n",
    "Suppose now the planner does not exist and the allocation procedure is determined through a centralized Walrasian market. There is the representative household that owns labor and capital, who rents it to a competitive firm via competitive factor markets. The firm produces an output that can be either consumed or invested into more capital by the household.\n",
    "\n",
    "* Distinguish between individual state variables and aggregate state variables. What are these, respectively? Hint: Use the little-$k$ vs big-$K$ convention.\n",
    "\n",
    "* Be precise about the dependency of variables of the notion of state variables. Write down the household Bellman equation and characterize its optimal contingent plan.\n",
    "\n",
    "* Define the firm's optimization problem and characterize its optimal contingent plan.\n",
    "\n",
    "* Define a *recursive* competitive equilibrium (with rational expectations) for this economy."
   ]
  },
  {
   "cell_type": "markdown",
   "metadata": {},
   "source": [
    "### Question 1.4\n",
    "\n",
    "*The purpose of this exercise is for you to learn first-hand how the linear perturbation technique works for a small problem which can be solved by hand. For bigger models there are canned software like [DYNARE](https://www.dynare.org/) (Matlab based) or [DOLO](https://github.com/EconForge/dolo) (Python and Julia based).*\n",
    "\n",
    "Use the log-linear first-order perturbation approximation technique to approximate the conditions characterizing a recursive competitive equilibrium.\n",
    "\n",
    "* Write down the original nonlinear model's equilibrium conditions at the deterministic steady state. Then solve for the equilibrium capital-labor ratio ($K_{ss}/N_{ss}$), consumption level ($C_{ss}$), capital stock ($K_{ss}$), and employment ($N_{ss}$), at the non-stochastic steady state.\n",
    "\n",
    "* Define the percentage deviation of a variable $X$ from its deterministic steady state point as $\\hat{x}_{t} = \\ln(X_{t}) - \\ln(X_{ss})$. From the RCE conditions you may have linear sums of nonlinear functionals. Take a first-order Taylor series approximation of these separate nonlinear functionals and express the resulting log-linearized functional equation system in terms of variables in percentage deviations from steady state.\n",
    "\n",
    "    (Hint: You may invoke the fundamental welfare theorem and solve the planner's allocation first, and then construct equilibrium pricing functions afterward. See [these notes for an example](https://www.dropbox.com/s/jwhscnvsojpdp1h/08rbclinear.pdf?dl=0).) \n",
    "\n"
   ]
  },
  {
   "cell_type": "markdown",
   "metadata": {},
   "source": [
    "### Question 1.5\n",
    "\n",
    "Show that the system you have just derived can be simplified to        \n",
    "$$\n",
    "\\left[\\begin{matrix}\\hat{k}_{t+1}\\\\ \\mathbb{E}_{t}\\hat{c}_{t+1}\\end{matrix}\\right]=\\mathbf{M}\\left[\\begin{matrix}\\hat{k}_{t}\\\\ \\hat{c}_{t}\\end{matrix}\\right]+\\mathbf{L}\\hat{a}_{t}.\n",
    "$$\n",
    "\n",
    "List what the elements of $\\mathbf{M}$ and $\\mathbf{L}$ are in terms of the deep parameters and steady-state ratios of variables. (Be careful with your algebra here because your numerical results depend on this.)\n"
   ]
  },
  {
   "cell_type": "markdown",
   "metadata": {},
   "source": [
    "### Question 1.6\n",
    "\n",
    "Once you have populated $\\mathbf{M}$ and $\\mathbf{L}$ from the last section, solve the linear(ized) Euler functional equation system using the following linear decision functions as a guess for its fixed point solution:\n",
    "$$\n",
    "\\hat{k}_{t+1} = P\\hat{k}_{t} + Q\\hat{a}_{t}\n",
    "$$\n",
    "and\n",
    "$$\n",
    "\\hat{c}_{t} = R\\hat{k}_{t} + S\\hat{a}_{t}.\n",
    "$$\n",
    "A locally stable rational expectations equilibrium requires that $\\vert P \\vert \\lt 1$. Solve for $P$ and then $(Q, R, S)$. (Hint: $P$ will be a function of some deep parameter. You may leave your solutions in terms of the elements of $\\mathbf{M}$ and $\\mathbf{L}$.)\n",
    "\n",
    "(Notice that this is just a special case of solving for the fixed point of an Euler functional equation system, where the system now is (approximately) linear or log-linear.)\n",
    "\n",
    "*This solution can be viewed as a state-space representation of a linear time-series model*. Its reduced-form parameters are constrained by economic theory through the nonlinear restrictions embedded in $P, Q, R, S$."
   ]
  },
  {
   "cell_type": "markdown",
   "metadata": {},
   "source": [
    "### Question 1.7\n",
    "\n",
    "From U.S. long run data, gross return on capital is $R_{ss}=1.01$ per quarter, and long run average share of labor income in gross national income (GNP) is $1/3$. The long run capital-output ratio is about 8.92 per quarter. The long run average of hours worked proportional total time is $N_{ss} = 1/3$. Normalize $A_{ss} =1$, and suppose that we have estimated the parameters for the AR(1) process for log-TFP as: $\\rho = 0.95$ and $\\sigma = 0.712$.\n",
    "* Show how you can identify and point-estimate or calibrate the rest of the model parameters $(\\alpha, \\beta, \\delta, \\eta)$.\n",
    "* Given model parametrization, compute $P,Q,R,S$.\n",
    "* Plot impulse responses (in percentage deviation terms from respective steady state values) for the level of technology, capital, consumption, investment, employment, gross national output, and the real gross return on capital and wage rate. Comment on your results.\n",
    "* Without simulating artificial time series, compute the covariance stationary standard deviations and correlation coefficients of each variable with respect to the model's gross national output. Comment on these statistics -- what do they imply about the model's prediction of business cycles?\n",
    "* Simulate a sequence of shocks $\\{s_{t}\\}_{t=1}^{1000}$, assuming $s_{t} \\sim \\text{i.i.d.}N (0,\\sigma^{2})$, and discard the first 800 observations. Plot the resulting sample time series for the same set of variables above. Now calculate the standard deviations and correlation coefficients of each variable with respect to the model's gross national output in your simulated data. Comment on your results in relation to the population statistics you calculated in the last section."
   ]
  },
  {
   "cell_type": "markdown",
   "metadata": {},
   "source": [
    "## Problem 2 (Models vs Reality, Optional*)\n",
    "\n",
    "*$^{\\ast}$Not assessable for this course*\n",
    "\n",
    "Models such as the one above can be confronted with observed data.\n",
    "\n",
    "1. Download observable counterparts for output, consumption, average hours worked, and investment. Use U.S. macroeconomic data as an example. You will need to construct a filtered version of this data as the raw time series data is non-stationary (i.e., its has some unobserved trend components). Use a band-pass filter for example.\n",
    "\n",
    "2. Given your filtered, stationary components of the time series, compute their statistics that correspond to what you have obtained from simulating the approximate log-linearized solution of your model. \n",
    "\n",
    "3. *Informal empiricism*. Eyeball what you have from the observed data and from your model's synthetic data. How \"close\" is the model to the \"data\" in terms of these partial information targets?\n",
    "\n",
    "4. *A formal empirical strategy*. Suggest how you would estimate this model more rigorously using classical maximum likelihood methods. To do so, you need to construct the model's data likelihood function (recursively) using the famous Kalman filter. In the last problem, we pretended that we have estimated the log-TFP process. However, TFP data (and physical capital data) may not be reliable since it is (they are) not directly observable or measured. How would you go about dealing with this problem in your estimation strategy?\n",
    "\n",
    "5. Suppose your friend proposed a variation on your model above as a better candidate of the true data generating process underlying the observed time series data. How would you go about testing whose model is more preferred? (Hint: You need to do a likelihood ratio test, if you're finding classical maximum likehood estimators of the two models.)"
   ]
  },
  {
   "cell_type": "markdown",
   "metadata": {},
   "source": [
    "## Problem 3 (A Reduced-form CIA Monetary Model)"
   ]
  },
  {
   "cell_type": "markdown",
   "metadata": {},
   "source": [
    "Consider a simplified [monetary business cycle model by Alberto Giovaninni and Pamela Labadie](https://dx.doi.org/10.1086/261798) (1991, *J. Pol. Econ*). This a Real Business Cycle model with money tacked on. The idea is that people demand money in order to overcome some un-modelled payments friction. That is, they need **cash in advance** in order to purchase certain types of goods that require cash payments."
   ]
  },
  {
   "cell_type": "markdown",
   "metadata": {},
   "source": [
    "Giovaninni and Labadie used this model to address the observed empirical regularities: positive and high correlation between the return on nominal bonds and the return on equity, real return on stocks are rarely negatively associated with inflation, and ex ante real interest rates are uncorrelated with expected inflation."
   ]
  },
  {
   "cell_type": "markdown",
   "metadata": {},
   "source": [
    "The state vector is a pair, denoted as $s_{t} = (\\eta_{t}, \\mu_{t})$. The state variables, respectively, are the random growth rates of income endowment $Y_{t}$ and money supply $M_{t}$:\n",
    "$$\n",
    "    Y_{t} = \\eta_{t}Y_{t-1},\n",
    "$$\n",
    "and\n",
    "$$\n",
    "    M_{t} = \\mu_{t}M_{t-1}.\n",
    "$$\n",
    "Assume that $s_{t}$ is a stationary, Markovian stochastic process with a well defined conditional probability distribution: $s_{t+1} \\sim Q(\\cdot|s_{t})$.\n",
    "Let $\\phi_{t} = 1/p_{t}$ denote the inverse of the price level of a general consumption good $c_{t}$. Endogenous variables will be written as, say $X_{t} := X(s_{t})$."
   ]
  },
  {
   "cell_type": "markdown",
   "metadata": {},
   "source": [
    "Given the income and money supply growth processes, a representative agent solves the program\n",
    "\\begin{equation*}\n",
    "\\max_{\\{c_{t}, x_{t}, M_{t}^{d}\\}_{t=0}^{\\infty}} \n",
    "\\mathbb{E}_{0} \n",
    "\\sum_{t=0}^{\\infty}\\beta^{t}\\frac{c_{t}^{1-\\sigma}}{1-\\sigma}\n",
    "\\end{equation*}\n",
    "subject to:\n",
    "\\begin{equation*}\n",
    "c_{t} \\in [0, M_{t}^{d}\\phi_{t}],\n",
    "\\end{equation*}\n",
    "and,\n",
    "\\begin{equation*}\n",
    "M_{t}^{d}\\phi_{t} + x_{t}q_{t} \\leq (\\mu_{t}-1)M_{t-1}\\phi_{t} + \\left(M_{t-1}^{d}\\phi_{t} - c_{t-1}\\frac{\\phi_{t}}{\\phi_{t-1}}\\right) + \\left(Y_{t-1}\\frac{\\phi_{t}}{\\phi_{t-1}} + q_{t}\\right)x_{t-1},\n",
    "\\end{equation*}\n",
    "where $M_{-1}, Y_{-1}$ are given.\n",
    "\n",
    "The variable $q_{t}$ is current share price, $x_{t}$ and $M^{d}_{t}$, respectively, denote equity shares and nominal money demanded in date $t$.\n",
    "\n",
    "Assume that $\\beta\\mathbb{E}_{t}\\{(\\eta_{t})^{1-\\gamma}\\} \\equiv \\beta\\int (\\eta_{t})^{1-\\gamma}Q(ds_{t+1}|s_{t}) < 1$."
   ]
  },
  {
   "cell_type": "markdown",
   "metadata": {},
   "source": [
    "1. Explain the first two constraints. What do they mean? (The first one is often called a *cash-in-advance* constraint.)\n",
    "\n",
    "2. Derive the optimality conditions for the representative agent, including relevant Karush-Kuhn-Tucker (KKT) complementary slackness conditions. (Note: You may assume that the budget constraint is always binding and that consumption will never hit zero. In some states of the world, the CIA constraint $c_{t} \\leq M_{t}^{d}\\phi_{t}$ may be binding. So there will be two cases to characterize here.)\n",
    "\n",
    "3. Write down formally, a *recursive competitive equilibrium* (RCE) for this economy. Show that this is represented by an integral operator that looks like an Euler functional equation. *Hint*: The goods market clears. The money market also clears and shares in circulation must add up to one. \n",
    "\n",
    "4. Consider a change a variables $v(s_{t}) = \\frac{\\phi(s_{t})M_{t}}{Y_{t}}$. Prove that there is a unique solution to the RCE in terms of $v(s_{t})$. What is an economic interpretation and name for this variable?\n",
    "\n",
    "5. Design an algorithm for solving the RCE."
   ]
  },
  {
   "cell_type": "markdown",
   "metadata": {},
   "source": [
    "**Postcript**. Now, you might ask, if we have a real business cycle economy with complete asset markets, why then would a redundant asset like money exist? The logical answer would be no, it wouldn't exist. As some have quipped: [\"Money is somewhat of an embarassment to [general-equilibrium] *(sic)* economic theory.\"](https://scholar.harvard.edu/files/maskin/files/a_walrasian_theory_of_money_and_barter.pdf)"
   ]
  },
  {
   "cell_type": "markdown",
   "metadata": {},
   "source": [
    "## Problem 4 (optional)\n",
    "\n",
    "**Replication exercise**. Use Giovaninni and Labadie's calibrated parameter values and solve for the RCE. Replicate their results using the model above."
   ]
  },
  {
   "cell_type": "markdown",
   "metadata": {},
   "source": [
    "    At last, when I woke from my slumber and opened my eyes, \n",
    "    I saw thee standing by me, flooding my sleep with thy smile. \n",
    "    How I had feared that the path was long and wearisome, \n",
    "    and the struggle to reach thee was hard!\n",
    "\n",
    "excerpt from *The Journey* (Rabindranath Tagore)"
   ]
  },
  {
   "cell_type": "code",
   "execution_count": null,
   "metadata": {
    "scrolled": true
   },
   "outputs": [],
   "source": []
  }
 ],
 "metadata": {
  "kernelspec": {
   "display_name": "Python 3",
   "language": "python",
   "name": "python3"
  },
  "language_info": {
   "codemirror_mode": {
    "name": "ipython",
    "version": 3
   },
   "file_extension": ".py",
   "mimetype": "text/x-python",
   "name": "python",
   "nbconvert_exporter": "python",
   "pygments_lexer": "ipython3",
   "version": "3.6.12"
  },
  "latex_envs": {
   "LaTeX_envs_menu_present": true,
   "autoclose": false,
   "autocomplete": true,
   "bibliofile": "biblio.bib",
   "cite_by": "apalike",
   "current_citInitial": 1,
   "eqLabelWithNumbers": true,
   "eqNumInitial": 1,
   "hotkeys": {
    "equation": "Ctrl-E",
    "itemize": "Ctrl-I"
   },
   "labels_anchors": false,
   "latex_user_defs": false,
   "report_style_numbering": false,
   "user_envs_cfg": false
  },
  "toc": {
   "base_numbering": 1,
   "nav_menu": {},
   "number_sections": true,
   "sideBar": false,
   "skip_h1_title": false,
   "title_cell": "Table of Contents",
   "title_sidebar": "Contents",
   "toc_cell": true,
   "toc_position": {},
   "toc_section_display": true,
   "toc_window_display": true
  }
 },
 "nbformat": 4,
 "nbformat_minor": 2
}