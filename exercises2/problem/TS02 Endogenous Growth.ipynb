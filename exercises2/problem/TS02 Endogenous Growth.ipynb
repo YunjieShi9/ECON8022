{
 "cells": [
  {
   "cell_type": "markdown",
   "id": "steady-macintosh",
   "metadata": {
    "toc": true
   },
   "source": [
    "<h1>Table of Contents<span class=\"tocSkip\"></span></h1>\n",
    "<div class=\"toc\"><ul class=\"toc-item\"><li><span><a href=\"#An-early-Harrod-Domar-('39,-'46)-endogenous-growth-model\" data-toc-modified-id=\"An-early-Harrod-Domar-('39,-'46)-endogenous-growth-model-1\"><span class=\"toc-item-num\">1&nbsp;&nbsp;</span>An early Harrod-Domar ('39, '46) endogenous growth model</a></span></li><li><span><a href=\"#Computation-and-visualization-exercise\" data-toc-modified-id=\"Computation-and-visualization-exercise-2\"><span class=\"toc-item-num\">2&nbsp;&nbsp;</span>Computation and visualization exercise</a></span></li><li><span><a href=\"#Lucas-'88-meets-Glomm-Ravikumar-'92\" data-toc-modified-id=\"Lucas-'88-meets-Glomm-Ravikumar-'92-3\"><span class=\"toc-item-num\">3&nbsp;&nbsp;</span>Lucas '88 meets Glomm-Ravikumar '92</a></span></li><li><span><a href=\"#Computation-and-visualization-exercise\" data-toc-modified-id=\"Computation-and-visualization-exercise-4\"><span class=\"toc-item-num\">4&nbsp;&nbsp;</span>Computation and visualization exercise</a></span></li></ul></div>"
   ]
  },
  {
   "cell_type": "code",
   "execution_count": 4,
   "id": "stylish-reach",
   "metadata": {},
   "outputs": [],
   "source": [
    "import numpy as np\n",
    "import matplotlib.pyplot as plt"
   ]
  },
  {
   "cell_type": "markdown",
   "id": "elect-wiring",
   "metadata": {},
   "source": [
    "# An early Harrod-Domar ('39, '46) endogenous growth model"
   ]
  },
  {
   "cell_type": "markdown",
   "id": "blond-monroe",
   "metadata": {},
   "source": [
    "Consider the textbook Solow-Swan growth model (see T01) with Cobb-Douglas production function and a capital income share of total production measured as $0< \\alpha \\leq 1$. Population grows at a constant rate of $n > -1$. Total factor productivity is constant at $Z > 0$ and consumers' common marginal propensity to save out of current income is $s \\in (0,1)$.\n",
    "\n",
    "Under what parameter restriction(s) would there be\n",
    "\n",
    "1. perpetual growth?\n",
    "\n",
    "2. No growth? \n",
    "\n",
    "Provide plain-English, economic explanations of your insights."
   ]
  },
  {
   "cell_type": "markdown",
   "id": "constant-secretariat",
   "metadata": {},
   "source": [
    "**Solution**.\n",
    "\n",
    "Let $X_{t} :=: X$ and $X_{t+1} :=: X'$.\n",
    "\n",
    "We'll write this for the general case where $Z'/Z = 1+g$ and $N'/N = (1+n)$.\n",
    "\n",
    "The model equilibrium is given as:\n",
    "\\begin{equation*}\n",
    "    \\begin{split}\n",
    "    Y = K^{\\alpha}(ZN)^{1-\\alpha},\n",
    "    \\\\\n",
    "    K' = (1-\\delta)K + sY.\n",
    "    \\end{split}\n",
    "\\end{equation*}\n",
    "These two equations, respectively, are the production function and the national accounting identity. The national accounting identity has incorporated our neoclassical capital production/accumulation equation."
   ]
  },
  {
   "cell_type": "markdown",
   "id": "overall-preliminary",
   "metadata": {},
   "source": [
    "Rewrite in per-efficient-worker terms, e.g., $k = K/(ZN)$, we have:\n",
    "\\begin{equation*}\n",
    "k' = \\frac{(1-\\delta)k + sk^{\\alpha}}{(1+n)(1+g)}.\n",
    "\\end{equation*}"
   ]
  },
  {
   "cell_type": "markdown",
   "id": "concrete-unemployment",
   "metadata": {},
   "source": [
    "If $\\alpha=1$, then \n",
    "\\begin{equation*}\n",
    "    k' = Ak,\n",
    "\\end{equation*}\n",
    "where \n",
    "\\begin{equation*}\n",
    "    A = \\frac{1-\\delta + s}{(1+n)(1+g)}.\n",
    "\\end{equation*}\n",
    "\n",
    "So this is of a form akin to the early Harrod-Domar \"AK\" model. This is just a linear homogenous difference equation in $k$."
   ]
  },
  {
   "cell_type": "markdown",
   "id": "extended-seven",
   "metadata": {},
   "source": [
    "Observation:\n",
    "\n",
    "1. $A > 1 \\iff s > (1+n)(1+g) - (1-\\delta)$ gives perpetual growth since $k'/k > 1$. \n",
    "\n",
    "    * The point $k=0$ is an unstable steady state equilibrium.\n",
    "\n",
    "2. $A < 1 \\iff s < (1+n)(1+g) - (1-\\delta)$ renders no perpetual growth since $k'/k < 1$. \n",
    "\n",
    "    * The point $k=0$ is an globlly stable steady state equilibrium.\n",
    "\n",
    "3. $A = 1 \\iff s = (1+n)(1+g) - (1-\\delta)$ implies no perpetual growth since $k'/k = 1$. \n",
    "\n",
    "    * Every point in $\\mathbb{R}_{+}$ is a stable steady state."
   ]
  },
  {
   "cell_type": "markdown",
   "id": "roman-lafayette",
   "metadata": {},
   "source": [
    "# Computation and visualization exercise"
   ]
  },
  {
   "cell_type": "markdown",
   "id": "declared-badge",
   "metadata": {},
   "source": [
    "Now try to demonstrate your analytical insights."
   ]
  },
  {
   "cell_type": "code",
   "execution_count": 28,
   "id": "legislative-jacksonville",
   "metadata": {},
   "outputs": [],
   "source": [
    "# Set parameters\n",
    "α = 1.0\n",
    "δ = 0.10\n",
    "n = 0.001\n",
    "g = 0.0    "
   ]
  },
  {
   "cell_type": "markdown",
   "id": "victorian-breed",
   "metadata": {},
   "source": [
    "Here I'll set $g=0$ so there is no source of exogenous growth in per capita income.\n",
    "\n",
    "Then, any possible growth in the long run will only come from the feature of the \"endogenous\" $A$ term."
   ]
  },
  {
   "cell_type": "code",
   "execution_count": 29,
   "id": "spoken-weight",
   "metadata": {},
   "outputs": [],
   "source": [
    "# Composite parameter on RHS of our sufficient condition\n",
    "test_rhs = (1.0+n)*(1.0+g)-(1.0-δ)"
   ]
  },
  {
   "cell_type": "code",
   "execution_count": 30,
   "id": "intensive-attempt",
   "metadata": {
    "scrolled": true
   },
   "outputs": [
    {
     "name": "stdout",
     "output_type": "stream",
     "text": [
      "0.10099999999999987\n"
     ]
    }
   ],
   "source": [
    "print(test_rhs)"
   ]
  },
  {
   "cell_type": "code",
   "execution_count": 31,
   "id": "possible-gabriel",
   "metadata": {},
   "outputs": [],
   "source": [
    "s = 0.15"
   ]
  },
  {
   "cell_type": "markdown",
   "id": "clean-introduction",
   "metadata": {},
   "source": [
    "One way to neatly pack away many input (here, parameters) is to use a ``DICT``:"
   ]
  },
  {
   "cell_type": "code",
   "execution_count": 32,
   "id": "variable-minister",
   "metadata": {},
   "outputs": [],
   "source": [
    "parameters = {\n",
    "                'capital share'     : α,\n",
    "                'depreciation rate' : δ,\n",
    "                'pop growth rate'   : n,\n",
    "                'tech growth rate'  : g,\n",
    "                'saving rate'       : s,\n",
    "             }"
   ]
  },
  {
   "cell_type": "markdown",
   "id": "saving-nutrition",
   "metadata": {},
   "source": [
    "Now we define the equilibrium map in terms of variables detrended by exogenous growth factors, and also in terms of potentially growing variables:"
   ]
  },
  {
   "cell_type": "code",
   "execution_count": 33,
   "id": "female-private",
   "metadata": {},
   "outputs": [],
   "source": [
    "def modelonuevo(k, Z, parameters):\n",
    "    \"\"\"Equilbrium map of growth model.\"\"\"\n",
    " \n",
    "    # Extract parameter values\n",
    "    α = parameters['capital share']\n",
    "    δ = parameters['depreciation rate']\n",
    "    n = parameters['pop growth rate']\n",
    "    g = parameters['tech growth rate']\n",
    "    s = parameters['saving rate']\n",
    "    # Per-efficiency units of worker terms\n",
    "    k_next = ((1.0-δ)*k + s*k**α)/((1.0+n)*(1.0+g))\n",
    "    y = k**α\n",
    "    # Technology\n",
    "    Z_next = (1.0+g)*Z\n",
    "    # Per worker terms\n",
    "    kw = k*Z\n",
    "    yw = y*Z\n",
    "    return k_next, y, kw, yw, Z_next"
   ]
  },
  {
   "cell_type": "markdown",
   "id": "suffering-arbor",
   "metadata": {},
   "source": [
    "Write a little function to solve the model for its equilibrium trajectory:"
   ]
  },
  {
   "cell_type": "code",
   "execution_count": 36,
   "id": "interesting-nurse",
   "metadata": {},
   "outputs": [],
   "source": [
    "def simulate(parameters, k0=0.5, Z0=1.0, T=50):\n",
    "    \"\"\"Solve recursion for T periods\"\"\"\n",
    "    \n",
    "    # Initial states\n",
    "    k, Z = k0, Z0\n",
    "    # data collection dictionary\n",
    "    data = { 'k' : [], 'y' : [], 'kw': [], 'yw': [], 'Z': [] }\n",
    "    for t in range(T):\n",
    "        # Evaluate data generation process once\n",
    "        k_next, y, kw, yw, Z_next = modelonuevo(k, Z, parameters)\n",
    "        # Update data collection book\n",
    "        data['k'].append(k)\n",
    "        data['y'].append(y)\n",
    "        data['kw'].append(kw)\n",
    "        data['yw'].append(yw)\n",
    "        data['Z'].append(Z)\n",
    "        # Update states for next iteration t\n",
    "        k, Z = k_next, Z_next\n",
    "    return data"
   ]
  },
  {
   "cell_type": "markdown",
   "id": "possible-journal",
   "metadata": {},
   "source": [
    "Here's a sample result, where we savings rate to be sufficiently large to induce perpetual growth:"
   ]
  },
  {
   "cell_type": "code",
   "execution_count": 43,
   "id": "fourth-insulin",
   "metadata": {},
   "outputs": [],
   "source": [
    "out = simulate(parameters, k0=0.5, Z0=1.0, T=50)"
   ]
  },
  {
   "cell_type": "markdown",
   "id": "urban-wrong",
   "metadata": {},
   "source": [
    "Let's visualize the equilibrium path in a phase diagram:"
   ]
  },
  {
   "cell_type": "code",
   "execution_count": 59,
   "id": "composite-reunion",
   "metadata": {
    "scrolled": false
   },
   "outputs": [
    {
     "data": {
      "image/png": "[encoded data removed]",
      "text/plain": [
       "<Figure size 432x288 with 1 Axes>"
      ]
     },
     "metadata": {
      "needs_background": "light"
     },
     "output_type": "display_data"
    }
   ],
   "source": [
    "plt.figure()\n",
    "# Render 45-degree line\n",
    "kspace = np.linspace(0.0, max(out['k']), 100)\n",
    "plt.plot(kspace, kspace, '-r', alpha=0.3, label=r'$45^{\\circ}$')\n",
    "# Plot the equilibrium trajectory in phase diagram\n",
    "klag = out['k'][0:-2]\n",
    "klead = out['k'][1:-1]\n",
    "plt.plot(klag, klead, '.', label='Equilibrium path')\n",
    "# Labels and whatnot\n",
    "plt.legend()\n",
    "plt.xlabel('$k_{t}$')\n",
    "plt.ylabel('$k_{t+1}$')\n",
    "plt.title('$A > 1$')\n",
    "plt.show()"
   ]
  },
  {
   "cell_type": "markdown",
   "id": "tribal-composition",
   "metadata": {},
   "source": [
    "Or as a time path:"
   ]
  },
  {
   "cell_type": "code",
   "execution_count": 60,
   "id": "hindu-complex",
   "metadata": {},
   "outputs": [
    {
     "data": {
      "image/png": "[encoded data removed]",
      "text/plain": [
       "<Figure size 432x288 with 1 Axes>"
      ]
     },
     "metadata": {
      "needs_background": "light"
     },
     "output_type": "display_data"
    }
   ],
   "source": [
    "plt.figure()\n",
    "plt.plot(np.arange(len(out['k'])), out['k'], 'o')\n",
    "plt.xlabel('$t$')\n",
    "plt.ylabel('$k_{t}$')\n",
    "plt.title('Trajectory of $k$, $A > 1$')\n",
    "plt.show()"
   ]
  },
  {
   "cell_type": "markdown",
   "id": "offensive-logging",
   "metadata": {},
   "source": [
    "**More workouts!**\n",
    "\n",
    "Try extending your code above to consider different cases of $s$ such that $A > 0$, or $A\\leq 0$."
   ]
  },
  {
   "cell_type": "code",
   "execution_count": 61,
   "id": "clinical-screw",
   "metadata": {},
   "outputs": [],
   "source": [
    "# Consider 3 cases of s ...\n",
    "experiment = {'saving rate': [0.5*test_rhs, test_rhs, 2.0*test_rhs]}"
   ]
  },
  {
   "cell_type": "markdown",
   "id": "demonstrated-mistake",
   "metadata": {},
   "source": [
    "**Maccas time.** Let's package the plotting tasks we've previously hand-coded into a flippable, reusable function:"
   ]
  },
  {
   "cell_type": "code",
   "execution_count": 74,
   "id": "personalized-franklin",
   "metadata": {},
   "outputs": [],
   "source": [
    "def showpath(out, s):\n",
    "    plt.figure()\n",
    "    # Render 45-degree line\n",
    "    kspace = np.linspace(0.0, max(out['k']), 100)\n",
    "    plt.plot(kspace, kspace, '-r', alpha=0.3, label=r'$45^{\\circ}$')\n",
    "    # Plot the equilibrium trajectory in phase diagram\n",
    "    klag = out['k'][0:-2]\n",
    "    klead = out['k'][1:-1]\n",
    "    plt.plot(klag, klead, '.', label='Equilibrium path')\n",
    "    # Labels and whatnot\n",
    "    plt.legend()\n",
    "    plt.xlabel('$k_{t}$')\n",
    "    plt.ylabel('$k_{t+1}$')\n",
    "    plt.title('$s$ = %5.2f' %(s))\n",
    "    plt.show()\n",
    "    \n",
    "    plt.figure()\n",
    "    plt.plot(np.arange(len(out['k'])), out['k'], 'o')\n",
    "    plt.xlabel('$t$')\n",
    "    plt.ylabel('$k_{t}$')\n",
    "    plt.title('Trajectory of $k$, $s$ = %5.2f' %(s))\n",
    "    plt.show()"
   ]
  },
  {
   "cell_type": "code",
   "execution_count": 76,
   "id": "aging-lloyd",
   "metadata": {
    "scrolled": false
   },
   "outputs": [
    {
     "name": "stdout",
     "output_type": "stream",
     "text": [
      "Case 0: Now solving model indexed by s = 0.05\n"
     ]
    },
    {
     "data": {
      "image/png": "[encoded data removed]",
      "text/plain": [
       "<Figure size 432x288 with 1 Axes>"
      ]
     },
     "metadata": {
      "needs_background": "light"
     },
     "output_type": "display_data"
    },
    {
     "data": {
      "image/png": "[encoded data removed]",
      "text/plain": [
       "<Figure size 432x288 with 1 Axes>"
      ]
     },
     "metadata": {
      "needs_background": "light"
     },
     "output_type": "display_data"
    },
    {
     "name": "stdout",
     "output_type": "stream",
     "text": [
      "Case 1: Now solving model indexed by s = 0.10\n"
     ]
    },
    {
     "data": {
      "image/png": "[encoded data removed]",
      "text/plain": [
       "<Figure size 432x288 with 1 Axes>"
      ]
     },
     "metadata": {
      "needs_background": "light"
     },
     "output_type": "display_data"
    },
    {
     "data": {
      "image/png": "[encoded data removed]",
      "text/plain": [
       "<Figure size 432x288 with 1 Axes>"
      ]
     },
     "metadata": {
      "needs_background": "light"
     },
     "output_type": "display_data"
    },
    {
     "name": "stdout",
     "output_type": "stream",
     "text": [
      "Case 2: Now solving model indexed by s = 0.20\n"
     ]
    },
    {
     "data": {
      "image/png": "[encoded data removed]",
      "text/plain": [
       "<Figure size 432x288 with 1 Axes>"
      ]
     },
     "metadata": {
      "needs_background": "light"
     },
     "output_type": "display_data"
    },
    {
     "data": {
      "image/png": "[encoded data removed]",
      "text/plain": [
       "<Figure size 432x288 with 1 Axes>"
      ]
     },
     "metadata": {
      "needs_background": "light"
     },
     "output_type": "display_data"
    }
   ],
   "source": [
    "for idx_s, s in enumerate(experiment['saving rate']):\n",
    "    print('Case %i: Now solving model indexed by s =%5.2f' %(idx_s, s))\n",
    "    # Override previous value of s in DICT:\n",
    "    parameters['saving rate'] = s\n",
    "    # Solve new model indexed by s\n",
    "    out = simulate(parameters, k0=0.5, Z0=1.0, T=50)\n",
    "    # Display graphics\n",
    "    showpath(out, s)"
   ]
  },
  {
   "cell_type": "markdown",
   "id": "comparable-aberdeen",
   "metadata": {},
   "source": [
    "# Lucas '88 meets Glomm-Ravikumar '92\n",
    "\n",
    "Do **Question F** from the 2019 Final Exam. You may either submit your work here in a Jupyter Notebook or as a separate, ``LaTeX`` typeset document in ``PDF``.\n",
    "\n",
    "References:\n",
    "\n",
    "* [Lucas (1988)](https://doi.org/10.1016/0304-3932(88)90168-7)\n",
    "\n",
    "* [Glomm and Ravikumar (1992)](https://www.jstor.org/stable/2138689)\n",
    "\n",
    "* [de la Croix and Michel (2002)](https://ebookcentral.proquest.com/lib/anu/detail.action?docID=202147)\n",
    "\n"
   ]
  },
  {
   "cell_type": "code",
   "execution_count": null,
   "id": "intimate-margin",
   "metadata": {},
   "outputs": [],
   "source": []
  },
  {
   "cell_type": "markdown",
   "id": "interstate-pharmaceutical",
   "metadata": {},
   "source": [
    "# Computation and visualization exercise\n",
    "\n",
    "Revisit your work in the last part and code up the two cases of dynamic equilibria (under privately-funded and publicly funded human-capital investment)."
   ]
  },
  {
   "cell_type": "code",
   "execution_count": null,
   "id": "conservative-annex",
   "metadata": {},
   "outputs": [],
   "source": []
  }
 ],
 "metadata": {
  "kernelspec": {
   "display_name": "Python 3",
   "language": "python",
   "name": "python3"
  },
  "language_info": {
   "codemirror_mode": {
    "name": "ipython",
    "version": 3
   },
   "file_extension": ".py",
   "mimetype": "text/x-python",
   "name": "python",
   "nbconvert_exporter": "python",
   "pygments_lexer": "ipython3",
   "version": "3.6.12"
  },
  "latex_envs": {
   "LaTeX_envs_menu_present": true,
   "autoclose": false,
   "autocomplete": true,
   "bibliofile": "biblio.bib",
   "cite_by": "apalike",
   "current_citInitial": 1,
   "eqLabelWithNumbers": true,
   "eqNumInitial": 1,
   "hotkeys": {
    "equation": "Ctrl-E",
    "itemize": "Ctrl-I"
   },
   "labels_anchors": false,
   "latex_user_defs": false,
   "report_style_numbering": false,
   "user_envs_cfg": false
  },
  "toc": {
   "base_numbering": 1,
   "nav_menu": {},
   "number_sections": true,
   "sideBar": false,
   "skip_h1_title": false,
   "title_cell": "Table of Contents",
   "title_sidebar": "Contents",
   "toc_cell": true,
   "toc_position": {
    "height": "395px",
    "left": "10px",
    "top": "150px",
    "width": "296px"
   },
   "toc_section_display": true,
   "toc_window_display": true
  }
 },
 "nbformat": 4,
 "nbformat_minor": 5
}
