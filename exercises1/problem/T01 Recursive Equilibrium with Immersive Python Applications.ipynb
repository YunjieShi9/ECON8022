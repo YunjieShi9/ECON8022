{
 "cells": [
  {
   "cell_type": "markdown",
   "metadata": {
    "toc": true
   },
   "source": [
    "<h1>Table of Contents<span class=\"tocSkip\"></span></h1>\n",
    "<div class=\"toc\"><ul class=\"toc-item\"><li><span><a href=\"#Tutorial-0:-Recursive-Mappings-(Examples-and-Implementation)\" data-toc-modified-id=\"Tutorial-0:-Recursive-Mappings-(Examples-and-Implementation)-1\"><span class=\"toc-item-num\">1&nbsp;&nbsp;</span>Tutorial 0: Recursive Mappings (Examples and Implementation)</a></span></li><li><span><a href=\"#Exercise-0\" data-toc-modified-id=\"Exercise-0-2\"><span class=\"toc-item-num\">2&nbsp;&nbsp;</span>Exercise 0</a></span><ul class=\"toc-item\"><li><span><a href=\"#Answers:\" data-toc-modified-id=\"Answers:-2.1\"><span class=\"toc-item-num\">2.1&nbsp;&nbsp;</span>Answers:</a></span></li><li><span><a href=\"#Answer-(continued):\" data-toc-modified-id=\"Answer-(continued):-2.2\"><span class=\"toc-item-num\">2.2&nbsp;&nbsp;</span>Answer (<em>continued</em>):</a></span></li></ul></li><li><span><a href=\"#Exercise-1-(In-class-group-work)\" data-toc-modified-id=\"Exercise-1-(In-class-group-work)-3\"><span class=\"toc-item-num\">3&nbsp;&nbsp;</span>Exercise 1 (In-class group work)</a></span></li><li><span><a href=\"#Exercise-2-(In-class-group-work)\" data-toc-modified-id=\"Exercise-2-(In-class-group-work)-4\"><span class=\"toc-item-num\">4&nbsp;&nbsp;</span>Exercise 2 (In-class group work)</a></span></li></ul></div>"
   ]
  },
  {
   "cell_type": "markdown",
   "metadata": {},
   "source": [
    "## Tutorial 0: Recursive Mappings (Examples and Implementation)\n",
    "\n",
    "Author: [MachinaFantasma](https://github.com/phantomachine) | [Twitter](https://twitter.com/machinafantasma)\n",
    "\n",
    "\n",
    "**Key Learning Points**\n",
    "\n",
    "\n",
    "* Economics:\n",
    "    * *Recursive competitive equilibrium* concept\n",
    "    * Representation of dynamic competitive equilibrium as some mathematical operator\n",
    "    * Fixed point of recursive map as *steady-state* equilibrium *point*\n",
    "* Skills: Baptism by Fire or How to be a confident Pythonista\n",
    "    * Lists and arrays\n",
    "    * Some NumPy tricks\n",
    "    * Root finding (scalar) using SciPy\n",
    "    * Methods/functions\n",
    "    * The `lambda` function\n",
    "    * Programming Loops and relation to recursive economic equilibrium operator\n",
    "    * Simulation and Graphical Visualization\n",
    "    "
   ]
  },
  {
   "cell_type": "markdown",
   "metadata": {},
   "source": [
    "A major (technical) theme in modern macroeconomic theory is the idea of representing *dynamic economic phenomena* in a compact or tractable way. To do so, the goal is to find a *recursive representation* of the equilibrium of a dynamic economy. This task is true, whether we are dealing with a simple growth model economy, or, a more complicated dynamic economy where agents can behave strategically ([see e.g., my work here](https://doi.org/10.1016/j.jmateco.2016.03.004)).\n",
    "\n",
    "What is a recursive mapping? Think of it as a machine which takes the current position of a particle, combines it with some other input or factor, and maps out the particle's location in the next instance. In a time-series statistics course or in our lecture notes, you'd have already seen an example of a dynamic (and stochastic) model which has a recursive map---the AR(1) model:\n",
    "$$Y_{t+1} = \\rho Y_{t} + \\sigma W_{t+1},$$\n",
    "where $W_{t} \\sim N(0,1)$, $\\rho \\in (0,1)$ and $\\sigma \\in (0,\\infty)$. According to this mapping, the current state $Y_{t}$ together with a realization for the random variable $W_{t+1}$, will produce the realization of the random state $Y_{t+1}$ next period."
   ]
  },
  {
   "cell_type": "markdown",
   "metadata": {},
   "source": [
    "Econometricians call this a *reduced-form* statistical model. It is reduced-form in the sense that there is no deeper economic structure underpinning the law of motion above. We shall see how economic theory can provide a structural (and causal) mechanism that would rationalize a stochastic process such as this.\n",
    "\n",
    "NB: Later we'll also encounter more general forms of recursive maps, where the domain and co-domain of these maps are function spaces. This will appear in our model applications either in the forms of Bellman or Euler (functional) equations. Solving these recursive maps mean that we can solve for equilibrium allocation or decision rules. These rules are what control the equilibrium evolution of our model economies.  "
   ]
  },
  {
   "cell_type": "markdown",
   "metadata": {},
   "source": [
    "## Exercise 0\n",
    "\n",
    "Let's go back to a familiar economic theory of growth: the Solow-Swan model. A closed economy has a per-worker production technology that takes per-worker capital $k_t$ available at the beginning of date $t$ and produces $y_{t} = A_{t}k_{t}^{\\alpha}$ units of output per worker. The variable $A_{t}$ is exogenous technology that follows some law of motion. The parameter $\\alpha \\in (0,1)$ is known as the (Cobb-Douglas) share of capital income in total income of the economy. \n",
    "\n",
    "Capital per worker evolves according to the technology:\n",
    "$$\n",
    "k_{t+1} = (1-\\delta)k_{t} + s y_{t}. \n",
    "$$\n",
    "This says that (per-worker) capital available for use next period is a combination of undepreciated per-worker capital at the end of this period, and new savings flow. The parameters $\\delta \\in [0,1]$ and $s \\in (0,1)$ are, respectively, the rate of depreciation of capital and the savings rate.\n",
    "1. Show that a dynamic equilibrium of this model has a recursive structure.\n",
    "3. Calculate a constant (steady-state) value $k > 0$ such that it satisfies the dynamic equilibrium condition of the model. What do we call this constant $k > 0$?  \n",
    "3. Assume that $A_t = 1$, a constant, $\\alpha = 0.33$, $s = 0.20$, and $\\delta = 0.10$. Plot the graphs of $\\{ (k, h(k)) \\in \\mathbb{R}_{+}^{2} : h(k) := (1-\\delta) k + sk^{\\alpha}\\}$ and $\\{(k,z(k)) \\in \\mathbb{R}_{+}^{2} : z(k) = k\\}$ in $(k_{t},k_{t+1})$-space. Now plot the trajectory of the economy beginning from an arbitrary initial state, say $k_{0} = 0.01$ in the same diagram, for sufficiently long. Comment on your result."
   ]
  },
  {
   "cell_type": "markdown",
   "metadata": {},
   "source": [
    "### Answers:\n",
    "1. Plug the expression of the production function $y=Ak^{\\alpha}$ into the capital accumulation technology to get\n",
    "$$\n",
    "    k_{t+1} = (1-\\delta)k_{t} + s  A_{t}k_{t}^{\\alpha}\n",
    "$$\n",
    "Note: Given exogenous process for $A_{t}$, we have a recursive map in terms of $k$.\n",
    "\n",
    "2. Note, a steady state $k^{ss}$ is a point in $\\mathbb{R}_{+}$ such that $k_{t+1} = k_{t} = k^{ss}$. So here, $k^{ss}$ solves:\n",
    "$$\n",
    "    \\delta k^{ss} = s \\left( k^{ss} \\right)^{\\alpha}.\n",
    "$$\n",
    "Note $k^{ss} = 0$ is a fixed-point solution as well. But this implies a zero production steady state, so it is not interesting to us for now. Let's focus on the solution $k^{ss} = (s/\\delta)^{1/(1-\\alpha)}$. \n",
    "\n",
    "Below, we demonstrate two ways to solve for $k^{ss}$: \n",
    "\n",
    "**Option 1**: This is a simple analytic model, so we could solve for $k^{ss}$ by hand, given the parameters of the model. This is done as Option 1 in the code segment below. "
   ]
  },
  {
   "cell_type": "code",
   "execution_count": 10,
   "metadata": {},
   "outputs": [
    {
     "name": "stdout",
     "output_type": "stream",
     "text": [
      "Nontrivial steady state, kss = 2.813834181477653\n"
     ]
    }
   ],
   "source": [
    "% matplotlib inline\n",
    "import numpy as np\n",
    "import matplotlib.pyplot as plt\n",
    "import scipy.optimize as opt\n",
    "\n",
    "# Parameters\n",
    "ALPHA = 0.33\n",
    "DELTA = 0.1\n",
    "SAVRATE = 0.2\n",
    "RHO = 0.80\n",
    "SIGMA = 0.05\n",
    "A = 1.0\n",
    "\n",
    "# Option 1: Analytical deterministic (nontrivial) steady state\n",
    "kss = (SAVRATE*A/DELTA)**(1.0/(1.0-ALPHA))\n",
    "print(\"Nontrivial steady state, kss = \" + str(kss))"
   ]
  },
  {
   "cell_type": "markdown",
   "metadata": {},
   "source": [
    "**Option 2**: In some cases, a solution for something like $k^{ss}$ may not be obtained analytically. If so, we could use numerical approximation. Option 2 in the code snippet below provides such an example usage. First, define the change function $g(k):=s \\left( k \\right)^{\\alpha} -\\delta k$. Note the economic interpretation here: *The value of $g$ at $k$, says that, the change in capital from today to tomorrow is caused by excess saving (capital deepening) over capital depreciation (shallowing)*. \n",
    "\n",
    "So, a steady state point, $k^{ss}$, is one where the change in capital stock is zero. Mathematically, and numerically, we seek a $k^{ss}$ such that $g(k^{ss}) = 0$. That is, we want to \"find the zero of the function $g$\". Since, in our example here, $g$ is a continuous function and if we assume a bounded domain, then we are guaranteed that there is at least one such zero, but there could be more. (In fact there are two!) But since we are interested in the non-trivial steady state, we will set the lower bound of the domain of $g$ to be a very small positive number to exclude the point $k = 0$. \n",
    "\n",
    "To implement this idea in Python, we can use a simple root finding algorithm like the [Secant Method](https://en.wikipedia.org/wiki/Secant_method) or [Bisection Method](https://en.wikipedia.org/wiki/Bisection_method). Here I use a hybrid method called [Brent's method](https://en.wikipedia.org/wiki/Brent%27s_method) that is guaranteed to work. (The famous Richard Brent was here at ANU's MSI for some time.) Note that, these root-finding algorithms are local methods, i.e., they find only one of potentially many roots (or zeros) depending on where the algorithm starts off on its search. Fortunately, our continuous function $g$ is monotone, so it cuts zero only once. (Here's an example where getting to know the theoretical properties of your model before jumping to using numerical methods is a very important and useful skill to put to use. Here's a [nice empirical paper](http://people.hss.caltech.edu/~mshum/stats/rust.pdf).)"
   ]
  },
  {
   "cell_type": "code",
   "execution_count": 11,
   "metadata": {},
   "outputs": [
    {
     "name": "stdout",
     "output_type": "stream",
     "text": [
      "Analytical: Steady state per-capita capital, kss = 2.813834181477653\n",
      "Brent's Method: Steady state (effective) per-capita capital, kss_numerical = 2.813834181477649\n"
     ]
    }
   ],
   "source": [
    "# Option 2: Numerical: Solve for k s.t. g(k) := sk^alpha - dk = 0\n",
    "\n",
    "# Here we use SCIPY/Brent's root finding algorithm\n",
    "\n",
    "# Define the two functions that characterized a steady state solution from earlier\n",
    "# using the lambda function (see, e.g.,: http://www.secnetix.de/olli/Python/lambda_functions.hawk)\n",
    "deepen_k = lambda x: SAVRATE*A*x**ALPHA\n",
    "shallow_k = lambda x: DELTA*x\n",
    "\n",
    "# Or, the composite of the two ... the excess saving function\n",
    "gk = lambda x: SAVRATE*A*x**ALPHA - discount*x\n",
    "\n",
    "# Numerical lower and upper bounds on k\n",
    "kmin = 0.0\n",
    "kmax = kss*1.3\n",
    "\n",
    "# Root of gk(k) = 0 function using Brent's root-finding algorithm (function must be continuous)\n",
    "kss_numerical = opt.brentq(gk, kmin + 0.001, kmax,\n",
    "                    args=(), xtol=1e-12,    \n",
    "                    rtol=4.4408920985006262e-12, maxiter=100, \n",
    "                    full_output=True, disp=True) \n",
    "\n",
    "# Check Options 1 and 2 produce same result\n",
    "print(\"Analytical: Steady state per-capita capital, kss = \" + str(kss))\n",
    "print(\"Brent's Method: Steady state (effective) per-capita capital, kss_numerical = \" + str(kss_numerical[0]))\n"
   ]
  },
  {
   "cell_type": "markdown",
   "metadata": {},
   "source": [
    "*Note:* We snuck in a new Pythonic skill above. Did you notice the *lambda* functions? These are examples of using Python's method of creating anonymous functions (i.e., functions on the fly) that are not bound to a specific function name (which we learned to create last week by using **def** .)"
   ]
  },
  {
   "cell_type": "code",
   "execution_count": 16,
   "metadata": {},
   "outputs": [
    {
     "data": {
      "image/png": "[encoded data removed]",
      "text/plain": [
       "<matplotlib.figure.Figure at 0x7f1165ac0cc0>"
      ]
     },
     "metadata": {},
     "output_type": "display_data"
    }
   ],
   "source": [
    "# Plot graphs of dk and sk^alpha\n",
    "k_set = np.linspace(kmin, kmax, 100)\n",
    "shallow = shallow_k(k_set)\n",
    "deepen = deepen_k(k_set)\n",
    "plt.plot(k_set, shallow, 'r-',          # graph of saving function\n",
    "         k_set, deepen, 'b-',           # graph of depreciate function\n",
    "         kss, shallow_k(kss), 'go')     # steady state point\n",
    "plt.xlabel('$k_{t}$')\n",
    "plt.ylabel('saving, depreciation, output')\n",
    "plt.show()"
   ]
  },
  {
   "cell_type": "markdown",
   "metadata": {},
   "source": [
    "### Answer (*continued*):\n",
    "\n",
    "3 . In this special case where $A_{t} = 1$ always and everywhere, we have\n",
    "$$ \n",
    "    k_{t+1} = (1-\\delta)k_{t} + s  k_{t}^{\\alpha}.\n",
    "$$\n",
    "This is an example you can find in most undergraduate macroeconomics textbooks.\n",
    "\n",
    "OK, now we plot a different diagram, called a *phase diagram* (NB: That's cool name, in a Trekkie-geek sort of way). This is useful since we can see how $k_{t}$ today maps into $k_{t+1}$ tomorrow. (In other words, we can visualize how the state of our simple model economy evolves relative to its most recent past.) So let us define another function $h$ on the fly, where $h(k) := (1-\\delta)k_{t} + s  k_{t}^{\\alpha}$."
   ]
  },
  {
   "cell_type": "code",
   "execution_count": 15,
   "metadata": {},
   "outputs": [
    {
     "data": {
      "image/png": "[encoded data removed]",
      "text/plain": [
       "<matplotlib.figure.Figure at 0x7f1165b96048>"
      ]
     },
     "metadata": {},
     "output_type": "display_data"
    }
   ],
   "source": [
    "h = lambda x: ((1-DELTA)*x + SAVRATE*A*x**ALPHA)\n",
    "\n",
    "# Plot the phase diagram:\n",
    "plt.plot(k_set, h(k_set), 'b-', # the recursive mapping h\n",
    "         k_set, k_set, 'r--',   # 45-degree line\n",
    "         kss, kss, 'go')        # steady state point\n",
    "plt.xlabel('$k_{t}$')\n",
    "plt.ylabel('$k_{t+1}$')\n",
    "plt.show()"
   ]
  },
  {
   "cell_type": "markdown",
   "metadata": {},
   "source": [
    "OK, suppose we begin observing this Solow-Swan economy at date $t=0$ with initial state $k_{0} = 0.01$. Let apply the recursive (equilibrium) map of Solow-Swan here to solve for the sequence of equilibrium *outcomes* beginning from $k_{0}$. Let's put our skill of constructing loops to good use again. (Note: This time, we have already defined the equilibrium mapping $h$ so we don't have to hard-wire its definition into the loop below!)"
   ]
  },
  {
   "cell_type": "code",
   "execution_count": 20,
   "metadata": {
    "collapsed": true
   },
   "outputs": [],
   "source": [
    "# Simulate equilibrium path\n",
    "T = 80\n",
    "k = np.empty(T)                 # Effective per-capita capital, k\n",
    "A_initial = A                   # TFP at date 0\n",
    "ktrend = k.copy()               # Per-capita capital, k*A\n",
    "kbgp = k.copy()\n",
    "k[0] = 0.01                     # Initial state\n",
    "ktrend[0] = k[0]*A_initial\n",
    "kbgp[0] = kss\n",
    "kbgp[1] = kss*(1.0+g)\n",
    "for t in range(T-1):\n",
    "    k[t+1] = h(k[t])\n",
    "    trend = A_initial*(1.0+g)**(t+1)\n",
    "    ktrend[t+1] = k[t+1]*trend\n",
    "    kbgp[t+1] = kbgp[t+1]*trend"
   ]
  },
  {
   "cell_type": "markdown",
   "metadata": {},
   "source": [
    "So, here's what the dynamic equilibrium outcome looks like in the phase diagram:"
   ]
  },
  {
   "cell_type": "code",
   "execution_count": 22,
   "metadata": {},
   "outputs": [
    {
     "data": {
      "image/png": "[encoded data removed]",
      "text/plain": [
       "<matplotlib.figure.Figure at 0x7f1165878438>"
      ]
     },
     "metadata": {},
     "output_type": "display_data"
    }
   ],
   "source": [
    "# Plot the phase diagram:\n",
    "plt.plot(k_set, h(k_set), 'b-',  # the recursive mapping h\n",
    "         k_set, k_set, 'r--')    # 45-degree line\n",
    "         \n",
    "plt.plot(k[0:-2], k[1:-1], '+y') # Equilibrium path\n",
    "plt.plot(kss, kss, 'ro')         # steady state point\n",
    "plt.xlabel('$k_{t}$')\n",
    "plt.ylabel('$k_{t+1}$')\n",
    "plt.show()"
   ]
  },
  {
   "cell_type": "markdown",
   "metadata": {},
   "source": [
    "In the source folder for the Python code to this notebook, there is an animated (MPEG-4) version of this figure to give you a live experience of how the state kt of this economy evolves and converges toward the steady state. \n",
    "\n",
    "Another way to visualize this is to plot the time path of this equilibrium outcome:"
   ]
  },
  {
   "cell_type": "code",
   "execution_count": 25,
   "metadata": {},
   "outputs": [
    {
     "data": {
      "image/png": "[encoded data removed]",
      "text/plain": [
       "<matplotlib.figure.Figure at 0x7f1165615be0>"
      ]
     },
     "metadata": {},
     "output_type": "display_data"
    }
   ],
   "source": [
    "plt.plot(np.arange(k.size), k, '+y', clip_on=False) # Equilibrium path\n",
    "plt.plot(np.arange(k.size), kss*np.ones(k.size), clip_on=False) # Steady state point\n",
    "plt.xlabel('Date, $t$')\n",
    "plt.ylabel('$k_{t}$')\n",
    "plt.show()"
   ]
  },
  {
   "cell_type": "markdown",
   "metadata": {},
   "source": [
    "Comment: The Solow-Swan example here has an equilibrium map $k_{t} \\mapsto h(k_{t})$. that is strictly concave in $k_{t}$. This, if you recall, is an artefact of the property of the production function itself, which exhibits the law of diminishing returns to capital. This property implies that an economy far away from its steady state equilibrium will be growing faster but that growth rate converges monotonically to zero as it approaches the steady state."
   ]
  },
  {
   "cell_type": "markdown",
   "metadata": {},
   "source": [
    "Now if there is trend growth in TFP, then per-capita variables will exhibit growth too, into the long run. To demonstrate this, we plot the trending per-capita variables below:"
   ]
  },
  {
   "cell_type": "code",
   "execution_count": 28,
   "metadata": {},
   "outputs": [
    {
     "data": {
      "image/png": "[encoded data removed]",
      "text/plain": [
       "<matplotlib.figure.Figure at 0x7f11658ed198>"
      ]
     },
     "metadata": {},
     "output_type": "display_data"
    }
   ],
   "source": [
    "fig2 = plt.figure(facecolor='white') # Optimal Consumption function\n",
    "plt.plot(np.arange(ktrend.size), np.log(ktrend), 'y+',clip_on=False) # Equilibrium path\n",
    "plt.xlabel('Date, $t$',fontsize=20)\n",
    "plt.ylabel('$\\ln(k_{t})$',fontsize=20)\n",
    "plt.show()"
   ]
  },
  {
   "cell_type": "markdown",
   "metadata": {},
   "source": [
    "## Exercise 1 (In-class group work)\n",
    "\n",
    "Let's practice [more chops](http://mikefury.net/wp-content/uploads/2014/11/bruce.jpg) with the reduced-form AR(1) model. \n",
    "1. Derive the impulse response or infinite moving-average representation of this model. Interpret your result.\n",
    "2. Suppose $Y_{0} = 0$, $W_{0} = 1$, and $W_{t} = 0$ for all $t > 0$. Write a Python function for plotting the sequence $\\{Y_{t}\\}_{t=0}^{T}$, where $T = 30$. Assume $\\rho = 0.80$ and $\\sigma = 0.05$.\n",
    "3. Now adapt your function from Step 2 above for simulating a very long series of realizations of $Y_{t}$. Plot the histogram of your sample. Comment on your result."
   ]
  },
  {
   "cell_type": "markdown",
   "metadata": {},
   "source": [
    "## Exercise 2 (In-class group work)\n",
    "\n",
    "Let's reconsider the Solow-Swan example in Exercise 0 again. For simplicity, let's assume $\\delta = 0$.\n",
    "1. Now suppose that $\\ln(A_{t})$ follows the parametric instance of the AR(1) model from Exercise 0 above. Derive the dynamic equilibrium condition of this stochastic version of the Solow-Swan model.\n",
    "2. Simulate a sample of length $T = 200$ outcomes of the random variable $A_{t}$. \n",
    "3. Plot the graph of $sA_{ss}k^{\\alpha}$ in $(k_{t},k_{t+1})$-space, where $A_{ss} = 1$ (i.e., the non-stochastic steady-state of $A_{t})$. (Note that for each realization of $A_{t} \\neq A_{ss}$ there is a corresponding graph of a production function.) Plot the path of $k_{t}$ for a sufficiently long sample size of your choosing.\n",
    "4. Comment on your results.\n",
    "\n",
    "Observe that the random outcome of  $k_{t}$  over time fluctuates around the deterministic steady-state equilibrium map (i.e., same graph from previous exercise with no shocks), as  $T \\rightarrow \\infty$. Because of shocks $A_{t}$  to the production function every period, the long run of this economy no longer settles on a single deterministic steady state point. But it appears that the long run stochastic dynamics will be distributed around the deterministic steady state according to some fixed distribution.\n",
    "\n",
    "*Hint*: Re-run the code segment above, experimenting with  $T = 20$, $T = 100$, $T = 200$, and etc. What do you observe?\n",
    "\n",
    "In fact, as a special case, consider  $\\delta = 1$. Then can you prove that if the underlying shock (in logarithms) is Gaussian, then the long run distribution of  $\\ln(k)$ is also Normal?"
   ]
  },
  {
   "cell_type": "code",
   "execution_count": null,
   "metadata": {
    "collapsed": true
   },
   "outputs": [],
   "source": []
  }
 ],
 "metadata": {
  "anaconda-cloud": {},
  "kernelspec": {
   "display_name": "Python 3",
   "language": "python",
   "name": "python3"
  },
  "language_info": {
   "codemirror_mode": {
    "name": "ipython",
    "version": 3
   },
   "file_extension": ".py",
   "mimetype": "text/x-python",
   "name": "python",
   "nbconvert_exporter": "python",
   "pygments_lexer": "ipython3",
   "version": "3.6.12"
  },
  "latex_envs": {
   "LaTeX_envs_menu_present": true,
   "autoclose": false,
   "autocomplete": true,
   "bibliofile": "biblio.bib",
   "cite_by": "apalike",
   "current_citInitial": 1,
   "eqLabelWithNumbers": true,
   "eqNumInitial": 1,
   "hotkeys": {
    "equation": "Ctrl-E",
    "itemize": "Ctrl-I"
   },
   "labels_anchors": false,
   "latex_user_defs": false,
   "report_style_numbering": false,
   "user_envs_cfg": false
  },
  "toc": {
   "base_numbering": 1,
   "nav_menu": {},
   "number_sections": true,
   "sideBar": false,
   "skip_h1_title": false,
   "title_cell": "Table of Contents",
   "title_sidebar": "Contents",
   "toc_cell": true,
   "toc_position": {},
   "toc_section_display": true,
   "toc_window_display": true
  }
 },
 "nbformat": 4,
 "nbformat_minor": 1
}
