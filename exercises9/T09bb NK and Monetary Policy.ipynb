{
 "cells": [
  {
   "cell_type": "markdown",
   "metadata": {
    "toc": true
   },
   "source": [
    "<h1>Table of Contents<span class=\"tocSkip\"></span></h1>\n",
    "<div class=\"toc\"><ul class=\"toc-item\"><li><ul class=\"toc-item\"><li><span><a href=\"#Key-Learning-Points\" data-toc-modified-id=\"Key-Learning-Points-0.1\"><span class=\"toc-item-num\">0.1&nbsp;&nbsp;</span>Key Learning Points</a></span></li></ul></li><li><span><a href=\"#Problem-(A-New-Classical-Keynesian-Synthesis)\" data-toc-modified-id=\"Problem-(A-New-Classical-Keynesian-Synthesis)-1\"><span class=\"toc-item-num\">1&nbsp;&nbsp;</span>Problem (A New Classical-Keynesian Synthesis)</a></span><ul class=\"toc-item\"><li><span><a href=\"#Final-goods-producer\" data-toc-modified-id=\"Final-goods-producer-1.1\"><span class=\"toc-item-num\">1.1&nbsp;&nbsp;</span>Final goods producer</a></span></li><li><span><a href=\"#Question-3.1\" data-toc-modified-id=\"Question-3.1-1.2\"><span class=\"toc-item-num\">1.2&nbsp;&nbsp;</span>Question 3.1</a></span><ul class=\"toc-item\"><li><span><a href=\"#Answer\" data-toc-modified-id=\"Answer-1.2.1\"><span class=\"toc-item-num\">1.2.1&nbsp;&nbsp;</span>Answer</a></span></li></ul></li><li><span><a href=\"#Differentiated-intermediate-inputs-producers\" data-toc-modified-id=\"Differentiated-intermediate-inputs-producers-1.3\"><span class=\"toc-item-num\">1.3&nbsp;&nbsp;</span>Differentiated intermediate inputs producers</a></span></li><li><span><a href=\"#Question-3.2\" data-toc-modified-id=\"Question-3.2-1.4\"><span class=\"toc-item-num\">1.4&nbsp;&nbsp;</span>Question 3.2</a></span><ul class=\"toc-item\"><li><span><a href=\"#Answer\" data-toc-modified-id=\"Answer-1.4.1\"><span class=\"toc-item-num\">1.4.1&nbsp;&nbsp;</span>Answer</a></span></li></ul></li><li><span><a href=\"#Question-3.3\" data-toc-modified-id=\"Question-3.3-1.5\"><span class=\"toc-item-num\">1.5&nbsp;&nbsp;</span>Question 3.3</a></span><ul class=\"toc-item\"><li><span><a href=\"#Answer\" data-toc-modified-id=\"Answer-1.5.1\"><span class=\"toc-item-num\">1.5.1&nbsp;&nbsp;</span>Answer</a></span></li></ul></li><li><span><a href=\"#Question-3.4\" data-toc-modified-id=\"Question-3.4-1.6\"><span class=\"toc-item-num\">1.6&nbsp;&nbsp;</span>Question 3.4</a></span><ul class=\"toc-item\"><li><span><a href=\"#Answer\" data-toc-modified-id=\"Answer-1.6.1\"><span class=\"toc-item-num\">1.6.1&nbsp;&nbsp;</span>Answer</a></span></li></ul></li><li><span><a href=\"#Representative-household\" data-toc-modified-id=\"Representative-household-1.7\"><span class=\"toc-item-num\">1.7&nbsp;&nbsp;</span>Representative household</a></span></li><li><span><a href=\"#Question-3.5\" data-toc-modified-id=\"Question-3.5-1.8\"><span class=\"toc-item-num\">1.8&nbsp;&nbsp;</span>Question 3.5</a></span><ul class=\"toc-item\"><li><span><a href=\"#Answer\" data-toc-modified-id=\"Answer-1.8.1\"><span class=\"toc-item-num\">1.8.1&nbsp;&nbsp;</span>Answer</a></span></li></ul></li><li><span><a href=\"#Market-clearing\" data-toc-modified-id=\"Market-clearing-1.9\"><span class=\"toc-item-num\">1.9&nbsp;&nbsp;</span>Market clearing</a></span></li><li><span><a href=\"#Question-3.6\" data-toc-modified-id=\"Question-3.6-1.10\"><span class=\"toc-item-num\">1.10&nbsp;&nbsp;</span>Question 3.6</a></span><ul class=\"toc-item\"><li><span><a href=\"#Answer\" data-toc-modified-id=\"Answer-1.10.1\"><span class=\"toc-item-num\">1.10.1&nbsp;&nbsp;</span>Answer</a></span></li></ul></li><li><span><a href=\"#Question-3.7\" data-toc-modified-id=\"Question-3.7-1.11\"><span class=\"toc-item-num\">1.11&nbsp;&nbsp;</span>Question 3.7</a></span><ul class=\"toc-item\"><li><span><a href=\"#Answer\" data-toc-modified-id=\"Answer-1.11.1\"><span class=\"toc-item-num\">1.11.1&nbsp;&nbsp;</span>Answer</a></span></li></ul></li><li><span><a href=\"#Monetary-authority\" data-toc-modified-id=\"Monetary-authority-1.12\"><span class=\"toc-item-num\">1.12&nbsp;&nbsp;</span>Monetary authority</a></span></li><li><span><a href=\"#Question-3.8-(Recursive-competitive-equilibrium)\" data-toc-modified-id=\"Question-3.8-(Recursive-competitive-equilibrium)-1.13\"><span class=\"toc-item-num\">1.13&nbsp;&nbsp;</span>Question 3.8 (Recursive competitive equilibrium)</a></span><ul class=\"toc-item\"><li><span><a href=\"#Answer\" data-toc-modified-id=\"Answer-1.13.1\"><span class=\"toc-item-num\">1.13.1&nbsp;&nbsp;</span>Answer</a></span></li></ul></li><li><span><a href=\"#Question-3.9-(Coming-full-circle)\" data-toc-modified-id=\"Question-3.9-(Coming-full-circle)-1.14\"><span class=\"toc-item-num\">1.14&nbsp;&nbsp;</span>Question 3.9 (Coming full circle)</a></span><ul class=\"toc-item\"><li><span><a href=\"#Answer\" data-toc-modified-id=\"Answer-1.14.1\"><span class=\"toc-item-num\">1.14.1&nbsp;&nbsp;</span>Answer</a></span></li></ul></li><li><span><a href=\"#Question-3.10-(Quantitative-implementation)\" data-toc-modified-id=\"Question-3.10-(Quantitative-implementation)-1.15\"><span class=\"toc-item-num\">1.15&nbsp;&nbsp;</span>Question 3.10 (Quantitative implementation)</a></span><ul class=\"toc-item\"><li><span><a href=\"#Answer\" data-toc-modified-id=\"Answer-1.15.1\"><span class=\"toc-item-num\">1.15.1&nbsp;&nbsp;</span>Answer</a></span></li></ul></li><li><span><a href=\"#Question-3.11-(Application-and-Policy-analysis)\" data-toc-modified-id=\"Question-3.11-(Application-and-Policy-analysis)-1.16\"><span class=\"toc-item-num\">1.16&nbsp;&nbsp;</span>Question 3.11 (Application and Policy analysis)</a></span><ul class=\"toc-item\"><li><span><a href=\"#Answer\" data-toc-modified-id=\"Answer-1.16.1\"><span class=\"toc-item-num\">1.16.1&nbsp;&nbsp;</span>Answer</a></span></li></ul></li></ul></li></ul></div>"
   ]
  },
  {
   "cell_type": "markdown",
   "metadata": {},
   "source": [
    "### Key Learning Points\n",
    "\n",
    "* Applying recursive competitive equilibrium (under rational expectations), or RCE concept\n",
    "\n",
    "* Connecting RCE concept to dynamic programming and Euler functional equations\n",
    "   \n",
    "    * Extension/modification of RBC towards a popular New Keynesian monetary-policy framework\n",
    "\n",
    "* Connection between model solution and a time-series data generating process"
   ]
  },
  {
   "cell_type": "code",
   "execution_count": 1,
   "metadata": {},
   "outputs": [],
   "source": [
    "import numpy as np\n",
    "import matplotlib.pyplot as plt\n",
    "import pandas\n",
    "import warnings\n",
    "\n",
    "%matplotlib inline"
   ]
  },
  {
   "cell_type": "markdown",
   "metadata": {},
   "source": [
    "## Problem (A New Classical-Keynesian Synthesis)\n",
    "\n",
    "When we write $X_{t}$ in this question, we mean $X_{t} := X(s_{t})$ (i.e, a time-invariant function of relevant aggregate states). \n",
    "\n",
    "Consider a version of the RBC model where prices are \"sticky\". To rationalize why prices are sticky, here's a story that builds on Chamberlin's 1933 monopolistic competition model of industries.\n",
    "\n",
    "In lectures, we considered a version of sticky-price firms due to [Calvo](https://doi.org/10.1016/0304-3932(83)90060-0) and [Yun](https://doi.org/10.1016/S0304-3932(96)90040-9). Calvo wrote down the original firms' problem in continuous time. Yun adapted it to a RBC, general-equilibrium enviroment. Yun's version and its extensions have since been referred to as \"NK models with Calvo pricing\". If you recall, the story here is that firms are monopolistically competitive. That is a tractable way of thinking about firms with markup, price-setting abilities but not having to deal with strategic pricing behavior. Prices are sticky by assumption. In Calvo's formulation, there is an exogenous time-dependent (but state-independent) signal (from a fixed geometric distribution) for price change. In a way, firms would like to change prices in response to demand or cost shifts, but they potentially can't: Nature will tell them if they can with some probability $\\theta$.\n",
    "\n",
    "Below, we reconsider the same model but the sticky price setting story is slightly modified. Here, firms can change prices anytime, but they face some convex cost of adjusting prices. This makes price-stickiness state dependent. This version of the story is sometimes referred to as a \"menu cost model\", in the sense that changing prices on one's menu of products is a costly exercise. This version, due to [Rotemberg](https://www.jstor.org/stable/1830944), is algebraically simpler and easier to implement than the Calvo-Yun version. It turns out, at least to first order accuracy, the Rotemberg and Calvo-Yun models imply the same aggregate, structural Phillips curve. \n",
    "\n"
   ]
  },
  {
   "cell_type": "markdown",
   "metadata": {},
   "source": [
    "### Final goods producer\n",
    "\n",
    "This firm's problem is static.\n",
    "\n",
    "A perfectly competitive producer aggregates a continuum of intermediate goods $Y_{t}(i)$ according to a CES technology function to produce the final good:\n",
    "$$\n",
    "Y_{t} = \\left(\\int_{0}^{1}(Y_{t}(i))^{\\frac{\\varepsilon_{t}-1}{\\varepsilon_{t}}}di\\right)^{\\frac{\\varepsilon_{t}}{\\varepsilon_{t}-1}}\n",
    "$$\n",
    "where $\\varepsilon_{t}$ is the elasticity of subsitution between the variety of intermediate inputs. Let's assume that this elasticity is a random variable:\n",
    "$$\n",
    "    \\varepsilon_{t} = {\\varepsilon} + \\epsilon_{\\Pi, t}, \n",
    "    \\qquad \n",
    "    \\epsilon_{\\Pi, t} \\overset{i.i.d.}{\\sim} (0, \\sigma_{\\Pi}^{2}),\n",
    "$$\n",
    "where the mean parameter is ${\\varepsilon} \\gt 1$, the variance parameter is $\\sigma_{\\Pi}^{2}$, such that $\\varepsilon_{t}$ is bounded above unity. (It will turn out that this $\\varepsilon_{t}$ can be structurally interpreted as a Keynesian-style \"cost-push\" shock.)\n",
    "\n",
    "Since the firm is perfectly competitive, it takes input and output prices as given. The shadow price of the engineering constraint is just $P_{t}$, which is also the price of the final good $Y_{t}$. Thus, the cost minimization problem each period is\n",
    "$$\n",
    "    \\min_{Y_{t}(i)} \\int_{0}^{1} P_{t}(i)Y_{t}(i) di - P_{t}\\left[ \\left(\\int_{0}^{1}Y_{t}(i)^{\\frac{\\varepsilon_{t}-1}{\\varepsilon_{t}}}di\\right)^{\\frac{\\varepsilon_{t}}{\\varepsilon_{t}-1}} - Y_{t}\\right].\n",
    "$$\n",
    "\n",
    "### Question 3.1\n",
    "\n",
    "Since the problem is a strictly convex programming problem, you can also write this as its dual profit maximization problem. Show that in either case, you can derive the demand for intermediate good $i$ as\n",
    "$$\n",
    "    Y_{t}(i) = \\left(\\frac{P_{t}(i)}{P_{t}}\\right)^{-\\epsilon_{t}}Y_{t}.\n",
    "$$\n",
    "Also, show that you can derive the final good price as an aggregate consumer price index of the form\n",
    "$$\n",
    "    P_{t} = \\left[\\int_{0}^{1} (P_{t}(i))^{1-\\varepsilon_{t}} di \\right]^{\\frac{1}{1-\\varepsilon_{t}}}.\n",
    "$$"
   ]
  },
  {
   "cell_type": "code",
   "execution_count": null,
   "metadata": {},
   "outputs": [],
   "source": []
  },
  {
   "cell_type": "markdown",
   "metadata": {},
   "source": [
    "### Differentiated intermediate inputs producers\n",
    "\n",
    "To keep things simple for us here, assume that production technology is linear in labor input and there is no capital used in production: $Y_{t}(i) = F(A_{t}, H_{t}(i)) = A_{t}H_{t}(i)$. The index $i$ is for a firm $i \\in [0,1]$ that produces a particular differentiated product $Y(i)$. This good will be used as an input into a final good production sector. The $A$ variable is exogenous technology, just like in the RBC model earlier.\n",
    "\n",
    "(For a larger model with capital and a government sector, see, e.g., Chapter 19 in Miao Jianjun's book.)\n",
    "\n",
    "Let the per-period profit of the firm $i$ be:\n",
    "\n",
    "$$\n",
    "r(P_{t}, A_{t}) = \\frac{[P_{t}(i) -MC_{t}]Y_{t}(i)}{P_{t}}-\\frac{\\theta}{2}\\left(\\frac{P_{t}(i)}{P_{t-1}(i)}-\\Pi\\right)^{2}Y_{t}(i).\n",
    "$$\n",
    "\n",
    "The firm's current profit is given by the first two terms of the expected total profit function: Current revenue net of wage bill and price adjustment cost (assumed convex cost function) with $\\theta$ being a positive-valued parameter.\n",
    "\n",
    "Firm $i$'s Bellman equation is\n",
    "\n",
    "$$\n",
    "V\\left[P_{t-1}(i), A_t\\right] = \\max_{P_{t}(i)}\\left\\{r(P_{t}, A_{t})+\\beta \\mathbb{E}_{t}\\left[\\frac{\\lambda_{t+1}}{\\lambda_{t}}\\frac{P_{t+1}}{P_{t}}V \\left( P_t(i), A_{t+1} \\right)\\right]\n",
    " \\right\\},\n",
    "$$\n",
    "\n",
    "where $\\Pi$ is the deterministic steady-state gross inflation. Continuation profit is discounted by the (equilibrium) stochastic pricing kernel $\\beta \\frac{\\lambda_{t+1}}{\\lambda_{t}}\\frac{P_{t+1}}{P_{t}}$. Note that $\\lambda_{t}$ is the date-$t$ and state $(s_{t}$ shadow price of *nominal* wealth in consumer's budget constraint. To convert it into real quantities, we need to adjust for inflation."
   ]
  },
  {
   "cell_type": "markdown",
   "metadata": {},
   "source": [
    "### Question 3.2\n",
    "\n",
    "Show that the value of the firm can also be expressed as:\n",
    "$$\n",
    "V(P_{t-1}(i),A_{t}) = \\max_{\\{P_{t}(i)\\}_{t=0}^{\\infty}}\\mathbb{E}_{t}\\sum_{s=0}^{\\infty} \\frac{\\beta^{s}\\lambda_{t+s}}{\\lambda_{t}}\\frac{P_{t+1}}{P_{t}} r(P_{t+s},A_{t+s}).\n",
    "$$\n",
    "\n",
    "\n",
    "Assume that $V$ is differentiable with respect to its first argument.\n",
    "\n",
    "\n"
   ]
  },
  {
   "cell_type": "code",
   "execution_count": null,
   "metadata": {},
   "outputs": [],
   "source": []
  },
  {
   "cell_type": "markdown",
   "metadata": {},
   "source": [
    "### Question 3.3\n",
    "\n",
    "Assume symmetric pricing equilibrium: $P_{t}(i) = P_{t}$. Show that an optimal pricing strategy in such an equilibrium is dynamic and that it satisfies the firm's Euler equation:\n",
    "\n",
    "$$\n",
    "\\Pi_{t}(\\Pi_{t} - \\Pi) -\\frac{\\varepsilon_{t}}{\\theta}\\left(\\frac{MC_{t}}{P_{t}} - \\frac{\\varepsilon_{t} -1 }{\\varepsilon_{t}}\\right) - \\frac{\\varepsilon_{t}}{2}(\\Pi_{t}-\\Pi)^{2}\n",
    "= \\beta\\mathbb{E}_{t}\\left[\\frac{\\lambda_{t+1}}{\\lambda_{t}}\\frac{P_{t+1}}{P_{t}}(\\Pi_{t+1}-\\Pi)\\Pi_{t+1}\\frac{Y_{t+1}}{Y_{t}}\\right]\n",
    "$$\n",
    "where $\\Pi_{t} := P_{t}/P_{t-1}$.\n",
    "Can you put into human language what this first-order condition means, from the perspective of each firm $i$?\n",
    "\n",
    "Also show that in the special case where $\\theta = 0$, the dynamic pricing problem reduces to the well-known Ramsey optimal monopoly markup pricing formula."
   ]
  },
  {
   "cell_type": "code",
   "execution_count": null,
   "metadata": {},
   "outputs": [],
   "source": []
  },
  {
   "cell_type": "markdown",
   "metadata": {},
   "source": [
    "### Question 3.4\n",
    "\n",
    "On the input side, for a given output level $Y_{t}(i)$, each firm $i$ hires labor hours by solving the cost-minimization problem \n",
    "$$\n",
    "\\min_{H_{t}(i)} W_{t}H_{t}(i) - MC_{t}[A_{t}H_{t}(i) - Y_{t}(i)].\n",
    "$$\n",
    "\n",
    "Derive the least cost hiring strategy of the firm. Note that this is also a static problem.\n",
    "\n"
   ]
  },
  {
   "cell_type": "code",
   "execution_count": null,
   "metadata": {},
   "outputs": [],
   "source": []
  },
  {
   "cell_type": "markdown",
   "metadata": {},
   "source": [
    "### Representative household"
   ]
  },
  {
   "cell_type": "markdown",
   "metadata": {},
   "source": [
    "The household chooses consumption, labor and a portfolio of one-period-ahead state-contingent claims to money payments (Arrow securities written as contracts promising to pay in \"dollars\" or nominal terms) to maximize total expected utility. The household valuation function $W$ satisfies\n",
    "$$\n",
    "W(a_{t}, A_{t}) = \\max_{C_{t}, H_{t}, a_{t+1}}\n",
    "                  \\ln(C_{t}) - \\frac{H_{t}^{1+\\varphi}}{1+\\varphi} + \\beta \\mathbb{E}_{t} W(a_{t+1}, A_{t+1}),\n",
    "$$\n",
    "subject to:\n",
    "$$\n",
    "    P_{t}C_{t} + \\mathbb{E}_{t}a_{t+1}Q_{t,t+1} = W_{t}H_{t} + a_{t} + Profits_{t}\n",
    "$$\n",
    "where $Q_{t,t+1} := Q(s_{t+1}|s_{t})$ is the Arrow security pricing kernel and $W_t$ is the nominal wage rate. $Profits$ are total profits from firms in the economy.\n",
    "\n",
    "Assume that $W$ is differentiable."
   ]
  },
  {
   "cell_type": "markdown",
   "metadata": {},
   "source": [
    "### Question 3.5\n",
    "\n",
    "Let the $\\lambda_{t}$ random variables denote the Lagrange multiplier on the budget constraints. Derive the first-order conditions for the household's optimal decisions."
   ]
  },
  {
   "cell_type": "code",
   "execution_count": null,
   "metadata": {},
   "outputs": [],
   "source": []
  },
  {
   "cell_type": "markdown",
   "metadata": {},
   "source": [
    "### Market clearing\n",
    "\n",
    "There are four markets in this economy:\n",
    "\n",
    "* Final goods market\n",
    "\n",
    "* Intermediate goods markets\n",
    "\n",
    "* Labor market\n",
    "\n",
    "* Bond market\n",
    "\n"
   ]
  },
  {
   "cell_type": "markdown",
   "metadata": {},
   "source": [
    "### Question 3.6\n",
    "\n",
    "If there were a risk-free bond $B_{t}$ that paid a gross return of $R_{t}$ in one period regardless of the state of the world, they will be in zero net supply. Why?\n",
    "\n",
    "We can still price this bond though. Show/argue that in equilibrium the bond price is $1/R_{t} = \\mathbb{E}_{t}Q_{t,t+1}$."
   ]
  },
  {
   "cell_type": "code",
   "execution_count": null,
   "metadata": {},
   "outputs": [],
   "source": []
  },
  {
   "cell_type": "markdown",
   "metadata": {},
   "source": [
    "### Question 3.7\n",
    "\n",
    "Write down the goods market clearing condition. (Hint: Write one down for each intermediate good and then aggregate up to the final good.) Also write down the labor market clearing condition."
   ]
  },
  {
   "cell_type": "code",
   "execution_count": null,
   "metadata": {},
   "outputs": [],
   "source": []
  },
  {
   "cell_type": "markdown",
   "metadata": {},
   "source": [
    "### Monetary authority\n",
    "\n",
    "A monetary authority sets the nominal return on a risk-free bond according to a behavioral rule:\n",
    "$$\n",
    "\\frac{R_{t}}{R} = \\left(\\frac{\\Pi_{t}}{\\Pi}\\right)^{\\phi_{\\Pi}} \\left(\\frac{Y_{t}}{Y}\\right)^{\\phi_{Y}}\\exp\\{\\sigma_{R}\\epsilon_{R,t}\\}\n",
    "\\tag{NK-MP}\n",
    "$$\n",
    "where all parameters are positive valued and assume that $\\epsilon_{R,t} \\overset{i.i.d.}{\\sim} N(0, 1)$."
   ]
  },
  {
   "cell_type": "markdown",
   "metadata": {},
   "source": [
    "### Question 3.8 (Recursive competitive equilibrium)\n",
    "\n",
    "The relevant state variable here is $s_{t} := (A_{t}, \\varepsilon_{t}, \\epsilon_{R,t})$. What about individual household's asset positions?\n",
    "\n",
    "Now you are ready to define a recursive competitive equilibrium (RCE). Set this up as an Euler functional equation system (which includes or embeds some accounting/market-clearing identities)."
   ]
  },
  {
   "cell_type": "code",
   "execution_count": null,
   "metadata": {},
   "outputs": [],
   "source": []
  },
  {
   "cell_type": "markdown",
   "metadata": {},
   "source": [
    "### Question 3.9 (Coming full circle)\n",
    "\n",
    "Let's try to get some more intuition from this model. The model is nonlinear, but economists often learn a lot form a complicated model by first, studying its local behavior approximated as a linear model. \n",
    "    \n",
    "Using the linear perturbation approximation technique, show that your RCE system looks somewhat like the three-equation [IS-MP-PC (or AD-AS) model you've learned in ECON1102 or ECON7074](https://phantomachine.github.io/econ8026/cycles.html)."
   ]
  },
  {
   "cell_type": "markdown",
   "metadata": {},
   "source": [
    "### Question 3.10 (Quantitative implementation)\n",
    "\n",
    "You don't have to explicit solve this model, but outline your solution algorithm for solving:\n",
    "\n",
    "* the original nonlinear RCE functional equation system; and\n",
    "\n",
    "* the approximately linear RCE functional equation system.\n",
    "\n",
    "Show that the solution in the second method (i.e., solution to the linearized RCE system) is a linear econometric model (i.e., a linear state-space or stochastic difference equation model.)"
   ]
  },
  {
   "cell_type": "code",
   "execution_count": null,
   "metadata": {},
   "outputs": [],
   "source": []
  },
  {
   "cell_type": "markdown",
   "metadata": {},
   "source": [
    "###  Question 3.11 (Application and Policy analysis)\n",
    "\n",
    "Now solve the linearized RCE functional equation system. What happens to output and inflation if the monetary authority increased $R_{t}$ by $\\sigma_{R}$ percent?\n",
    "Plot the dynamic response (i.e., impulse response functions) of these variables over time."
   ]
  },
  {
   "cell_type": "code",
   "execution_count": null,
   "metadata": {},
   "outputs": [],
   "source": []
  },
  {
   "cell_type": "markdown",
   "metadata": {},
   "source": [
    "    At last, when I woke from my slumber and opened my eyes, \n",
    "    I saw thee standing by me, flooding my sleep with thy smile. \n",
    "    How I had feared that the path was long and wearisome, \n",
    "    and the struggle to reach thee was hard!\n",
    "\n",
    "excerpt from *The Journey* (Rabindranath Tagore)"
   ]
  }
 ],
 "metadata": {
  "kernelspec": {
   "display_name": "Python 3",
   "language": "python",
   "name": "python3"
  },
  "language_info": {
   "codemirror_mode": {
    "name": "ipython",
    "version": 3
   },
   "file_extension": ".py",
   "mimetype": "text/x-python",
   "name": "python",
   "nbconvert_exporter": "python",
   "pygments_lexer": "ipython3",
   "version": "3.6.12"
  },
  "latex_envs": {
   "LaTeX_envs_menu_present": true,
   "autoclose": false,
   "autocomplete": true,
   "bibliofile": "biblio.bib",
   "cite_by": "apalike",
   "current_citInitial": 1,
   "eqLabelWithNumbers": true,
   "eqNumInitial": 1,
   "hotkeys": {
    "equation": "Ctrl-E",
    "itemize": "Ctrl-I"
   },
   "labels_anchors": false,
   "latex_user_defs": false,
   "report_style_numbering": false,
   "user_envs_cfg": false
  },
  "toc": {
   "base_numbering": 1,
   "nav_menu": {},
   "number_sections": true,
   "sideBar": false,
   "skip_h1_title": false,
   "title_cell": "Table of Contents",
   "title_sidebar": "Contents",
   "toc_cell": true,
   "toc_position": {},
   "toc_section_display": true,
   "toc_window_display": true
  }
 },
 "nbformat": 4,
 "nbformat_minor": 2
}
