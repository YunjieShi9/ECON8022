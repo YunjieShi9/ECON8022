{
 "cells": [
  {
   "cell_type": "markdown",
   "id": "municipal-costa",
   "metadata": {
    "toc": true
   },
   "source": [
    "<h1>Table of Contents<span class=\"tocSkip\"></span></h1>\n",
    "<div class=\"toc\"><ul class=\"toc-item\"><li><span><a href=\"#LQ-Life-cycle-accumulation\" data-toc-modified-id=\"LQ-Life-cycle-accumulation-1\"><span class=\"toc-item-num\">1&nbsp;&nbsp;</span>LQ Life-cycle accumulation</a></span><ul class=\"toc-item\"><li><span><a href=\"#From-sequence-to-recursive-problem\" data-toc-modified-id=\"From-sequence-to-recursive-problem-1.1\"><span class=\"toc-item-num\">1.1&nbsp;&nbsp;</span>From sequence to recursive problem</a></span></li><li><span><a href=\"#Backward-induction\" data-toc-modified-id=\"Backward-induction-1.2\"><span class=\"toc-item-num\">1.2&nbsp;&nbsp;</span>Backward induction</a></span><ul class=\"toc-item\"><li><span><a href=\"#Summary\" data-toc-modified-id=\"Summary-1.2.1\"><span class=\"toc-item-num\">1.2.1&nbsp;&nbsp;</span>Summary</a></span></li></ul></li><li><span><a href=\"#Implementation\" data-toc-modified-id=\"Implementation-1.3\"><span class=\"toc-item-num\">1.3&nbsp;&nbsp;</span>Implementation</a></span></li><li><span><a href=\"#Numerical-example\" data-toc-modified-id=\"Numerical-example-1.4\"><span class=\"toc-item-num\">1.4&nbsp;&nbsp;</span>Numerical example</a></span><ul class=\"toc-item\"><li><span><a href=\"#Analyzing-and-visualizing-optimal-plan\" data-toc-modified-id=\"Analyzing-and-visualizing-optimal-plan-1.4.1\"><span class=\"toc-item-num\">1.4.1&nbsp;&nbsp;</span>Analyzing and visualizing optimal plan</a></span></li><li><span><a href=\"#Exercise\" data-toc-modified-id=\"Exercise-1.4.2\"><span class=\"toc-item-num\">1.4.2&nbsp;&nbsp;</span>Exercise</a></span></li></ul></li><li><span><a href=\"#Postscript\" data-toc-modified-id=\"Postscript-1.5\"><span class=\"toc-item-num\">1.5&nbsp;&nbsp;</span>Postscript</a></span></li></ul></li></ul></div>"
   ]
  },
  {
   "cell_type": "markdown",
   "id": "parallel-voltage",
   "metadata": {},
   "source": [
    "Preparado por [MachinaFantasma](https://phantomachine.github.io/)"
   ]
  },
  {
   "cell_type": "code",
   "execution_count": 1,
   "id": "confirmed-language",
   "metadata": {},
   "outputs": [],
   "source": [
    "import numpy as np\n",
    "import matplotlib.pyplot as plt\n",
    "from scipy import linalg\n",
    "\n",
    "%matplotlib inline"
   ]
  },
  {
   "cell_type": "markdown",
   "id": "decent-muscle",
   "metadata": {},
   "source": [
    "'*I remember the econometrics class that Tom taught. He said, \"In this course, we’re going to use\n",
    "a lot of linear and quadratic methods. I know many people think that’s not high-tech, but it put\n",
    "people on the moon, and that’s good enough for me*.\"'\n",
    "\n",
    "[Ellen McGrattan](http://users.econ.umn.edu/~erm/), interview with S. Bowmaker in [*The Art and Practice of Economic Research*](https://t.co/gO1GRkAFC5?amp=1)"
   ]
  },
  {
   "cell_type": "markdown",
   "id": "anonymous-boxing",
   "metadata": {},
   "source": [
    "# LQ Life-cycle accumulation"
   ]
  },
  {
   "cell_type": "markdown",
   "id": "excited-fireplace",
   "metadata": {},
   "source": [
    "This is an example of a life-cycle, optimal accumulation problem. \n",
    "\n",
    "By restricting to linear constraints and quadratic objective we have a very tractable class of optimal decision rules that are linear in the state variables.\n"
   ]
  },
  {
   "cell_type": "markdown",
   "id": "express-decimal",
   "metadata": {},
   "source": [
    "Consider a consumer who ranks sequences of consumption outcomes $\\{c_{t}\\}_{t=0}^{T}$ according to this preference function:\n",
    "\\begin{equation}\n",
    "\t\\sum_{t=0}^{T} \\beta^{t} U(C_{t}) + \\beta^{T+1}V_{T+1}(a_{T+1}),\n",
    "    \\label{eq: total payoff}\n",
    "\\end{equation}\n",
    "where the per-period utility of consumption is\n",
    "\\begin{equation}\n",
    "\tU(C_{t} ) = -(C_{t}  - c^{\\star})^{2}.\n",
    "    \\label{eq: flow payoff}\n",
    "\\end{equation}\n"
   ]
  },
  {
   "cell_type": "markdown",
   "id": "brave-clinic",
   "metadata": {},
   "source": [
    "The consumer seeks the maximal total payoff by varying her length-$(T+1)$ consumption sequence (plan)."
   ]
  },
  {
   "cell_type": "markdown",
   "id": "concrete-jewelry",
   "metadata": {},
   "source": [
    "Assume that $V_{T+1}(a_{T+1}) = -k(a_{T+1})^{2}$, where $k \\geq 0$ is some arbitrarily large number. \n",
    "\n",
    "This has an interpretation of a (quadratic) cost of bequething assets post mortem.\n",
    "\n"
   ]
  },
  {
   "cell_type": "markdown",
   "id": "written-march",
   "metadata": {},
   "source": [
    "Let us assume that\n",
    "\\begin{equation}\n",
    "    y_{t} = \\bar{y} + \\kappa_{1} t + \\kappa_{2} t^{\\kappa_{3}},\n",
    "\\label{eq: income process}\n",
    "\\end{equation}\n",
    "where the parameters $(\\kappa_{1}, \\kappa_{3} )$ are all strictly positive, $\\bar{y} \\geq 0$ and $\\kappa_{2} < 0$.\n",
    "\n",
    "We'll set $\\kappa_{3} = 2$."
   ]
  },
  {
   "cell_type": "markdown",
   "id": "cheap-carrier",
   "metadata": {},
   "source": [
    "**Remark**.\n",
    "\n",
    "* Setting $k \\geq 0$ is a useful device in life-cycle modelling for rationalizing positive and large amounts of assets held by retirees or people at the end of their life (see, e.g., Mariacristina de Nardi [here](http://darp.lse.ac.uk/papersdb/DeNardi_(REStud04).pdf) and [here](https://www.sciencedirect.com/science/article/pii/S0014292114001287).) \n",
    "\n",
    "    * This has the interpretation of a \"warm-glow\" bequest motive of the consumer: She or he derives payoff from leaving assets behind (i.e., bequest to an offspring).\n",
    "    \n",
    "    * The modelling trick here has a quantitative motive: It helps fit the end point of age-asset profile in life-cycle data better.\n",
    "\n",
    "* Note, if $k\\rightarrow \\infty$, then we are back to something similar to our selfish consumer who has no incentive to leave resources behind after their die.\n",
    "\n"
   ]
  },
  {
   "cell_type": "markdown",
   "id": "peripheral-break",
   "metadata": {},
   "source": [
    "The parameter $c^{\\star} \\in (0, \\infty)$ is an ideal, reference consumption point. The consumer discounts per period payoffs by discount factor $\\beta^{t} \\in (0,1]$. The consumer faces a sequence of budget constraints:\n",
    "\\begin{equation}\n",
    "    a_{t+1} + C_{t} = Ra_{t} + y_{t}, \\qquad t =0,1, ..., T,\n",
    "\\label{eq: sbc}\n",
    "\\end{equation}\n",
    "where $a_{t}$ is the consumer's asset position (positive/negative denotes saving/borrowing), $R > 1$ is some given gross return on the asset, and, $y_{t}$ is income-endowment. "
   ]
  },
  {
   "cell_type": "markdown",
   "id": "documented-stanley",
   "metadata": {},
   "source": [
    "**Solution**."
   ]
  },
  {
   "cell_type": "markdown",
   "id": "furnished-possession",
   "metadata": {},
   "source": [
    "Combining \\eqref{eq: sbc} and \\eqref{eq: income process} we have the sequence of budget constraints as\n",
    "\\begin{equation}\n",
    "    a_{t+1} = Ra_{t} + (\\bar{y} + \\kappa_{1} t + \\kappa_{2} t^{\\kappa_{3}}) - (C_{t} - c^{\\star}) - c^{\\star}.\n",
    "\\label{eq: sbc2}\n",
    "\\end{equation}"
   ]
  },
  {
   "cell_type": "markdown",
   "id": "extra-register",
   "metadata": {},
   "source": [
    "Given a choice outcome $C_{t} = c$, \\eqref{eq: sbc2} tells us that next period's asset outcome is conditional on state vector $x_{t} = (1, t, t^{\\kappa_{3}}, a_{t})$. Now when next period eventuates, the form of this problem repeats itself. Again, in next period, if the consumer takes another action $C_{t+1} = c'$, the continuation asset into $t+2$ depends again on state vector $x_{t+1}$. So on and so forth. Hence, a sufficient statistic about the location or position of the decision problem at the start of each date $t$ is the vector $x_{t}$."
   ]
  },
  {
   "cell_type": "markdown",
   "id": "coupled-knowing",
   "metadata": {},
   "source": [
    "If $\\kappa_{3} = 2$, then we have $(t+1)^{2} = 1 + 2t + t^{2}$."
   ]
  },
  {
   "cell_type": "markdown",
   "id": "timely-mount",
   "metadata": {},
   "source": [
    "**Note**: You could do all this below using scalar algebra and calculus. But we'll set things up more generally as a linear-quadratic program."
   ]
  },
  {
   "cell_type": "markdown",
   "id": "arranged-campbell",
   "metadata": {},
   "source": [
    "Give the grey suits in the creative department of your brain a call. They'll be able to see that \\eqref{eq: sbc2} can also be written out as a system of linear equations and hence a recursion:\n",
    "\\begin{equation*}\n",
    "    \\begin{split}\n",
    "        1         &= 1              \n",
    "        \\\\\n",
    "        (t+1)     &= 1 + (t)            \n",
    "        \\\\\n",
    "        (t+1)^{2} &= 1 + 2 \\times (t) + 1 \\times (t)^{2} \n",
    "        \\\\\n",
    "        a_{t+1}   &= (\\bar{y}-c^{\\star}) \\times 1 \n",
    "                        + \\kappa_{1} \\times (t) \n",
    "                        + \\kappa_{2} \\times (t)^{2} \n",
    "                    + R \\times a_{t}.\n",
    "    \\end{split}\n",
    "\\end{equation*}"
   ]
  },
  {
   "cell_type": "markdown",
   "id": "cultural-electric",
   "metadata": {},
   "source": [
    "If you existed in 1999, then you'd know to take the red pill, and enter this in matrix form:\n",
    "\\begin{equation}\n",
    "    \\left[\n",
    "        \\begin{matrix}\n",
    "        1 \\\\ t+1 \\\\ (t+1)^{2} \\\\ a_{t+1} \n",
    "        \\end{matrix}\n",
    "    \\right] =\n",
    "    \\left[\n",
    "        \\begin{matrix}\n",
    "        1 & 0 & 0 & 0 \\\\\n",
    "        1 & 1 & 0 & 0 \\\\\n",
    "        1 & 2 & 1 & 0 \\\\\n",
    "        \\bar{y}-c^{\\star} & \\kappa_{1} & \\kappa_{2} & R\n",
    "        \\end{matrix}\n",
    "    \\right]\n",
    "    \\left[\n",
    "        \\begin{matrix}\n",
    "        1 \\\\ t \\\\ t^{2} \\\\ a_{t} \n",
    "        \\end{matrix}\n",
    "    \\right]\n",
    "    +\n",
    "    \\left[\n",
    "        \\begin{matrix}\n",
    "        0 \\\\ 0 \\\\ 0 \\\\ -1\n",
    "        \\end{matrix}\n",
    "    \\right]\n",
    "    (C_{t} - c^{\\star}).\n",
    "    \\label{eq: sbc-sspace}\n",
    "\\end{equation}"
   ]
  },
  {
   "cell_type": "markdown",
   "id": "pediatric-record",
   "metadata": {},
   "source": [
    "**Fast takeaway**. \n",
    "\n",
    "1. We have just shown that we can re-write the controllable, non-homogeneous scalar difference equation \\eqref{eq: sbc2} in a state-space form:\n",
    "    \\begin{equation}\n",
    "        x_{t+1} = Ax_{t} + Bu_{t};\n",
    "        \\label{eq: sbc3-sspace}\n",
    "    \\end{equation}\n",
    "   where $u_{t}$ is our control variable.\n",
    "   \n",
    "2. Observe that the objective function \\eqref{eq: total payoff}, given assumption \\eqref{eq: flow payoff}, is quadratic. The constraints \\eqref{eq: sbc-sspace}, for each date $t$, are linear.\n"
   ]
  },
  {
   "cell_type": "markdown",
   "id": "purple-albany",
   "metadata": {},
   "source": [
    "## From sequence to recursive problem\n",
    "\n",
    "**Claim**. Bellman's principle of optimality allows us to rewrite this decision problem as:\n",
    "\\begin{equation}\n",
    "    %\\begin{split}\n",
    "    W_{t} (x_{t}) =\n",
    "    \\min_{u_{t}} \\left\\{\n",
    "                x_{t}^{\\text{T}} Q x_{t}\n",
    "                + u_{t}^{\\text{T}} R u_{t}\n",
    "                + 2 u_{t}^{\\text{T}} S x_{t}\n",
    "                + \\beta W_{t+1} (x_{t+1})\n",
    "        :\n",
    "        %\\right.\n",
    "        %\\\\\n",
    "        %&\n",
    "        %\\left.\n",
    "        x_{t+1} = Ax_{t} + Bu_{t}\n",
    "        \\right\\}\n",
    "    %\\end{split}\n",
    "    \\label{eq: bellman-lqdp}\n",
    "\\end{equation}\n",
    "and for the terminal valuation, we have \n",
    "\\begin{equation}\n",
    "    W_{T+1}(x_{T+1}) = x_{T+1}^{\\text{T}}P_{T+1}x_{T+1} \\equiv V_{T+1}(a_{T+1}).\n",
    "\\end{equation}"
   ]
  },
  {
   "cell_type": "markdown",
   "id": "super-vintage",
   "metadata": {},
   "source": [
    "Can you prove this?"
   ]
  },
  {
   "cell_type": "markdown",
   "id": "chinese-nitrogen",
   "metadata": {},
   "source": [
    "Eat your greens and do your linear algebra. Then you'll see that:\n",
    "\\begin{equation*}\n",
    "    Q = \\left[\n",
    "            \\begin{matrix}\n",
    "            0 & 0 & 0 & 0 \\\\\n",
    "            0 & 0 & 0 & 0 \\\\\n",
    "            0 & 0 & 0 & 0 \\\\\n",
    "            0 & 0 & 0 & 0\n",
    "            \\end{matrix}\n",
    "        \\right],\n",
    "        \\\n",
    "    R = 1, \n",
    "        \\\n",
    "    S = \\left[\n",
    "            \\begin{matrix}\n",
    "            0 & 0 & 0 & 0 \n",
    "            \\end{matrix}\n",
    "        \\right],\n",
    "        \\\n",
    "    P_{T+1} = \\left[\n",
    "            \\begin{matrix}\n",
    "            0 & 0 & 0 & 0 \\\\\n",
    "            0 & 0 & 0 & 0 \\\\\n",
    "            0 & 0 & 0 & 0 \\\\\n",
    "            0 & 0 & 0 & k\n",
    "            \\end{matrix}\n",
    "        \\right].\n",
    "\\end{equation*}"
   ]
  },
  {
   "cell_type": "markdown",
   "id": "unexpected-macro",
   "metadata": {},
   "source": [
    "## Backward induction \n",
    "\n",
    "**Stage $t = T$**: We have $W_{T+1}(x_{T+1}) = x_{T+1}^{\\text{T}}P_{T+1} x_{T+1}$. \n",
    "\n",
    "So Bellman's equation \\eqref{eq: bellman-lqdp} at this stage is\n",
    "\\begin{equation}\n",
    "    W_{T} (x_{T}) =\n",
    "    \\min_{u_{T}} \n",
    "        \\left\\{\n",
    "                x_{T}^{\\text{T}} Q x_{T}\n",
    "                + u_{T}^{\\text{T}} R u_{T}\n",
    "                + 2 u_{T}^{\\text{T}} S x_{T}\n",
    "                + \\beta (Ax_{T} + Bu_{T})^{\\text{T}}P_{T+1} (Ax_{T} + Bu_{T})\n",
    "        \\right\\}\n",
    "    \\label{eq: bellman-T}\n",
    "\\end{equation}"
   ]
  },
  {
   "cell_type": "markdown",
   "id": "european-thousand",
   "metadata": {},
   "source": [
    "The minimizer is \n",
    "\\begin{equation}\n",
    "    u_{T}^{\\ast} = F_{T} x_{T},\n",
    "    \\label{eq: regulator-T}\n",
    "\\end{equation}\n",
    "where $F_{T} = −(R + \\beta B^{\\text{T}}P_{T+1}B)^{-1}(\\beta B^{\\text{T}}P_{T+1}A + S)$."
   ]
  },
  {
   "cell_type": "markdown",
   "id": "tropical-storage",
   "metadata": {},
   "source": [
    "What is the value of this optimal response?\n",
    "\n",
    "Plug minimizer \\eqref{eq: regulator-T} into the objective function on the RHS of \\eqref{eq: bellman-T} to get\n",
    "\\begin{equation}\n",
    "W_{T}(x_{T}) = x_{T}^{\\text{T}}P_{T}x_{T}.\n",
    "\\label{value-T}\n",
    "\\end{equation}\n",
    "where\n",
    "\\begin{equation}\n",
    "P_{T} = Q−(\\beta B^{\\text{T}} P_{T+1} A  + S)^{\\text{T}}(R+ \\beta B^{\\text{T}}P_{T+1}B)^{-1}(\\beta B^{\\text{T}} P_{T+1} A  + S)+\\beta A^{\\text{T}}P_{T+1}A.\n",
    "\\label{value-T2}\n",
    "\\end{equation}\n",
    "\n",
    "Notice how this value function is also a quadratic form?\n",
    "\n",
    "If we can find the fixed point $P_{T}$ satisfying \\eqref{value-T2}, then we can compute value function $W_{T}$."
   ]
  },
  {
   "cell_type": "markdown",
   "id": "promising-yellow",
   "metadata": {},
   "source": [
    "Now step back by one stage."
   ]
  },
  {
   "cell_type": "markdown",
   "id": "gothic-variety",
   "metadata": {},
   "source": [
    "By induction, you can show that for each\n",
    "\n",
    "**Stage $t = T, T-1, ..., 0$**: Given $W_{t+1}(x_{t+1}) = x_{t+1}^{\\text{T}}P_{t+1}x_{t+1}$, we have\n",
    "\\begin{equation}\n",
    "    W_{t} (x_{t}) =\n",
    "    \\min_{u_{t}} \n",
    "        \\left\\{\n",
    "                x_{t}^{\\text{T}} Q x_{t}\n",
    "                + u_{t}^{\\text{T}} R u_{t}\n",
    "                + 2 u_{t}^{\\text{T}} S x_{t}\n",
    "                + \\beta (Ax_{t} + Bu_{t})^{\\text{T}}P_{t+1} (Ax_{t} + Bu_{t})\n",
    "        \\right\\}.\n",
    "    \\label{eq: bellman-t}\n",
    "\\end{equation}"
   ]
  },
  {
   "cell_type": "markdown",
   "id": "palestinian-cooperative",
   "metadata": {},
   "source": [
    "The optimal regulator (i.e., the minimizer) is a time-varying, linear function of the state vector: \n",
    "\\begin{equation}\n",
    "    u_{t}^{\\ast} = F_{t} x_{t},\n",
    "    \\label{eq: regulator-t}\n",
    "\\end{equation}\n",
    "where $F_{t} = −(R + \\beta B^{\\text{T}}P_{t+1}B)^{-1} (\\beta B^{\\text{T}}P_{t+1}A + S)$."
   ]
  },
  {
   "cell_type": "markdown",
   "id": "corrected-mumbai",
   "metadata": {},
   "source": [
    "What is the value of this optimal response?\n",
    "\n",
    "Plug minimizer \\eqref{eq: regulator-T} into the objective function on the RHS of \\eqref{eq: bellman-t} to get\n",
    "\\begin{equation}\n",
    "W_{t}(x_{t}) = x_{t}^{\\text{T}}P_{t}x_{t},\n",
    "\\label{value-t}\n",
    "\\end{equation}\n",
    "where\n",
    "\\begin{equation}\n",
    "P_{t} = Q−(\\beta B^{\\text{T}} P_{t+1} A  + S)^{\\text{T}}(R+ \\beta B^{\\text{T}}P_{t+1}B)^{-1}(\\beta B^{\\text{T}} P_{t+1} A  + S)+\\beta A^{\\text{T}}P_{t+1}A.\n",
    "\\label{value-t2}\n",
    "\\end{equation}\n",
    "\n",
    "Notice the recursivity of the form now?\n",
    "\n",
    "If we can calculate $P_{t}$ satisfying \\eqref{value-T2}, then we can compute value function $W_{t}$."
   ]
  },
  {
   "cell_type": "markdown",
   "id": "pregnant-front",
   "metadata": {},
   "source": [
    "### Summary\n",
    "\n",
    "Given terminal period payoff function indexed by $P_{T+1}$ (which we know), we can solve by backward induction using the recursion \\eqref{value-t2} and \\eqref{eq: regulator-t}.\n",
    "\n",
    "This yields a sequence $\\{ W_{t}, h_{t}: t = T, T-1, ..., 0 \\}$ of stage- and state-dependent (quadratic) value and (linear) decision functions, where each function is\n",
    "\n",
    "* $W: \\mathbb{N} \\times X \\rightarrow \\mathbb{R}$, where $W_{t}(x_{t}) := x_{t}^{\\text{T}}P_{t}x_{t}$;\n",
    "* $h: \\mathbb{N} \\times X \\rightarrow \\mathbb{R}$, where $h_{t}(x_{t}) := F_{t}x_{t}$;\n",
    "\n",
    "and $\\mathbb{N} \\ni t$ and $X \\ni x_{t}$."
   ]
  },
  {
   "cell_type": "markdown",
   "id": "altered-memorabilia",
   "metadata": {},
   "source": [
    "## Implementation"
   ]
  },
  {
   "cell_type": "markdown",
   "id": "threatened-delta",
   "metadata": {},
   "source": [
    "Here's our deterministic, quadratic-trend (non-asset) income process:"
   ]
  },
  {
   "cell_type": "code",
   "execution_count": 2,
   "id": "announced-window",
   "metadata": {},
   "outputs": [],
   "source": [
    "def y(t, ybar, κ1, κ2):\n",
    "    \"\"\"Exogenous and stylized hump-shaped income process\n",
    "    as a function of time/age, t\"\"\"\n",
    "    return ybar + κ1*t + κ2*t**2.0"
   ]
  },
  {
   "cell_type": "markdown",
   "id": "northern-evening",
   "metadata": {},
   "source": [
    "Applying the optimal control $u_{t}^{\\ast} = F_{t}x_{t}$ to the linear state-space model \\eqref{eq: sbc3-sspace}, we have the optimal trajectory of the state vector characterized by \n",
    "\\begin{equation}\n",
    "    x_{t+1} = g_{t}(x_{t}) := (A + BF_{t})x_{t}.\n",
    "\\end{equation}\n",
    "\n",
    "We code this up as:"
   ]
  },
  {
   "cell_type": "code",
   "execution_count": 3,
   "id": "killing-poultry",
   "metadata": {},
   "outputs": [],
   "source": [
    "def g(x, A, B, F):\n",
    "    \"\"\"Optimal transition map of x under optimal\n",
    "    regulator: u(t) = F(t)x(t)\"\"\"\n",
    "    x_next = (A + B@F)@x\n",
    "    return x_next"
   ]
  },
  {
   "cell_type": "markdown",
   "id": "subject-senate",
   "metadata": {},
   "source": [
    "This implements the matrix Riccatti recursion we saw in \\eqref{value-t2}:"
   ]
  },
  {
   "cell_type": "code",
   "execution_count": 4,
   "id": "narrow-hygiene",
   "metadata": {},
   "outputs": [],
   "source": [
    "def riccatti(P_next, β, A, B, Q, R, S):\n",
    "    \"\"\"Riccatti equation: A matrix-quadratic recursion.\n",
    "    Given continuation value P_{t+1}, get P_{t} and F_{t}.\n",
    "    Note: If A is a stable matrix, there is a unique long-run P!\"\"\"\n",
    "    cov = R + β*(B.T)@(P_next@B)\n",
    "    Z = β*(B.T)@(P_next@A) + S\n",
    "    # (-ve) of policy function\n",
    "    F = linalg.solve(cov, Z)    # A@x = B, x = np.linalg.inv(A)@B\n",
    "    # Value function (quadratic)\n",
    "    P = Q - (Z.T)@F + β*(A.T)@(P_next@A)\n",
    "    return P, -F"
   ]
  },
  {
   "cell_type": "markdown",
   "id": "experienced-cincinnati",
   "metadata": {},
   "source": [
    "**An aside**. For the reader familiar with the [Kalman filter](https://medium.com/analytics-vidhya/the-kalman-filter-intuition-history-and-mathematical-derivation-64abf87bf7c9), you will see a similar recursion derived in the Kalman optimal projection problem. The Kalman filter is often used in forward projections or backward smoothing in linear, Gaussian hidden Markov models of time-series statistics. This was originally stuff designed for rocket science and the research was financed by the U.S. Air Force in the 1950s."
   ]
  },
  {
   "cell_type": "markdown",
   "id": "coastal-deployment",
   "metadata": {},
   "source": [
    "Now, our backward-induction algorithm:"
   ]
  },
  {
   "cell_type": "code",
   "execution_count": 5,
   "id": "welcome-dispute",
   "metadata": {},
   "outputs": [],
   "source": [
    "def lq_backsolve(T, P_next, β, A, B, Q, R, S):\n",
    "    \"\"\"Solve finite-horizon, deterministic LQ program\n",
    "    with horizon T, given DP model (β, A, B, Q, R, S)\n",
    "    and terminal stage valuation quadratic matrix, P_next.\"\"\"\n",
    "    P_list = []\n",
    "    F_list = []\n",
    "    P_next = P_terminal\n",
    "    for t in range(T, -1, -1):\n",
    "        # Evaluate stage-t value and policy functions\n",
    "        P, F = riccatti(P_next, β, A, B, Q, R, S)\n",
    "        # Store these\n",
    "        P_list.append(P) # P_t\n",
    "        F_list.append(F) # F_t\n",
    "        # Step backward again\n",
    "        P_next = P\n",
    "    # Sort in ascending t order\n",
    "    P_list = P_list[::-1]\n",
    "    F_list = F_list[::-1]\n",
    "    return P_list, F_list"
   ]
  },
  {
   "cell_type": "markdown",
   "id": "spatial-affect",
   "metadata": {},
   "source": [
    "## Numerical example"
   ]
  },
  {
   "cell_type": "markdown",
   "id": "passive-economy",
   "metadata": {},
   "source": [
    "Let's parametrize the model:"
   ]
  },
  {
   "cell_type": "code",
   "execution_count": 6,
   "id": "entitled-alaska",
   "metadata": {},
   "outputs": [],
   "source": [
    "# Exogenous gross real return on asset\n",
    "RR = 1.05\n",
    "# Subjective discount factor\n",
    "β = 1/RR\n",
    "# Life-cycle horizon\n",
    "T = 44\n",
    "# Ideal consumption level\n",
    "cstar = 2.0\n",
    "# Warm-glow scale (cost)\n",
    "k = 1e6\n",
    "# Exogenous income process/trend\n",
    "ybar = 0.0                    # intercept coeff\n",
    "κ1 = (T)/((T)/2.0)**2.0           # linear trend coeff\n",
    "κ2 = -1.0/((T)/2.0)**2.0        # quadratic trend coeff"
   ]
  },
  {
   "cell_type": "markdown",
   "id": "academic-special",
   "metadata": {},
   "source": [
    "Here's a peek at our deterministic (non-asset) income path of the consumer's lifecycle:"
   ]
  },
  {
   "cell_type": "code",
   "execution_count": 7,
   "id": "ahead-development",
   "metadata": {
    "scrolled": false
   },
   "outputs": [
    {
     "data": {
      "image/png": "[encoded data removed]",
      "text/plain": [
       "<Figure size 432x288 with 1 Axes>"
      ]
     },
     "metadata": {
      "needs_background": "light"
     },
     "output_type": "display_data"
    }
   ],
   "source": [
    "plt.figure()\n",
    "t_range = np.arange(T+1)\n",
    "y_range = y(t_range, ybar, κ1, κ2)\n",
    "plt.plot(t_range, y_range, 'o')\n",
    "plt.xlabel('Age, $t$')\n",
    "plt.ylabel('$y_{t}$')\n",
    "plt.title('Non-asset Income over life cycle')\n",
    "plt.show()"
   ]
  },
  {
   "cell_type": "markdown",
   "id": "original-chapel",
   "metadata": {},
   "source": [
    "The income-age profile is an inverted-U or hump shaped path. This what is typically observed in microdata at the household level, when we sort individuals by their age groups."
   ]
  },
  {
   "cell_type": "markdown",
   "id": "fallen-detection",
   "metadata": {},
   "source": [
    "Let's define the arrays making up our controllable linear state-space form \\eqref{eq: sbc-sspace} of the recursive budget constraint:"
   ]
  },
  {
   "cell_type": "code",
   "execution_count": 8,
   "id": "protective-swiss",
   "metadata": {},
   "outputs": [],
   "source": [
    "# Linear: Constraint\n",
    "A = np.array([[1.,          0.,  0., 0. ],\n",
    "              [1.,          1.,  0., 0. ],\n",
    "              [1.,          2.,  1., 0. ],\n",
    "              [ybar-cstar,  κ1,  κ2, RR ]])\n",
    "\n",
    "B = np.atleast_2d([0., 0., 0., -1.]).T"
   ]
  },
  {
   "cell_type": "markdown",
   "id": "potential-model",
   "metadata": {},
   "source": [
    "Now let's set up the matrices defining our objective function in \\eqref{eq: bellman-lqdp}:"
   ]
  },
  {
   "cell_type": "code",
   "execution_count": 9,
   "id": "funded-excess",
   "metadata": {},
   "outputs": [],
   "source": [
    "# Quadratic: Objective\n",
    "Q = np.zeros((4,4))\n",
    "R = 1.0\n",
    "S = np.zeros((1,4))\n",
    "\n",
    "# Terminal stage payoff function (quadratic matrix)\n",
    "P_terminal = Q.copy()\n",
    "P_terminal[-1,-1] = k"
   ]
  },
  {
   "cell_type": "markdown",
   "id": "actual-branch",
   "metadata": {},
   "source": [
    "Pass these model elements to the backward-induction algorithm:"
   ]
  },
  {
   "cell_type": "code",
   "execution_count": 10,
   "id": "partial-supervisor",
   "metadata": {},
   "outputs": [],
   "source": [
    "PT, FT = lq_backsolve(T, P_terminal, β, A, B, Q, R, S)"
   ]
  },
  {
   "cell_type": "markdown",
   "id": "empty-culture",
   "metadata": {},
   "source": [
    "The output consists of the sequence of matrices defining the value and optimal regulation functions $\\{P_{t}, F_{t}\\}_{t=0}^{T} \\Rightarrow \\{W_{t}, h_{t}\\}_{t=0}^{T}$."
   ]
  },
  {
   "cell_type": "markdown",
   "id": "meaning-damages",
   "metadata": {},
   "source": [
    "### Analyzing and visualizing optimal plan"
   ]
  },
  {
   "cell_type": "markdown",
   "id": "natural-decimal",
   "metadata": {},
   "source": [
    "This code below starts off the decision problem with a consumer that has zero initial assets $a_{0} = 0$.\n",
    "\n",
    "It then loops over the agent's lifetime, with age indexed by $t = 0, 1, ..., T$.\n",
    "\n",
    "For each age/date $t$, the agent uses the optimal control rule $h_{t}$ to select her best consumption outcome as a function of the date and state.\n",
    "\n",
    "This also induces a corresponding optimal transition in the asset level via mapping $g_{t}$.\n",
    "\n",
    "We record the outcomes for each date $t$ using Python lists:"
   ]
  },
  {
   "cell_type": "code",
   "execution_count": 11,
   "id": "monetary-washer",
   "metadata": {},
   "outputs": [],
   "source": [
    "# Initial state with some positive initial asset balance\n",
    "# Recall x_{t} = (1, t, t^2, a_{t})\n",
    "x0 = np.atleast_2d([1., 0., 0., 0.0]).T  \n",
    "\n",
    "# Simulate path\n",
    "x = x0.copy()\n",
    "asset = []\n",
    "asset.append(x[-1])\n",
    "consumption = []\n",
    "for t in range(T):\n",
    "    # Evaluate optimal transition map\n",
    "    x_next = g(x, A, B, FT[t])\n",
    "    # Store asset outcome\n",
    "    asset.append(x_next[-1])\n",
    "    # Optimal control rule: consumption outcome, store\n",
    "    consumption.append(cstar + FT[t]@x)\n",
    "    # Update history of state outcomes\n",
    "    x = x_next\n",
    "# Flatten into 1D numpy arrays\n",
    "asset = np.asarray(asset).ravel()\n",
    "consumption = np.asarray(consumption).ravel()"
   ]
  },
  {
   "cell_type": "markdown",
   "id": "copyrighted-patch",
   "metadata": {},
   "source": [
    "Let's visualize the age profile of the optimal consumption plan against the lifetime non-asset income:"
   ]
  },
  {
   "cell_type": "code",
   "execution_count": 12,
   "id": "crazy-colon",
   "metadata": {
    "scrolled": false
   },
   "outputs": [
    {
     "data": {
      "image/png": "[encoded data removed]",
      "text/plain": [
       "<Figure size 432x288 with 1 Axes>"
      ]
     },
     "metadata": {
      "needs_background": "light"
     },
     "output_type": "display_data"
    }
   ],
   "source": [
    "plt.figure()\n",
    "# Non-asset income profile\n",
    "t_range = np.arange(T)\n",
    "y_range = y(t_range, ybar, κ1, κ2)\n",
    "plt.plot(t_range, y_range, 'o', label='$y_{t}$')\n",
    "# Consumption profile\n",
    "plt.plot(t_range, consumption, '--', label='$C_{t}$')\n",
    "plt.xlabel('Age, $t$')\n",
    "plt.title('Non-asset income and consumption over life cycle')\n",
    "plt.legend()\n",
    "plt.show()"
   ]
  },
  {
   "cell_type": "markdown",
   "id": "united-synthesis",
   "metadata": {},
   "source": [
    "Her optimal consumption path is *smooth*.\n",
    "\n",
    "**The fast-living years.** Notice how she is consuming more than her non-asset income each period for some initial years?\n",
    "\n",
    "That means she must be borrowing. \n",
    "\n",
    "**Mid-life saving**. But her sequence of budget constraints must add up to imply a solvent intertemporal saving/borrowing-consumption plan. (Do the algebra and you can show this argument!) So she would have to start saving around middle age. This saving is optimally spread to cover dissaving in the initial and the latter years.\n",
    "\n",
    "\n",
    "**Twilight is the loneliest time of day.** As she gets on in life, her income profile is falling (by assumption). We know the agent dislikes too much deviation of consumption from her ideal point $c^{\\star}$. So she is optimally smoothing consumption. That means she has to dissave towards the end of her economic-actor life."
   ]
  },
  {
   "cell_type": "markdown",
   "id": "standing-division",
   "metadata": {},
   "source": [
    "On the flipside of the consumer's budget constraint, we can also work out her asset position.\n",
    "\n",
    "Here, we plot the path of date-$t$ *initial* asset positions."
   ]
  },
  {
   "cell_type": "code",
   "execution_count": 13,
   "id": "acute-syndicate",
   "metadata": {
    "scrolled": false
   },
   "outputs": [
    {
     "data": {
      "image/png": "[encoded data removed]",
      "text/plain": [
       "<Figure size 432x288 with 1 Axes>"
      ]
     },
     "metadata": {
      "needs_background": "light"
     },
     "output_type": "display_data"
    }
   ],
   "source": [
    "plt.figure()\n",
    "# Asset profile\n",
    "t1_range = np.arange(asset.size)\n",
    "plt.plot(t1_range, asset, '--o')\n",
    "plt.plot(t1_range, np.zeros(t1_range.size), '-r', alpha=0.1)\n",
    "# Finer x-tick labels\n",
    "# plt.xticks(t1_range)\n",
    "plt.xlabel('Age, $t$')\n",
    "plt.ylabel('$a_{t}$')\n",
    "plt.title('Initial asset position over life cycle')\n",
    "plt.show()"
   ]
  },
  {
   "cell_type": "markdown",
   "id": "iraqi-newman",
   "metadata": {},
   "source": [
    "Now we can also verify that if $k$ is very large the terminal stage consumption is (approximately) the same as initial (non-asset plus asset) income:"
   ]
  },
  {
   "cell_type": "code",
   "execution_count": 14,
   "id": "meaningful-toronto",
   "metadata": {},
   "outputs": [],
   "source": [
    "# Terminal consumption\n",
    "C_terminal = consumption[-1]"
   ]
  },
  {
   "cell_type": "code",
   "execution_count": 15,
   "id": "demanding-honor",
   "metadata": {},
   "outputs": [],
   "source": [
    "# Terminal income\n",
    "Y_terminal = RR*asset[-1] + y(T, ybar, κ1, κ2)"
   ]
  },
  {
   "cell_type": "markdown",
   "id": "worthy-replication",
   "metadata": {},
   "source": [
    "So post-mortem initial asset $a_{T+1}$ is ..."
   ]
  },
  {
   "cell_type": "code",
   "execution_count": 16,
   "id": "novel-tradition",
   "metadata": {},
   "outputs": [
    {
     "data": {
      "text/plain": [
       "-1.4693191954240348e-06"
      ]
     },
     "execution_count": 16,
     "metadata": {},
     "output_type": "execute_result"
    }
   ],
   "source": [
    "Y_terminal - C_terminal"
   ]
  },
  {
   "cell_type": "markdown",
   "id": "loving-beaver",
   "metadata": {},
   "source": [
    "### Exercise"
   ]
  },
  {
   "cell_type": "markdown",
   "id": "dated-fairy",
   "metadata": {},
   "source": [
    "1. Show that the terminal period optimal consumption in this model has this exact formula:\n",
    "    \\begin{equation*}\n",
    "        C_{T} = \\frac{\\beta k}{1 + \\beta k}\n",
    "                \\left( R a_{T} + y_{T} \\right).\n",
    "    \\end{equation*}\n",
    "    \n",
    "2. Then show that the indirect utility at the beginning of stage $t=T$ is\n",
    "    \\begin{equation*}\n",
    "        W_{T}(x_{T}) = \\frac{\\beta k}{1 + \\beta k}\n",
    "                \\left( \\bar{y} + \\kappa_{1} T + \\kappa_{2} T^{2} + R a_{T} \\right)^{2}.\n",
    "    \\end{equation*}\n",
    "    \n",
    "3. How does your answer in the last part relate to the matrix $P_{T}$?\n",
    "\n",
    "4. Now can you verify that if $k \\rightarrow \\infty$, $a_{T+1} \\rightarrow 0$?"
   ]
  },
  {
   "cell_type": "markdown",
   "id": "above-vinyl",
   "metadata": {},
   "source": [
    "## Postscript\n",
    "\n",
    "\n",
    "Additionally, if we extend this problem to include random shocks to income, for example, the solution can be viewed as a time-varying-parameter (TVP) linear, multiple-time-series stochastic process (also know as a TVP-VAR model amongst time-series econometricians)."
   ]
  }
 ],
 "metadata": {
  "kernelspec": {
   "display_name": "Python 3",
   "language": "python",
   "name": "python3"
  },
  "language_info": {
   "codemirror_mode": {
    "name": "ipython",
    "version": 3
   },
   "file_extension": ".py",
   "mimetype": "text/x-python",
   "name": "python",
   "nbconvert_exporter": "python",
   "pygments_lexer": "ipython3",
   "version": "3.6.12"
  },
  "latex_envs": {
   "LaTeX_envs_menu_present": true,
   "autoclose": false,
   "autocomplete": true,
   "bibliofile": "biblio.bib",
   "cite_by": "apalike",
   "current_citInitial": 1,
   "eqLabelWithNumbers": true,
   "eqNumInitial": 1,
   "hotkeys": {
    "equation": "Ctrl-E",
    "itemize": "Ctrl-I"
   },
   "labels_anchors": false,
   "latex_user_defs": false,
   "report_style_numbering": false,
   "user_envs_cfg": false
  },
  "toc": {
   "base_numbering": 1,
   "nav_menu": {},
   "number_sections": true,
   "sideBar": true,
   "skip_h1_title": false,
   "title_cell": "Table of Contents",
   "title_sidebar": "Contents",
   "toc_cell": true,
   "toc_position": {
    "height": "calc(100% - 180px)",
    "left": "10px",
    "top": "150px",
    "width": "253.2px"
   },
   "toc_section_display": true,
   "toc_window_display": true
  }
 },
 "nbformat": 4,
 "nbformat_minor": 5
}
